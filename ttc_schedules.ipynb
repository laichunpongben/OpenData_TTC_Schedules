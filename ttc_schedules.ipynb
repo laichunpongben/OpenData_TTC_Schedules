{
 "cells": [
  {
   "cell_type": "code",
   "execution_count": 1,
   "metadata": {
    "collapsed": true
   },
   "outputs": [],
   "source": [
    "import sqlite3\n",
    "import pandas as pd\n",
    "from IPython.display import display\n",
    "from plotly.graph_objs import Bar, Scatter, Marker, Layout\n",
    "from plotly.offline import download_plotlyjs, init_notebook_mode, plot, iplot"
   ]
  },
  {
   "cell_type": "code",
   "execution_count": 2,
   "metadata": {
    "collapsed": false
   },
   "outputs": [
    {
     "data": {
      "text/html": [
       "<div>\n",
       "<table border=\"1\" class=\"dataframe\">\n",
       "  <thead>\n",
       "    <tr style=\"text-align: right;\">\n",
       "      <th></th>\n",
       "      <th>agency_id</th>\n",
       "      <th>agency_name</th>\n",
       "      <th>agency_url</th>\n",
       "      <th>agency_timezone</th>\n",
       "      <th>agency_lang</th>\n",
       "      <th>agency_phone</th>\n",
       "      <th>agency_fare_url</th>\n",
       "    </tr>\n",
       "  </thead>\n",
       "  <tbody>\n",
       "    <tr>\n",
       "      <th>0</th>\n",
       "      <td>1</td>\n",
       "      <td>TTC</td>\n",
       "      <td>http://www.ttc.ca</td>\n",
       "      <td>America/Toronto</td>\n",
       "      <td>en</td>\n",
       "      <td>416-393-4636</td>\n",
       "      <td></td>\n",
       "    </tr>\n",
       "  </tbody>\n",
       "</table>\n",
       "</div>"
      ],
      "text/plain": [
       "  agency_id agency_name         agency_url  agency_timezone agency_lang  \\\n",
       "0         1         TTC  http://www.ttc.ca  America/Toronto          en   \n",
       "\n",
       "   agency_phone agency_fare_url  \n",
       "0  416-393-4636                  "
      ]
     },
     "metadata": {},
     "output_type": "display_data"
    }
   ],
   "source": [
    "conn = sqlite3.connect('ttc_schedules.db')\n",
    "display(pd.read_sql('SELECT * FROM agency LIMIT 100', conn).head())"
   ]
  },
  {
   "cell_type": "code",
   "execution_count": 3,
   "metadata": {
    "collapsed": false
   },
   "outputs": [
    {
     "data": {
      "text/html": [
       "<div>\n",
       "<table border=\"1\" class=\"dataframe\">\n",
       "  <thead>\n",
       "    <tr style=\"text-align: right;\">\n",
       "      <th></th>\n",
       "      <th>service_id</th>\n",
       "      <th>date</th>\n",
       "      <th>exception_type</th>\n",
       "    </tr>\n",
       "  </thead>\n",
       "  <tbody>\n",
       "    <tr>\n",
       "      <th>0</th>\n",
       "      <td>4</td>\n",
       "      <td>20170522</td>\n",
       "      <td>1</td>\n",
       "    </tr>\n",
       "    <tr>\n",
       "      <th>1</th>\n",
       "      <td>1</td>\n",
       "      <td>20170522</td>\n",
       "      <td>2</td>\n",
       "    </tr>\n",
       "  </tbody>\n",
       "</table>\n",
       "</div>"
      ],
      "text/plain": [
       "  service_id      date exception_type\n",
       "0          4  20170522              1\n",
       "1          1  20170522              2"
      ]
     },
     "metadata": {},
     "output_type": "display_data"
    }
   ],
   "source": [
    "display(pd.read_sql('SELECT * FROM calendar_dates LIMIT 100', conn).head())"
   ]
  },
  {
   "cell_type": "code",
   "execution_count": 4,
   "metadata": {
    "collapsed": false
   },
   "outputs": [
    {
     "data": {
      "text/html": [
       "<div>\n",
       "<table border=\"1\" class=\"dataframe\">\n",
       "  <thead>\n",
       "    <tr style=\"text-align: right;\">\n",
       "      <th></th>\n",
       "      <th>service_id</th>\n",
       "      <th>monday</th>\n",
       "      <th>tuesday</th>\n",
       "      <th>wednesday</th>\n",
       "      <th>thursday</th>\n",
       "      <th>friday</th>\n",
       "      <th>saturday</th>\n",
       "      <th>sunday</th>\n",
       "      <th>start_date</th>\n",
       "      <th>end_date</th>\n",
       "    </tr>\n",
       "  </thead>\n",
       "  <tbody>\n",
       "    <tr>\n",
       "      <th>0</th>\n",
       "      <td>1</td>\n",
       "      <td>1</td>\n",
       "      <td>1</td>\n",
       "      <td>1</td>\n",
       "      <td>1</td>\n",
       "      <td>1</td>\n",
       "      <td>0</td>\n",
       "      <td>0</td>\n",
       "      <td>20170507</td>\n",
       "      <td>20170617</td>\n",
       "    </tr>\n",
       "    <tr>\n",
       "      <th>1</th>\n",
       "      <td>2</td>\n",
       "      <td>0</td>\n",
       "      <td>0</td>\n",
       "      <td>0</td>\n",
       "      <td>0</td>\n",
       "      <td>0</td>\n",
       "      <td>1</td>\n",
       "      <td>0</td>\n",
       "      <td>20170507</td>\n",
       "      <td>20170617</td>\n",
       "    </tr>\n",
       "    <tr>\n",
       "      <th>2</th>\n",
       "      <td>3</td>\n",
       "      <td>0</td>\n",
       "      <td>0</td>\n",
       "      <td>0</td>\n",
       "      <td>0</td>\n",
       "      <td>0</td>\n",
       "      <td>0</td>\n",
       "      <td>1</td>\n",
       "      <td>20170507</td>\n",
       "      <td>20170617</td>\n",
       "    </tr>\n",
       "    <tr>\n",
       "      <th>3</th>\n",
       "      <td>4</td>\n",
       "      <td>0</td>\n",
       "      <td>0</td>\n",
       "      <td>0</td>\n",
       "      <td>0</td>\n",
       "      <td>0</td>\n",
       "      <td>0</td>\n",
       "      <td>0</td>\n",
       "      <td>20170507</td>\n",
       "      <td>20170617</td>\n",
       "    </tr>\n",
       "    <tr>\n",
       "      <th>4</th>\n",
       "      <td>401</td>\n",
       "      <td>0</td>\n",
       "      <td>0</td>\n",
       "      <td>0</td>\n",
       "      <td>0</td>\n",
       "      <td>0</td>\n",
       "      <td>0</td>\n",
       "      <td>0</td>\n",
       "      <td>20170507</td>\n",
       "      <td>20170617</td>\n",
       "    </tr>\n",
       "  </tbody>\n",
       "</table>\n",
       "</div>"
      ],
      "text/plain": [
       "  service_id monday tuesday wednesday thursday friday saturday sunday  \\\n",
       "0          1      1       1         1        1      1        0      0   \n",
       "1          2      0       0         0        0      0        1      0   \n",
       "2          3      0       0         0        0      0        0      1   \n",
       "3          4      0       0         0        0      0        0      0   \n",
       "4        401      0       0         0        0      0        0      0   \n",
       "\n",
       "  start_date  end_date  \n",
       "0   20170507  20170617  \n",
       "1   20170507  20170617  \n",
       "2   20170507  20170617  \n",
       "3   20170507  20170617  \n",
       "4   20170507  20170617  "
      ]
     },
     "metadata": {},
     "output_type": "display_data"
    }
   ],
   "source": [
    "display(pd.read_sql('SELECT * FROM calendar LIMIT 100', conn).head())"
   ]
  },
  {
   "cell_type": "code",
   "execution_count": 5,
   "metadata": {
    "collapsed": false
   },
   "outputs": [
    {
     "data": {
      "text/html": [
       "<div>\n",
       "<table border=\"1\" class=\"dataframe\">\n",
       "  <thead>\n",
       "    <tr style=\"text-align: right;\">\n",
       "      <th></th>\n",
       "      <th>route_id</th>\n",
       "      <th>agency_id</th>\n",
       "      <th>route_short_name</th>\n",
       "      <th>route_long_name</th>\n",
       "      <th>route_desc</th>\n",
       "      <th>route_type</th>\n",
       "      <th>route_url</th>\n",
       "      <th>route_color</th>\n",
       "      <th>route_text_color</th>\n",
       "    </tr>\n",
       "  </thead>\n",
       "  <tbody>\n",
       "    <tr>\n",
       "      <th>0</th>\n",
       "      <td>50980</td>\n",
       "      <td>1</td>\n",
       "      <td>1</td>\n",
       "      <td>LINE 1 (YONGE-UNIVERSITY)</td>\n",
       "      <td></td>\n",
       "      <td>1</td>\n",
       "      <td></td>\n",
       "      <td>D5C82B</td>\n",
       "      <td>000000</td>\n",
       "    </tr>\n",
       "    <tr>\n",
       "      <th>1</th>\n",
       "      <td>50981</td>\n",
       "      <td>1</td>\n",
       "      <td>10</td>\n",
       "      <td>VAN HORNE</td>\n",
       "      <td></td>\n",
       "      <td>3</td>\n",
       "      <td></td>\n",
       "      <td>804000</td>\n",
       "      <td>FFFFFF</td>\n",
       "    </tr>\n",
       "    <tr>\n",
       "      <th>2</th>\n",
       "      <td>50982</td>\n",
       "      <td>1</td>\n",
       "      <td>100</td>\n",
       "      <td>FLEMINGDON PARK</td>\n",
       "      <td></td>\n",
       "      <td>3</td>\n",
       "      <td></td>\n",
       "      <td>FF00FF</td>\n",
       "      <td>FFFFFF</td>\n",
       "    </tr>\n",
       "    <tr>\n",
       "      <th>3</th>\n",
       "      <td>50983</td>\n",
       "      <td>1</td>\n",
       "      <td>101</td>\n",
       "      <td>DOWNSVIEW PARK</td>\n",
       "      <td></td>\n",
       "      <td>3</td>\n",
       "      <td></td>\n",
       "      <td>00FF00</td>\n",
       "      <td>FFFFFF</td>\n",
       "    </tr>\n",
       "    <tr>\n",
       "      <th>4</th>\n",
       "      <td>50984</td>\n",
       "      <td>1</td>\n",
       "      <td>102</td>\n",
       "      <td>MARKHAM RD</td>\n",
       "      <td></td>\n",
       "      <td>3</td>\n",
       "      <td></td>\n",
       "      <td>00FF00</td>\n",
       "      <td>FFFFFF</td>\n",
       "    </tr>\n",
       "  </tbody>\n",
       "</table>\n",
       "</div>"
      ],
      "text/plain": [
       "  route_id agency_id route_short_name            route_long_name route_desc  \\\n",
       "0    50980         1                1  LINE 1 (YONGE-UNIVERSITY)              \n",
       "1    50981         1               10                  VAN HORNE              \n",
       "2    50982         1              100            FLEMINGDON PARK              \n",
       "3    50983         1              101             DOWNSVIEW PARK              \n",
       "4    50984         1              102                 MARKHAM RD              \n",
       "\n",
       "  route_type route_url route_color route_text_color  \n",
       "0          1                D5C82B           000000  \n",
       "1          3                804000           FFFFFF  \n",
       "2          3                FF00FF           FFFFFF  \n",
       "3          3                00FF00           FFFFFF  \n",
       "4          3                00FF00           FFFFFF  "
      ]
     },
     "metadata": {},
     "output_type": "display_data"
    }
   ],
   "source": [
    "display(pd.read_sql('SELECT * FROM routes LIMIT 100', conn).head())"
   ]
  },
  {
   "cell_type": "code",
   "execution_count": 6,
   "metadata": {
    "collapsed": false
   },
   "outputs": [
    {
     "data": {
      "text/html": [
       "<div>\n",
       "<table border=\"1\" class=\"dataframe\">\n",
       "  <thead>\n",
       "    <tr style=\"text-align: right;\">\n",
       "      <th></th>\n",
       "      <th>shape_id</th>\n",
       "      <th>shape_pt_lat</th>\n",
       "      <th>shape_pt_lon</th>\n",
       "      <th>shape_pt_sequence</th>\n",
       "      <th>shape_dist_traveled</th>\n",
       "    </tr>\n",
       "  </thead>\n",
       "  <tbody>\n",
       "    <tr>\n",
       "      <th>0</th>\n",
       "      <td>669373</td>\n",
       "      <td>43.780757</td>\n",
       "      <td>-79.416009</td>\n",
       "      <td>1</td>\n",
       "      <td>0.0000</td>\n",
       "    </tr>\n",
       "    <tr>\n",
       "      <th>1</th>\n",
       "      <td>669373</td>\n",
       "      <td>43.779716</td>\n",
       "      <td>-79.415773</td>\n",
       "      <td>2</td>\n",
       "      <td>0.1174</td>\n",
       "    </tr>\n",
       "    <tr>\n",
       "      <th>2</th>\n",
       "      <td>669373</td>\n",
       "      <td>43.778627</td>\n",
       "      <td>-79.415483</td>\n",
       "      <td>3</td>\n",
       "      <td>0.2407</td>\n",
       "    </tr>\n",
       "    <tr>\n",
       "      <th>3</th>\n",
       "      <td>669373</td>\n",
       "      <td>43.777836</td>\n",
       "      <td>-79.415284</td>\n",
       "      <td>4</td>\n",
       "      <td>0.3302</td>\n",
       "    </tr>\n",
       "    <tr>\n",
       "      <th>4</th>\n",
       "      <td>669373</td>\n",
       "      <td>43.776891</td>\n",
       "      <td>-79.415046</td>\n",
       "      <td>5</td>\n",
       "      <td>0.4379</td>\n",
       "    </tr>\n",
       "  </tbody>\n",
       "</table>\n",
       "</div>"
      ],
      "text/plain": [
       "  shape_id shape_pt_lat shape_pt_lon shape_pt_sequence shape_dist_traveled\n",
       "0   669373    43.780757   -79.416009                 1              0.0000\n",
       "1   669373    43.779716   -79.415773                 2              0.1174\n",
       "2   669373    43.778627   -79.415483                 3              0.2407\n",
       "3   669373    43.777836   -79.415284                 4              0.3302\n",
       "4   669373    43.776891   -79.415046                 5              0.4379"
      ]
     },
     "metadata": {},
     "output_type": "display_data"
    }
   ],
   "source": [
    "display(pd.read_sql('SELECT * FROM shapes LIMIT 100', conn).head())"
   ]
  },
  {
   "cell_type": "code",
   "execution_count": 7,
   "metadata": {
    "collapsed": false
   },
   "outputs": [
    {
     "data": {
      "text/html": [
       "<div>\n",
       "<table border=\"1\" class=\"dataframe\">\n",
       "  <thead>\n",
       "    <tr style=\"text-align: right;\">\n",
       "      <th></th>\n",
       "      <th>trip_id</th>\n",
       "      <th>arrival_time</th>\n",
       "      <th>departure_time</th>\n",
       "      <th>stop_id</th>\n",
       "      <th>stop_sequence</th>\n",
       "      <th>stop_headsign</th>\n",
       "      <th>pickup_type</th>\n",
       "      <th>drop_off_type</th>\n",
       "      <th>shape_dist_traveled</th>\n",
       "    </tr>\n",
       "  </thead>\n",
       "  <tbody>\n",
       "    <tr>\n",
       "      <th>0</th>\n",
       "      <td>34597099</td>\n",
       "      <td>6:02:48</td>\n",
       "      <td>6:02:48</td>\n",
       "      <td>14420</td>\n",
       "      <td>1</td>\n",
       "      <td></td>\n",
       "      <td>0</td>\n",
       "      <td>0</td>\n",
       "      <td></td>\n",
       "    </tr>\n",
       "    <tr>\n",
       "      <th>1</th>\n",
       "      <td>34597099</td>\n",
       "      <td>6:04:28</td>\n",
       "      <td>6:04:28</td>\n",
       "      <td>14421</td>\n",
       "      <td>2</td>\n",
       "      <td></td>\n",
       "      <td>0</td>\n",
       "      <td>0</td>\n",
       "      <td>0.5880</td>\n",
       "    </tr>\n",
       "    <tr>\n",
       "      <th>2</th>\n",
       "      <td>34597099</td>\n",
       "      <td>6:05:40</td>\n",
       "      <td>6:05:40</td>\n",
       "      <td>14422</td>\n",
       "      <td>3</td>\n",
       "      <td></td>\n",
       "      <td>0</td>\n",
       "      <td>0</td>\n",
       "      <td>1.0117</td>\n",
       "    </tr>\n",
       "    <tr>\n",
       "      <th>3</th>\n",
       "      <td>34597099</td>\n",
       "      <td>6:06:50</td>\n",
       "      <td>6:06:50</td>\n",
       "      <td>14423</td>\n",
       "      <td>4</td>\n",
       "      <td></td>\n",
       "      <td>0</td>\n",
       "      <td>0</td>\n",
       "      <td>1.4137</td>\n",
       "    </tr>\n",
       "    <tr>\n",
       "      <th>4</th>\n",
       "      <td>34597099</td>\n",
       "      <td>6:08:19</td>\n",
       "      <td>6:08:19</td>\n",
       "      <td>14424</td>\n",
       "      <td>5</td>\n",
       "      <td></td>\n",
       "      <td>0</td>\n",
       "      <td>0</td>\n",
       "      <td>2.0289</td>\n",
       "    </tr>\n",
       "  </tbody>\n",
       "</table>\n",
       "</div>"
      ],
      "text/plain": [
       "    trip_id arrival_time departure_time stop_id stop_sequence stop_headsign  \\\n",
       "0  34597099      6:02:48        6:02:48   14420             1                 \n",
       "1  34597099      6:04:28        6:04:28   14421             2                 \n",
       "2  34597099      6:05:40        6:05:40   14422             3                 \n",
       "3  34597099      6:06:50        6:06:50   14423             4                 \n",
       "4  34597099      6:08:19        6:08:19   14424             5                 \n",
       "\n",
       "  pickup_type drop_off_type shape_dist_traveled  \n",
       "0           0             0                      \n",
       "1           0             0              0.5880  \n",
       "2           0             0              1.0117  \n",
       "3           0             0              1.4137  \n",
       "4           0             0              2.0289  "
      ]
     },
     "metadata": {},
     "output_type": "display_data"
    }
   ],
   "source": [
    "display(pd.read_sql('SELECT * FROM stop_times LIMIT 100', conn).head())"
   ]
  },
  {
   "cell_type": "code",
   "execution_count": 8,
   "metadata": {
    "collapsed": false
   },
   "outputs": [
    {
     "data": {
      "text/html": [
       "<div>\n",
       "<table border=\"1\" class=\"dataframe\">\n",
       "  <thead>\n",
       "    <tr style=\"text-align: right;\">\n",
       "      <th></th>\n",
       "      <th>stop_id</th>\n",
       "      <th>stop_code</th>\n",
       "      <th>stop_name</th>\n",
       "      <th>stop_desc</th>\n",
       "      <th>stop_lat</th>\n",
       "      <th>stop_lon</th>\n",
       "      <th>zone_id</th>\n",
       "      <th>stop_url</th>\n",
       "      <th>location_type</th>\n",
       "      <th>parent_station</th>\n",
       "      <th>wheelchair_boarding</th>\n",
       "    </tr>\n",
       "  </thead>\n",
       "  <tbody>\n",
       "    <tr>\n",
       "      <th>0</th>\n",
       "      <td>262</td>\n",
       "      <td>662</td>\n",
       "      <td>DANFORTH RD AT KENNEDY RD</td>\n",
       "      <td></td>\n",
       "      <td>43.714395</td>\n",
       "      <td>-79.260962</td>\n",
       "      <td></td>\n",
       "      <td></td>\n",
       "      <td></td>\n",
       "      <td></td>\n",
       "      <td>2</td>\n",
       "    </tr>\n",
       "    <tr>\n",
       "      <th>1</th>\n",
       "      <td>263</td>\n",
       "      <td>929</td>\n",
       "      <td>DAVENPORT RD AT BEDFORD RD</td>\n",
       "      <td></td>\n",
       "      <td>43.674448</td>\n",
       "      <td>-79.399696</td>\n",
       "      <td></td>\n",
       "      <td></td>\n",
       "      <td></td>\n",
       "      <td></td>\n",
       "      <td>1</td>\n",
       "    </tr>\n",
       "    <tr>\n",
       "      <th>2</th>\n",
       "      <td>264</td>\n",
       "      <td>940</td>\n",
       "      <td>DAVENPORT RD AT DUPONT ST</td>\n",
       "      <td></td>\n",
       "      <td>43.67554</td>\n",
       "      <td>-79.40196</td>\n",
       "      <td></td>\n",
       "      <td></td>\n",
       "      <td></td>\n",
       "      <td></td>\n",
       "      <td>2</td>\n",
       "    </tr>\n",
       "    <tr>\n",
       "      <th>3</th>\n",
       "      <td>265</td>\n",
       "      <td>1871</td>\n",
       "      <td>DAVISVILLE AVE AT CLEVELAND ST</td>\n",
       "      <td></td>\n",
       "      <td>43.702096</td>\n",
       "      <td>-79.378146</td>\n",
       "      <td></td>\n",
       "      <td></td>\n",
       "      <td></td>\n",
       "      <td></td>\n",
       "      <td>1</td>\n",
       "    </tr>\n",
       "    <tr>\n",
       "      <th>4</th>\n",
       "      <td>266</td>\n",
       "      <td>11700</td>\n",
       "      <td>DISCO RD AT ATTWELL DR</td>\n",
       "      <td></td>\n",
       "      <td>43.701331</td>\n",
       "      <td>-79.594777</td>\n",
       "      <td></td>\n",
       "      <td></td>\n",
       "      <td></td>\n",
       "      <td></td>\n",
       "      <td>1</td>\n",
       "    </tr>\n",
       "  </tbody>\n",
       "</table>\n",
       "</div>"
      ],
      "text/plain": [
       "  stop_id stop_code                       stop_name stop_desc   stop_lat  \\\n",
       "0     262       662       DANFORTH RD AT KENNEDY RD            43.714395   \n",
       "1     263       929      DAVENPORT RD AT BEDFORD RD            43.674448   \n",
       "2     264       940       DAVENPORT RD AT DUPONT ST             43.67554   \n",
       "3     265      1871  DAVISVILLE AVE AT CLEVELAND ST            43.702096   \n",
       "4     266     11700          DISCO RD AT ATTWELL DR            43.701331   \n",
       "\n",
       "     stop_lon zone_id stop_url location_type parent_station  \\\n",
       "0  -79.260962                                                 \n",
       "1  -79.399696                                                 \n",
       "2   -79.40196                                                 \n",
       "3  -79.378146                                                 \n",
       "4  -79.594777                                                 \n",
       "\n",
       "  wheelchair_boarding  \n",
       "0                   2  \n",
       "1                   1  \n",
       "2                   2  \n",
       "3                   1  \n",
       "4                   1  "
      ]
     },
     "metadata": {},
     "output_type": "display_data"
    }
   ],
   "source": [
    "display(pd.read_sql('SELECT * FROM stops LIMIT 100', conn).head())"
   ]
  },
  {
   "cell_type": "code",
   "execution_count": 9,
   "metadata": {
    "collapsed": false
   },
   "outputs": [
    {
     "data": {
      "text/html": [
       "<div>\n",
       "<table border=\"1\" class=\"dataframe\">\n",
       "  <thead>\n",
       "    <tr style=\"text-align: right;\">\n",
       "      <th></th>\n",
       "      <th>route_id</th>\n",
       "      <th>service_id</th>\n",
       "      <th>trip_id</th>\n",
       "      <th>trip_headsign</th>\n",
       "      <th>trip_short_name</th>\n",
       "      <th>direction_id</th>\n",
       "      <th>block_id</th>\n",
       "      <th>shape_id</th>\n",
       "      <th>wheelchair_accessible</th>\n",
       "    </tr>\n",
       "  </thead>\n",
       "  <tbody>\n",
       "    <tr>\n",
       "      <th>0</th>\n",
       "      <td>50980</td>\n",
       "      <td>1</td>\n",
       "      <td>34597100</td>\n",
       "      <td>LINE 1 (YONGE-UNIVERSITY)</td>\n",
       "      <td></td>\n",
       "      <td>0</td>\n",
       "      <td>1499157</td>\n",
       "      <td>669530</td>\n",
       "      <td>1</td>\n",
       "    </tr>\n",
       "    <tr>\n",
       "      <th>1</th>\n",
       "      <td>50980</td>\n",
       "      <td>1</td>\n",
       "      <td>34597101</td>\n",
       "      <td>LINE 1 (YONGE-UNIVERSITY)</td>\n",
       "      <td></td>\n",
       "      <td>0</td>\n",
       "      <td>1499158</td>\n",
       "      <td>669530</td>\n",
       "      <td>1</td>\n",
       "    </tr>\n",
       "    <tr>\n",
       "      <th>2</th>\n",
       "      <td>50980</td>\n",
       "      <td>1</td>\n",
       "      <td>34597102</td>\n",
       "      <td>LINE 1 (YONGE-UNIVERSITY)</td>\n",
       "      <td></td>\n",
       "      <td>0</td>\n",
       "      <td>1499159</td>\n",
       "      <td>669530</td>\n",
       "      <td>1</td>\n",
       "    </tr>\n",
       "    <tr>\n",
       "      <th>3</th>\n",
       "      <td>50980</td>\n",
       "      <td>1</td>\n",
       "      <td>34597103</td>\n",
       "      <td>LINE 1 (YONGE-UNIVERSITY)</td>\n",
       "      <td></td>\n",
       "      <td>0</td>\n",
       "      <td>1499160</td>\n",
       "      <td>669530</td>\n",
       "      <td>1</td>\n",
       "    </tr>\n",
       "    <tr>\n",
       "      <th>4</th>\n",
       "      <td>50980</td>\n",
       "      <td>1</td>\n",
       "      <td>34597104</td>\n",
       "      <td>LINE 1 (YONGE-UNIVERSITY)</td>\n",
       "      <td></td>\n",
       "      <td>0</td>\n",
       "      <td>1499161</td>\n",
       "      <td>669530</td>\n",
       "      <td>1</td>\n",
       "    </tr>\n",
       "  </tbody>\n",
       "</table>\n",
       "</div>"
      ],
      "text/plain": [
       "  route_id service_id   trip_id              trip_headsign trip_short_name  \\\n",
       "0    50980          1  34597100  LINE 1 (YONGE-UNIVERSITY)                   \n",
       "1    50980          1  34597101  LINE 1 (YONGE-UNIVERSITY)                   \n",
       "2    50980          1  34597102  LINE 1 (YONGE-UNIVERSITY)                   \n",
       "3    50980          1  34597103  LINE 1 (YONGE-UNIVERSITY)                   \n",
       "4    50980          1  34597104  LINE 1 (YONGE-UNIVERSITY)                   \n",
       "\n",
       "  direction_id block_id shape_id wheelchair_accessible  \n",
       "0            0  1499157   669530                     1  \n",
       "1            0  1499158   669530                     1  \n",
       "2            0  1499159   669530                     1  \n",
       "3            0  1499160   669530                     1  \n",
       "4            0  1499161   669530                     1  "
      ]
     },
     "metadata": {},
     "output_type": "display_data"
    }
   ],
   "source": [
    "display(pd.read_sql('SELECT * FROM trips LIMIT 100', conn).head())"
   ]
  },
  {
   "cell_type": "code",
   "execution_count": 10,
   "metadata": {
    "collapsed": false
   },
   "outputs": [],
   "source": [
    "df = pd.read_sql('SELECT stop_id, COUNT(*) as usage FROM stop_times GROUP BY stop_id ORDER BY COUNT(*) DESC', conn)"
   ]
  },
  {
   "cell_type": "code",
   "execution_count": 11,
   "metadata": {
    "collapsed": false
   },
   "outputs": [
    {
     "data": {
      "text/html": [
       "<div>\n",
       "<table border=\"1\" class=\"dataframe\">\n",
       "  <thead>\n",
       "    <tr style=\"text-align: right;\">\n",
       "      <th></th>\n",
       "      <th>stop_id</th>\n",
       "      <th>usage</th>\n",
       "    </tr>\n",
       "  </thead>\n",
       "  <tbody>\n",
       "    <tr>\n",
       "      <th>0</th>\n",
       "      <td>13825</td>\n",
       "      <td>9373</td>\n",
       "    </tr>\n",
       "    <tr>\n",
       "      <th>1</th>\n",
       "      <td>13983</td>\n",
       "      <td>8831</td>\n",
       "    </tr>\n",
       "    <tr>\n",
       "      <th>2</th>\n",
       "      <td>13300</td>\n",
       "      <td>8615</td>\n",
       "    </tr>\n",
       "    <tr>\n",
       "      <th>3</th>\n",
       "      <td>13422</td>\n",
       "      <td>7706</td>\n",
       "    </tr>\n",
       "    <tr>\n",
       "      <th>4</th>\n",
       "      <td>13259</td>\n",
       "      <td>6747</td>\n",
       "    </tr>\n",
       "  </tbody>\n",
       "</table>\n",
       "</div>"
      ],
      "text/plain": [
       "  stop_id  usage\n",
       "0   13825   9373\n",
       "1   13983   8831\n",
       "2   13300   8615\n",
       "3   13422   7706\n",
       "4   13259   6747"
      ]
     },
     "execution_count": 11,
     "metadata": {},
     "output_type": "execute_result"
    }
   ],
   "source": [
    "df.head()"
   ]
  },
  {
   "cell_type": "code",
   "execution_count": 12,
   "metadata": {
    "collapsed": false
   },
   "outputs": [
    {
     "data": {
      "text/plain": [
       "10852"
      ]
     },
     "execution_count": 12,
     "metadata": {},
     "output_type": "execute_result"
    }
   ],
   "source": [
    "df['stop_id'].count()"
   ]
  },
  {
   "cell_type": "code",
   "execution_count": 13,
   "metadata": {
    "collapsed": false
   },
   "outputs": [
    {
     "data": {
      "text/plain": [
       "0        13825\n",
       "1        13983\n",
       "2        13300\n",
       "3        13422\n",
       "4        13259\n",
       "5        13050\n",
       "6        13575\n",
       "7        13909\n",
       "8        13173\n",
       "9        13209\n",
       "10       13178\n",
       "11       13514\n",
       "12       13374\n",
       "13       13484\n",
       "14       13048\n",
       "15       13052\n",
       "16       13279\n",
       "17       13157\n",
       "18       13171\n",
       "19       13248\n",
       "20       13821\n",
       "21       13040\n",
       "22       13107\n",
       "23       13231\n",
       "24       13720\n",
       "25       13222\n",
       "26       13605\n",
       "27       13921\n",
       "28       13664\n",
       "29       13266\n",
       "         ...  \n",
       "10822    14683\n",
       "10823    14684\n",
       "10824    14730\n",
       "10825      504\n",
       "10826      593\n",
       "10827      670\n",
       "10828      672\n",
       "10829      675\n",
       "10830      676\n",
       "10831      679\n",
       "10832     7873\n",
       "10833    13257\n",
       "10834    13269\n",
       "10835    13517\n",
       "10836    13557\n",
       "10837    13810\n",
       "10838    14828\n",
       "10839    15020\n",
       "10840    15067\n",
       "10841    15279\n",
       "10842      357\n",
       "10843      502\n",
       "10844      505\n",
       "10845      508\n",
       "10846      512\n",
       "10847     9418\n",
       "10848     9556\n",
       "10849    13399\n",
       "10850    13648\n",
       "10851    15399\n",
       "Name: stop_id, dtype: object"
      ]
     },
     "execution_count": 13,
     "metadata": {},
     "output_type": "execute_result"
    }
   ],
   "source": [
    "df.stop_id"
   ]
  },
  {
   "cell_type": "code",
   "execution_count": 14,
   "metadata": {
    "collapsed": false
   },
   "outputs": [
    {
     "data": {
      "text/plain": [
       "0        9373\n",
       "1        8831\n",
       "2        8615\n",
       "3        7706\n",
       "4        6747\n",
       "5        5986\n",
       "6        5879\n",
       "7        5389\n",
       "8        5197\n",
       "9        5143\n",
       "10       5099\n",
       "11       4798\n",
       "12       4505\n",
       "13       4480\n",
       "14       4470\n",
       "15       4470\n",
       "16       4414\n",
       "17       4398\n",
       "18       4392\n",
       "19       4389\n",
       "20       4316\n",
       "21       4306\n",
       "22       4295\n",
       "23       4181\n",
       "24       4114\n",
       "25       4107\n",
       "26       4081\n",
       "27       4064\n",
       "28       3985\n",
       "29       3933\n",
       "         ... \n",
       "10822       3\n",
       "10823       3\n",
       "10824       3\n",
       "10825       3\n",
       "10826       3\n",
       "10827       3\n",
       "10828       3\n",
       "10829       3\n",
       "10830       3\n",
       "10831       3\n",
       "10832       3\n",
       "10833       2\n",
       "10834       2\n",
       "10835       2\n",
       "10836       2\n",
       "10837       2\n",
       "10838       2\n",
       "10839       2\n",
       "10840       2\n",
       "10841       2\n",
       "10842       2\n",
       "10843       2\n",
       "10844       2\n",
       "10845       2\n",
       "10846       2\n",
       "10847       2\n",
       "10848       2\n",
       "10849       1\n",
       "10850       1\n",
       "10851       1\n",
       "Name: usage, dtype: int64"
      ]
     },
     "execution_count": 14,
     "metadata": {},
     "output_type": "execute_result"
    }
   ],
   "source": [
    "df.usage"
   ]
  },
  {
   "cell_type": "code",
   "execution_count": 15,
   "metadata": {
    "collapsed": false
   },
   "outputs": [
    {
     "data": {
      "text/html": [
       "<script>requirejs.config({paths: { 'plotly': ['https://cdn.plot.ly/plotly-latest.min']},});if(!window.Plotly) {{require(['plotly'],function(plotly) {window.Plotly=plotly;});}}</script>"
      ],
      "text/plain": [
       "<IPython.core.display.HTML object>"
      ]
     },
     "metadata": {},
     "output_type": "display_data"
    }
   ],
   "source": [
    "init_notebook_mode(connected=True)"
   ]
  },
  {
   "cell_type": "code",
   "execution_count": 16,
   "metadata": {
    "collapsed": false
   },
   "outputs": [
    {
     "data": {
      "text/html": [
       "<div id=\"fbd5ad3e-f896-4065-b85f-bbf40280fd8b\" style=\"height: 525px; width: 100%;\" class=\"plotly-graph-div\"></div><script type=\"text/javascript\">require([\"plotly\"], function(Plotly) { window.PLOTLYENV=window.PLOTLYENV || {};window.PLOTLYENV.BASE_URL=\"https://plot.ly\";Plotly.newPlot(\"fbd5ad3e-f896-4065-b85f-bbf40280fd8b\", [{\"y\": [9373, 8831, 8615, 7706, 6747, 5986, 5879, 5389, 5197, 5143, 5099, 4798, 4505, 4480, 4470, 4470, 4414, 4398, 4392, 4389, 4316, 4306, 4295, 4181, 4114, 4107, 4081, 4064, 3985, 3933, 3870, 3803, 3799, 3777, 3753, 3748, 3742, 3730, 3711, 3697, 3662, 3621, 3601, 3596, 3430, 3421, 3383, 3291, 3234, 3204, 3193, 3182, 3178, 3173, 3166, 3160, 3131, 3124, 3102, 3099, 3073, 3072, 3070, 3063, 3057, 3030, 3022, 2988, 2983, 2971, 2968, 2962, 2953, 2949, 2871, 2867, 2845, 2804, 2787, 2772, 2772, 2767, 2759, 2744, 2724, 2724, 2723, 2718, 2702, 2699, 2696, 2693, 2675, 2663, 2651, 2636, 2632, 2632, 2622, 2617, 2607, 2605, 2603, 2577, 2560, 2545, 2545, 2539, 2524, 2520, 2513, 2493, 2482, 2481, 2444, 2423, 2417, 2387, 2362, 2360, 2352, 2343, 2334, 2319, 2284, 2282, 2266, 2256, 2251, 2250, 2245, 2238, 2233, 2230, 2206, 2204, 2188, 2168, 2166, 2155, 2145, 2137, 2132, 2122, 2121, 2115, 2108, 2098, 2097, 2083, 2083, 2082, 2077, 2066, 2061, 2059, 2043, 2043, 2038, 2030, 2016, 2016, 2002, 1992, 1984, 1977, 1970, 1968, 1968, 1968, 1967, 1967, 1967, 1967, 1967, 1967, 1967, 1967, 1967, 1967, 1956, 1956, 1956, 1956, 1956, 1956, 1956, 1956, 1956, 1956, 1953, 1952, 1944, 1940, 1939, 1932, 1931, 1929, 1928, 1923, 1921, 1921, 1913, 1913, 1912, 1903, 1899, 1895, 1894, 1891, 1891, 1887, 1882, 1877, 1876, 1871, 1870, 1870, 1870, 1863, 1860, 1860, 1853, 1853, 1848, 1848, 1844, 1835, 1835, 1835, 1835, 1835, 1835, 1834, 1826, 1826, 1819, 1819, 1819, 1819, 1816, 1814, 1813, 1807, 1799, 1799, 1796, 1795, 1793, 1784, 1779, 1777, 1775, 1775, 1774, 1774, 1770, 1769, 1766, 1766, 1764, 1762, 1751, 1745, 1742, 1739, 1739, 1739, 1739, 1739, 1737, 1736, 1734, 1734, 1732, 1716, 1714, 1713, 1711, 1711, 1704, 1704, 1700, 1699, 1675, 1673, 1673, 1670, 1668, 1667, 1662, 1658, 1655, 1651, 1651, 1649, 1646, 1645, 1645, 1642, 1642, 1642, 1636, 1634, 1631, 1631, 1631, 1625, 1622, 1613, 1609, 1609, 1608, 1608, 1605, 1605, 1605, 1598, 1598, 1597, 1595, 1593, 1593, 1593, 1593, 1573, 1573, 1573, 1572, 1567, 1564, 1559, 1554, 1548, 1545, 1545, 1538, 1536, 1535, 1531, 1529, 1526, 1526, 1526, 1524, 1518, 1518, 1516, 1514, 1514, 1512, 1511, 1511, 1510, 1510, 1510, 1510, 1504, 1501, 1500, 1499, 1498, 1497, 1495, 1495, 1494, 1494, 1494, 1492, 1489, 1487, 1485, 1485, 1485, 1485, 1485, 1485, 1484, 1479, 1476, 1473, 1471, 1471, 1469, 1469, 1468, 1468, 1468, 1468, 1468, 1467, 1467, 1465, 1463, 1460, 1459, 1458, 1455, 1455, 1455, 1455, 1455, 1454, 1454, 1453, 1450, 1450, 1447, 1445, 1444, 1444, 1440, 1440, 1435, 1434, 1433, 1429, 1427, 1420, 1420, 1420, 1420, 1420, 1418, 1418, 1409, 1409, 1409, 1409, 1409, 1409, 1409, 1409, 1409, 1409, 1409, 1409, 1409, 1409, 1407, 1406, 1406, 1400, 1400, 1400, 1398, 1396, 1396, 1396, 1396, 1395, 1390, 1390, 1390, 1390, 1387, 1380, 1378, 1378, 1378, 1374, 1373, 1369, 1368, 1368, 1368, 1367, 1366, 1365, 1365, 1363, 1362, 1362, 1362, 1362, 1360, 1360, 1360, 1360, 1360, 1360, 1360, 1360, 1360, 1360, 1359, 1355, 1354, 1350, 1348, 1347, 1346, 1346, 1346, 1346, 1346, 1346, 1346, 1346, 1346, 1346, 1346, 1346, 1346, 1346, 1340, 1337, 1337, 1337, 1335, 1335, 1335, 1335, 1335, 1335, 1335, 1335, 1335, 1335, 1335, 1335, 1335, 1332, 1332, 1332, 1332, 1332, 1330, 1330, 1329, 1327, 1325, 1321, 1321, 1321, 1321, 1321, 1321, 1321, 1321, 1321, 1321, 1321, 1321, 1321, 1319, 1318, 1317, 1317, 1316, 1316, 1316, 1316, 1316, 1316, 1316, 1316, 1315, 1315, 1315, 1315, 1315, 1315, 1315, 1315, 1312, 1311, 1311, 1311, 1311, 1311, 1310, 1310, 1310, 1308, 1308, 1308, 1308, 1308, 1308, 1308, 1308, 1308, 1308, 1307, 1307, 1307, 1307, 1307, 1307, 1307, 1307, 1307, 1307, 1307, 1307, 1307, 1307, 1307, 1307, 1306, 1306, 1306, 1305, 1305, 1304, 1304, 1304, 1300, 1296, 1292, 1290, 1289, 1286, 1286, 1284, 1283, 1282, 1282, 1282, 1282, 1282, 1282, 1282, 1278, 1277, 1276, 1276, 1276, 1276, 1276, 1276, 1276, 1276, 1276, 1276, 1274, 1274, 1270, 1270, 1270, 1270, 1270, 1270, 1270, 1270, 1267, 1267, 1267, 1267, 1267, 1267, 1267, 1267, 1267, 1267, 1267, 1267, 1267, 1267, 1267, 1267, 1267, 1267, 1267, 1267, 1267, 1267, 1267, 1267, 1267, 1267, 1266, 1265, 1265, 1265, 1265, 1265, 1265, 1265, 1265, 1265, 1265, 1265, 1265, 1257, 1255, 1253, 1253, 1253, 1253, 1253, 1253, 1253, 1253, 1253, 1253, 1253, 1253, 1253, 1253, 1253, 1253, 1253, 1253, 1253, 1253, 1253, 1253, 1253, 1253, 1253, 1253, 1253, 1252, 1252, 1252, 1250, 1250, 1249, 1249, 1247, 1247, 1246, 1246, 1246, 1245, 1244, 1244, 1244, 1244, 1244, 1244, 1243, 1243, 1243, 1243, 1243, 1243, 1243, 1243, 1243, 1240, 1240, 1240, 1240, 1240, 1239, 1238, 1238, 1238, 1238, 1238, 1237, 1237, 1236, 1236, 1236, 1236, 1235, 1235, 1233, 1233, 1233, 1231, 1231, 1228, 1228, 1228, 1228, 1224, 1224, 1224, 1224, 1222, 1222, 1222, 1222, 1222, 1222, 1220, 1218, 1218, 1218, 1216, 1213, 1213, 1212, 1212, 1211, 1211, 1209, 1208, 1207, 1201, 1201, 1201, 1201, 1201, 1199, 1199, 1197, 1195, 1195, 1195, 1194, 1194, 1191, 1185, 1184, 1183, 1178, 1176, 1176, 1173, 1172, 1171, 1170, 1170, 1170, 1168, 1166, 1165, 1165, 1165, 1165, 1164, 1164, 1164, 1162, 1160, 1160, 1160, 1160, 1160, 1160, 1160, 1160, 1160, 1160, 1160, 1160, 1160, 1160, 1160, 1159, 1159, 1159, 1159, 1154, 1154, 1154, 1154, 1154, 1154, 1154, 1154, 1154, 1154, 1154, 1154, 1151, 1150, 1150, 1148, 1147, 1147, 1146, 1146, 1143, 1143, 1143, 1143, 1143, 1143, 1143, 1142, 1142, 1142, 1142, 1141, 1141, 1141, 1141, 1141, 1141, 1141, 1141, 1141, 1141, 1141, 1141, 1141, 1140, 1140, 1140, 1140, 1140, 1140, 1140, 1140, 1140, 1140, 1140, 1140, 1140, 1140, 1140, 1140, 1139, 1139, 1139, 1139, 1139, 1139, 1139, 1139, 1137, 1137, 1137, 1137, 1137, 1136, 1136, 1136, 1134, 1134, 1134, 1134, 1133, 1133, 1133, 1133, 1133, 1133, 1133, 1133, 1133, 1133, 1133, 1133, 1133, 1132, 1132, 1132, 1131, 1131, 1131, 1131, 1131, 1129, 1128, 1128, 1127, 1127, 1127, 1124, 1124, 1124, 1124, 1124, 1124, 1124, 1124, 1122, 1121, 1121, 1121, 1119, 1119, 1119, 1119, 1119, 1119, 1119, 1119, 1119, 1119, 1119, 1119, 1119, 1119, 1119, 1119, 1119, 1119, 1119, 1119, 1119, 1119, 1119, 1119, 1119, 1119, 1119, 1117, 1116, 1116, 1115, 1115, 1113, 1113, 1113, 1112, 1109, 1109, 1109, 1109, 1109, 1108, 1108, 1108, 1107, 1107, 1106, 1106, 1106, 1106, 1105, 1105, 1105, 1104, 1104, 1104, 1104, 1102, 1101, 1101, 1101, 1101, 1101, 1100, 1100, 1100, 1100, 1100, 1099, 1099, 1099, 1098, 1098, 1098, 1098, 1098, 1098, 1098, 1096, 1096, 1096, 1096, 1095, 1095, 1094, 1094, 1094, 1094, 1094, 1094, 1094, 1094, 1094, 1094, 1094, 1094, 1094, 1094, 1094, 1094, 1094, 1093, 1093, 1093, 1093, 1093, 1093, 1092, 1092, 1090, 1090, 1090, 1090, 1090, 1090, 1088, 1088, 1088, 1087, 1087, 1085, 1083, 1083, 1082, 1081, 1081, 1081, 1081, 1081, 1081, 1081, 1081, 1081, 1081, 1081, 1081, 1081, 1081, 1081, 1081, 1081, 1081, 1081, 1081, 1081, 1081, 1081, 1081, 1081, 1079, 1078, 1078, 1076, 1076, 1075, 1075, 1073, 1073, 1073, 1072, 1071, 1070, 1070, 1070, 1070, 1069, 1069, 1068, 1066, 1063, 1063, 1062, 1062, 1062, 1062, 1061, 1061, 1061, 1061, 1060, 1060, 1060, 1060, 1060, 1059, 1056, 1056, 1056, 1052, 1052, 1052, 1052, 1052, 1051, 1050, 1050, 1050, 1050, 1050, 1050, 1050, 1050, 1047, 1046, 1045, 1043, 1043, 1042, 1042, 1042, 1042, 1042, 1041, 1041, 1041, 1041, 1039, 1039, 1039, 1039, 1039, 1038, 1038, 1038, 1038, 1038, 1038, 1038, 1035, 1033, 1032, 1032, 1032, 1030, 1030, 1026, 1026, 1026, 1026, 1026, 1020, 1019, 1019, 1018, 1017, 1017, 1016, 1012, 1010, 1010, 1008, 1008, 1008, 1008, 1005, 1005, 1004, 1004, 1004, 1003, 1003, 1003, 1002, 1002, 1002, 1002, 1002, 1001, 1001, 998, 998, 998, 998, 997, 997, 997, 995, 995, 995, 995, 995, 995, 993, 993, 992, 992, 991, 991, 991, 988, 988, 988, 988, 988, 988, 986, 986, 986, 984, 984, 984, 984, 984, 984, 983, 983, 983, 983, 982, 982, 981, 981, 979, 979, 978, 978, 978, 977, 977, 977, 977, 976, 976, 976, 974, 973, 973, 973, 973, 973, 973, 973, 973, 973, 973, 972, 971, 971, 971, 971, 971, 970, 970, 969, 969, 969, 969, 968, 967, 967, 967, 967, 967, 967, 964, 964, 964, 964, 964, 964, 964, 964, 964, 964, 964, 964, 964, 964, 964, 962, 961, 961, 960, 960, 959, 957, 956, 956, 956, 956, 954, 954, 954, 953, 953, 953, 953, 953, 951, 951, 950, 949, 947, 947, 947, 947, 947, 947, 946, 945, 945, 944, 944, 944, 944, 944, 944, 944, 944, 944, 944, 944, 944, 944, 944, 944, 944, 943, 943, 942, 942, 942, 942, 942, 941, 941, 941, 941, 941, 941, 941, 941, 941, 941, 941, 941, 941, 941, 941, 941, 941, 941, 941, 941, 941, 941, 941, 941, 941, 941, 941, 941, 941, 940, 940, 939, 939, 939, 939, 939, 939, 939, 939, 938, 938, 938, 937, 937, 934, 934, 932, 932, 932, 932, 932, 932, 932, 932, 932, 932, 931, 930, 930, 930, 930, 930, 930, 930, 930, 930, 930, 930, 930, 929, 928, 928, 927, 927, 927, 926, 926, 926, 926, 926, 926, 926, 926, 926, 926, 924, 924, 923, 922, 918, 918, 917, 917, 917, 916, 914, 914, 913, 913, 913, 913, 911, 911, 911, 911, 911, 911, 911, 911, 911, 911, 911, 911, 911, 911, 911, 911, 911, 911, 911, 911, 911, 911, 911, 911, 911, 911, 911, 909, 909, 909, 909, 909, 909, 909, 909, 909, 909, 909, 909, 908, 907, 907, 907, 905, 905, 905, 905, 904, 904, 904, 904, 904, 904, 903, 903, 903, 903, 903, 903, 903, 903, 903, 903, 903, 903, 903, 903, 903, 903, 903, 903, 903, 903, 903, 903, 903, 903, 903, 901, 901, 901, 901, 901, 901, 901, 901, 901, 901, 901, 900, 900, 900, 900, 899, 899, 899, 899, 899, 899, 899, 899, 899, 898, 898, 898, 898, 898, 898, 897, 897, 897, 897, 897, 895, 895, 895, 895, 895, 895, 894, 894, 891, 891, 888, 888, 887, 886, 885, 884, 884, 884, 882, 882, 882, 882, 882, 881, 880, 880, 880, 879, 879, 878, 878, 878, 878, 878, 878, 878, 878, 878, 878, 878, 877, 877, 877, 877, 876, 876, 873, 872, 872, 872, 872, 871, 870, 870, 868, 866, 866, 865, 865, 865, 865, 865, 865, 865, 865, 865, 865, 865, 865, 865, 865, 865, 865, 864, 864, 864, 863, 863, 862, 862, 862, 862, 862, 862, 861, 860, 860, 858, 858, 858, 858, 858, 857, 857, 857, 857, 857, 856, 854, 854, 854, 854, 853, 853, 853, 853, 853, 853, 853, 851, 851, 851, 851, 851, 851, 851, 848, 847, 846, 846, 845, 845, 845, 845, 844, 843, 843, 843, 843, 841, 840, 838, 838, 838, 838, 837, 836, 836, 836, 836, 836, 836, 836, 836, 836, 836, 836, 836, 836, 836, 836, 836, 836, 834, 834, 833, 833, 833, 833, 833, 833, 833, 833, 833, 833, 833, 833, 833, 833, 833, 833, 833, 833, 833, 833, 833, 833, 833, 833, 833, 831, 830, 829, 828, 828, 828, 828, 828, 828, 828, 828, 828, 828, 828, 828, 828, 827, 827, 827, 827, 827, 827, 827, 827, 827, 827, 827, 827, 827, 827, 827, 827, 826, 826, 826, 826, 823, 823, 823, 823, 823, 823, 823, 822, 822, 822, 821, 820, 819, 819, 819, 819, 819, 819, 819, 819, 819, 819, 819, 819, 818, 818, 818, 818, 818, 818, 818, 817, 817, 817, 817, 817, 817, 817, 817, 817, 817, 817, 816, 816, 816, 816, 816, 816, 816, 816, 816, 816, 816, 816, 816, 816, 816, 816, 816, 816, 815, 815, 814, 812, 812, 812, 812, 811, 811, 811, 810, 809, 809, 809, 809, 809, 809, 809, 809, 809, 809, 809, 809, 809, 809, 808, 807, 807, 807, 806, 806, 806, 806, 804, 804, 804, 804, 804, 804, 804, 803, 802, 802, 802, 802, 802, 802, 801, 801, 801, 801, 801, 799, 799, 799, 798, 798, 798, 798, 798, 798, 798, 798, 798, 798, 795, 795, 795, 795, 795, 795, 795, 795, 795, 795, 795, 795, 795, 795, 795, 795, 795, 795, 795, 795, 795, 794, 794, 793, 793, 792, 792, 792, 792, 792, 792, 792, 792, 792, 792, 792, 791, 791, 791, 791, 791, 791, 791, 791, 791, 791, 789, 789, 789, 789, 789, 788, 788, 788, 788, 787, 787, 787, 787, 787, 787, 787, 787, 787, 786, 785, 785, 785, 785, 785, 785, 785, 785, 785, 783, 783, 783, 782, 782, 782, 782, 781, 780, 780, 780, 780, 780, 780, 778, 777, 776, 776, 776, 776, 776, 776, 776, 776, 775, 775, 775, 774, 774, 774, 774, 774, 774, 773, 772, 772, 772, 772, 772, 772, 772, 772, 772, 772, 772, 772, 772, 772, 772, 772, 772, 772, 771, 770, 770, 770, 770, 770, 770, 770, 770, 770, 770, 770, 770, 770, 770, 770, 770, 770, 769, 768, 768, 768, 768, 768, 766, 765, 763, 763, 763, 762, 762, 762, 762, 762, 762, 762, 762, 762, 762, 762, 762, 762, 762, 762, 762, 762, 762, 762, 762, 762, 762, 762, 762, 762, 762, 762, 762, 762, 762, 762, 762, 761, 761, 761, 761, 761, 761, 761, 760, 760, 760, 760, 760, 760, 760, 760, 760, 760, 760, 760, 760, 760, 760, 760, 760, 760, 760, 760, 760, 760, 760, 760, 759, 758, 757, 757, 757, 757, 757, 757, 757, 757, 757, 757, 757, 757, 757, 757, 757, 757, 757, 757, 757, 757, 757, 757, 757, 757, 756, 756, 756, 756, 756, 756, 756, 756, 756, 756, 756, 756, 756, 756, 756, 756, 756, 756, 756, 754, 754, 753, 753, 753, 753, 753, 753, 753, 753, 753, 753, 753, 753, 753, 753, 753, 753, 753, 753, 752, 752, 752, 752, 752, 752, 752, 752, 752, 752, 752, 752, 752, 752, 752, 752, 752, 752, 752, 752, 752, 752, 752, 752, 752, 751, 751, 750, 750, 749, 749, 749, 749, 749, 747, 747, 747, 747, 747, 747, 747, 747, 747, 747, 746, 746, 745, 745, 745, 745, 745, 743, 743, 743, 742, 741, 741, 741, 739, 739, 739, 738, 738, 738, 737, 737, 736, 735, 735, 735, 735, 735, 735, 735, 735, 735, 735, 735, 735, 735, 735, 735, 735, 735, 735, 735, 735, 735, 735, 735, 735, 735, 735, 735, 735, 735, 735, 735, 734, 733, 733, 733, 733, 733, 733, 733, 733, 733, 733, 733, 731, 731, 730, 729, 729, 729, 729, 729, 729, 729, 729, 729, 729, 729, 729, 726, 726, 726, 726, 726, 726, 725, 725, 725, 725, 725, 724, 724, 724, 724, 724, 724, 724, 724, 724, 724, 724, 724, 724, 724, 724, 724, 724, 724, 724, 724, 724, 724, 724, 723, 723, 723, 723, 723, 723, 723, 723, 722, 722, 722, 722, 722, 722, 722, 722, 722, 722, 722, 722, 722, 722, 722, 722, 722, 722, 722, 722, 722, 722, 722, 721, 721, 721, 721, 721, 721, 721, 719, 719, 719, 719, 719, 718, 718, 718, 718, 718, 718, 718, 718, 718, 718, 718, 718, 718, 718, 718, 718, 718, 718, 718, 718, 718, 716, 716, 716, 715, 715, 714, 713, 713, 713, 713, 713, 713, 713, 713, 713, 713, 713, 713, 713, 713, 713, 713, 713, 713, 713, 713, 713, 713, 713, 713, 712, 712, 712, 712, 712, 712, 711, 711, 711, 711, 711, 711, 711, 711, 711, 711, 711, 711, 711, 711, 711, 710, 710, 709, 709, 709, 709, 709, 709, 709, 709, 709, 709, 709, 709, 709, 707, 707, 707, 707, 707, 707, 707, 707, 707, 707, 707, 707, 707, 707, 707, 706, 705, 705, 705, 705, 705, 705, 705, 705, 705, 705, 705, 704, 704, 704, 704, 704, 704, 703, 703, 703, 702, 702, 702, 701, 700, 700, 699, 699, 699, 699, 699, 699, 699, 699, 699, 699, 699, 699, 699, 699, 696, 695, 695, 695, 695, 695, 695, 695, 695, 695, 695, 695, 695, 695, 695, 695, 695, 695, 695, 695, 695, 695, 693, 693, 693, 693, 693, 693, 693, 690, 690, 690, 690, 690, 690, 690, 690, 690, 690, 689, 688, 688, 687, 687, 686, 686, 685, 685, 685, 685, 685, 685, 685, 685, 685, 685, 685, 685, 685, 685, 685, 685, 685, 685, 685, 685, 685, 685, 685, 685, 685, 685, 685, 685, 685, 685, 685, 685, 685, 685, 685, 685, 685, 685, 685, 685, 685, 685, 685, 685, 685, 685, 685, 685, 685, 685, 685, 685, 685, 685, 685, 685, 685, 685, 685, 685, 685, 685, 685, 685, 685, 685, 685, 685, 685, 685, 685, 683, 683, 683, 683, 683, 683, 683, 683, 683, 683, 683, 683, 683, 683, 683, 683, 683, 683, 683, 683, 683, 683, 683, 683, 683, 683, 683, 683, 683, 683, 683, 683, 683, 683, 683, 683, 683, 683, 683, 683, 683, 683, 683, 683, 683, 683, 682, 682, 682, 682, 682, 682, 682, 682, 682, 682, 682, 682, 682, 682, 682, 682, 682, 682, 682, 682, 682, 682, 682, 682, 682, 682, 682, 682, 682, 682, 682, 682, 682, 682, 682, 682, 682, 682, 681, 681, 681, 680, 680, 680, 675, 675, 675, 675, 675, 671, 669, 669, 669, 668, 668, 666, 666, 666, 666, 666, 666, 666, 666, 666, 666, 666, 666, 666, 666, 666, 666, 666, 666, 666, 666, 666, 666, 666, 665, 665, 665, 665, 664, 664, 663, 663, 663, 663, 663, 663, 662, 661, 661, 661, 661, 660, 660, 659, 659, 659, 659, 659, 659, 659, 659, 659, 658, 658, 658, 658, 658, 656, 656, 656, 656, 656, 655, 655, 655, 655, 655, 655, 655, 655, 654, 654, 654, 654, 654, 654, 654, 654, 654, 654, 653, 653, 653, 653, 653, 652, 652, 652, 652, 651, 651, 651, 651, 651, 651, 651, 651, 651, 650, 650, 650, 650, 650, 650, 650, 650, 650, 650, 650, 650, 650, 650, 650, 650, 650, 648, 648, 648, 648, 648, 648, 648, 648, 648, 648, 648, 648, 648, 648, 648, 648, 648, 648, 648, 648, 647, 647, 647, 647, 647, 647, 647, 647, 647, 647, 647, 647, 645, 645, 645, 645, 644, 644, 644, 644, 644, 644, 643, 642, 642, 642, 642, 642, 642, 642, 641, 641, 641, 641, 641, 640, 640, 640, 640, 640, 640, 640, 640, 640, 639, 639, 639, 639, 639, 639, 639, 639, 639, 639, 639, 639, 639, 639, 639, 639, 638, 638, 638, 638, 638, 638, 638, 638, 637, 637, 636, 636, 636, 636, 636, 636, 636, 636, 636, 636, 636, 636, 636, 635, 635, 635, 635, 635, 635, 635, 635, 635, 635, 635, 635, 635, 635, 635, 635, 635, 635, 635, 635, 635, 635, 635, 634, 634, 633, 633, 633, 633, 633, 633, 633, 633, 633, 633, 633, 633, 633, 633, 633, 633, 633, 633, 633, 633, 633, 633, 633, 633, 633, 632, 631, 631, 631, 631, 631, 631, 631, 631, 631, 631, 631, 631, 631, 631, 631, 631, 631, 631, 631, 631, 629, 629, 629, 629, 629, 629, 629, 629, 629, 629, 629, 628, 628, 628, 628, 628, 628, 628, 628, 628, 628, 628, 628, 628, 628, 628, 628, 628, 628, 628, 627, 627, 627, 627, 627, 627, 627, 627, 627, 626, 626, 626, 626, 626, 626, 625, 625, 625, 625, 624, 624, 624, 624, 624, 624, 624, 624, 624, 624, 624, 624, 624, 624, 624, 624, 624, 624, 624, 624, 624, 624, 624, 623, 623, 623, 623, 623, 623, 623, 623, 623, 623, 623, 623, 623, 623, 623, 623, 623, 623, 623, 623, 623, 623, 623, 623, 623, 623, 623, 623, 623, 622, 622, 622, 622, 622, 622, 622, 622, 622, 622, 622, 622, 622, 622, 622, 622, 622, 622, 622, 622, 622, 622, 622, 622, 622, 622, 622, 622, 622, 622, 622, 622, 622, 622, 622, 622, 622, 622, 622, 622, 622, 622, 622, 622, 622, 622, 622, 622, 622, 622, 622, 622, 621, 621, 621, 621, 621, 621, 621, 621, 621, 621, 621, 621, 621, 621, 621, 621, 620, 620, 620, 620, 620, 619, 619, 619, 619, 618, 618, 618, 618, 618, 618, 618, 618, 618, 618, 618, 618, 618, 618, 618, 618, 618, 618, 618, 618, 618, 618, 618, 618, 618, 618, 618, 618, 618, 618, 617, 617, 617, 617, 617, 617, 617, 617, 617, 617, 617, 617, 617, 617, 617, 617, 617, 617, 617, 616, 616, 616, 616, 616, 616, 616, 616, 616, 615, 615, 615, 615, 615, 615, 615, 615, 615, 615, 615, 615, 615, 615, 615, 615, 615, 615, 615, 614, 614, 614, 614, 614, 613, 613, 612, 612, 612, 612, 612, 612, 612, 612, 612, 611, 611, 611, 611, 610, 610, 610, 610, 610, 610, 610, 610, 610, 610, 610, 610, 610, 610, 610, 610, 610, 609, 609, 608, 607, 607, 607, 607, 607, 607, 607, 607, 607, 607, 607, 607, 607, 607, 606, 606, 606, 606, 606, 606, 606, 606, 606, 605, 605, 605, 604, 604, 603, 603, 602, 602, 602, 602, 602, 602, 601, 601, 601, 601, 601, 600, 600, 599, 599, 599, 597, 597, 597, 597, 597, 596, 596, 595, 595, 595, 595, 595, 595, 595, 595, 595, 595, 595, 594, 594, 594, 594, 593, 593, 593, 593, 593, 593, 593, 593, 593, 593, 593, 593, 593, 593, 592, 592, 592, 592, 592, 592, 592, 592, 592, 592, 592, 592, 592, 592, 592, 592, 592, 592, 592, 592, 592, 592, 592, 592, 592, 591, 591, 590, 590, 590, 590, 590, 590, 590, 590, 590, 590, 590, 590, 590, 590, 590, 590, 590, 590, 590, 590, 590, 590, 590, 590, 589, 589, 589, 589, 588, 588, 588, 588, 588, 588, 588, 588, 588, 588, 588, 588, 588, 588, 588, 588, 588, 588, 588, 588, 588, 588, 588, 588, 588, 588, 588, 588, 588, 587, 587, 587, 587, 586, 586, 586, 586, 586, 586, 586, 586, 585, 585, 585, 585, 585, 585, 584, 584, 584, 583, 583, 583, 583, 583, 583, 583, 583, 583, 583, 583, 583, 583, 583, 583, 583, 583, 583, 583, 583, 582, 582, 582, 582, 582, 582, 582, 582, 582, 582, 582, 582, 582, 582, 582, 582, 582, 582, 582, 582, 582, 582, 582, 582, 582, 582, 582, 582, 582, 582, 582, 582, 582, 582, 580, 580, 580, 580, 580, 580, 580, 580, 579, 579, 579, 579, 579, 579, 579, 579, 578, 578, 578, 578, 578, 577, 577, 577, 576, 576, 576, 576, 576, 576, 576, 576, 576, 576, 576, 576, 576, 576, 576, 576, 576, 576, 576, 576, 576, 576, 576, 576, 576, 576, 576, 576, 576, 576, 576, 575, 575, 575, 575, 575, 574, 574, 573, 573, 573, 573, 573, 573, 573, 573, 572, 572, 572, 572, 572, 572, 572, 572, 571, 571, 571, 571, 570, 569, 569, 569, 569, 569, 569, 569, 569, 569, 569, 568, 568, 568, 568, 568, 568, 568, 568, 568, 567, 567, 567, 567, 567, 567, 567, 567, 567, 567, 567, 567, 567, 567, 567, 567, 567, 567, 567, 567, 567, 567, 567, 567, 567, 567, 567, 567, 567, 567, 567, 567, 567, 567, 566, 566, 566, 566, 566, 566, 566, 566, 566, 566, 566, 566, 566, 566, 566, 566, 566, 566, 564, 564, 564, 564, 564, 564, 564, 563, 563, 563, 562, 562, 562, 562, 562, 562, 562, 562, 562, 562, 562, 562, 562, 561, 560, 560, 560, 560, 560, 560, 560, 560, 560, 560, 560, 559, 559, 559, 559, 559, 559, 559, 559, 559, 559, 559, 559, 559, 559, 559, 559, 559, 559, 559, 559, 559, 556, 556, 555, 555, 555, 555, 555, 555, 555, 555, 554, 554, 554, 554, 554, 554, 554, 554, 554, 554, 554, 553, 553, 553, 553, 553, 553, 553, 553, 553, 553, 553, 553, 553, 553, 552, 551, 550, 550, 550, 550, 550, 550, 550, 550, 550, 550, 550, 550, 550, 550, 549, 549, 549, 549, 549, 549, 549, 549, 549, 549, 549, 549, 549, 548, 548, 548, 548, 548, 548, 548, 548, 548, 548, 548, 548, 548, 548, 548, 548, 548, 548, 548, 548, 548, 548, 548, 547, 547, 547, 547, 547, 547, 547, 546, 546, 546, 546, 546, 546, 546, 546, 546, 546, 546, 546, 546, 546, 546, 546, 546, 546, 546, 545, 545, 545, 545, 545, 545, 545, 545, 544, 544, 544, 544, 544, 544, 544, 544, 544, 544, 544, 544, 544, 544, 544, 544, 544, 544, 544, 543, 543, 543, 543, 543, 543, 543, 543, 543, 543, 543, 543, 543, 543, 543, 543, 543, 542, 542, 542, 542, 542, 542, 542, 542, 542, 542, 542, 542, 542, 542, 542, 541, 541, 541, 541, 541, 541, 541, 541, 541, 540, 540, 540, 540, 540, 540, 540, 540, 540, 540, 540, 540, 540, 540, 540, 540, 540, 540, 540, 540, 539, 539, 539, 539, 539, 538, 538, 538, 537, 536, 536, 536, 536, 535, 535, 535, 535, 535, 535, 535, 535, 535, 535, 535, 535, 535, 535, 535, 534, 534, 534, 534, 533, 533, 533, 533, 533, 533, 533, 533, 533, 533, 533, 533, 533, 533, 533, 533, 533, 533, 533, 533, 532, 532, 532, 530, 530, 530, 530, 530, 530, 530, 530, 530, 530, 530, 530, 530, 530, 530, 530, 530, 530, 530, 530, 530, 530, 530, 530, 530, 530, 530, 530, 530, 530, 530, 530, 530, 530, 528, 528, 528, 528, 528, 527, 527, 527, 527, 527, 527, 527, 527, 527, 527, 527, 527, 526, 526, 526, 526, 526, 526, 526, 526, 526, 526, 526, 525, 523, 523, 523, 523, 523, 522, 522, 522, 522, 522, 522, 522, 522, 522, 522, 522, 522, 522, 522, 522, 522, 522, 522, 522, 522, 522, 522, 522, 522, 522, 522, 521, 521, 521, 521, 521, 521, 521, 521, 521, 521, 521, 521, 521, 520, 520, 520, 520, 520, 520, 520, 520, 520, 520, 520, 520, 520, 520, 520, 520, 520, 520, 520, 520, 520, 520, 520, 520, 520, 520, 520, 520, 519, 519, 519, 518, 518, 518, 518, 518, 518, 518, 518, 518, 518, 518, 518, 518, 518, 517, 517, 517, 517, 517, 517, 517, 517, 517, 517, 517, 517, 517, 517, 517, 517, 517, 517, 516, 516, 516, 516, 516, 516, 516, 516, 516, 516, 516, 515, 515, 515, 515, 515, 515, 515, 515, 515, 515, 515, 514, 514, 514, 514, 513, 513, 513, 513, 512, 512, 511, 511, 511, 511, 511, 511, 511, 511, 511, 511, 511, 511, 511, 511, 511, 511, 511, 511, 511, 511, 511, 511, 511, 511, 511, 511, 511, 511, 511, 511, 511, 511, 511, 511, 510, 510, 510, 510, 510, 510, 510, 510, 510, 510, 510, 510, 510, 510, 510, 510, 510, 510, 510, 510, 510, 510, 510, 510, 510, 510, 510, 510, 510, 509, 509, 509, 509, 509, 509, 509, 509, 509, 509, 509, 509, 508, 508, 508, 507, 507, 507, 506, 506, 506, 506, 506, 506, 506, 506, 506, 506, 504, 504, 504, 504, 504, 504, 504, 504, 504, 504, 504, 504, 504, 504, 504, 504, 504, 504, 503, 503, 503, 503, 503, 503, 503, 503, 503, 503, 503, 503, 503, 503, 503, 502, 502, 502, 502, 502, 502, 502, 502, 502, 501, 501, 501, 501, 501, 501, 501, 501, 501, 501, 501, 501, 501, 501, 501, 501, 501, 501, 501, 501, 501, 501, 501, 501, 501, 501, 501, 501, 501, 500, 500, 500, 500, 500, 500, 500, 500, 500, 500, 500, 500, 500, 500, 500, 499, 499, 499, 499, 499, 499, 499, 499, 499, 499, 499, 499, 499, 499, 499, 499, 498, 498, 498, 498, 498, 498, 498, 498, 498, 498, 498, 496, 496, 496, 496, 496, 496, 496, 496, 496, 496, 496, 495, 495, 494, 494, 494, 494, 494, 494, 494, 494, 494, 494, 494, 494, 494, 494, 494, 494, 494, 494, 494, 494, 494, 494, 494, 494, 494, 493, 493, 493, 493, 493, 493, 493, 493, 492, 491, 490, 490, 488, 488, 488, 488, 488, 488, 488, 488, 487, 487, 486, 486, 485, 482, 482, 481, 478, 477, 477, 477, 476, 476, 476, 475, 475, 475, 475, 474, 472, 472, 471, 471, 471, 471, 471, 471, 471, 471, 471, 471, 470, 470, 470, 470, 470, 470, 470, 468, 468, 468, 468, 468, 467, 467, 467, 467, 467, 467, 467, 467, 467, 467, 467, 467, 467, 467, 467, 467, 467, 467, 467, 466, 466, 466, 466, 466, 466, 466, 466, 466, 466, 466, 466, 466, 466, 466, 466, 466, 466, 465, 465, 465, 465, 465, 465, 465, 465, 465, 465, 464, 464, 464, 463, 463, 463, 463, 463, 463, 463, 463, 463, 463, 463, 462, 462, 462, 462, 462, 462, 462, 462, 462, 462, 462, 462, 462, 462, 462, 462, 461, 461, 461, 461, 461, 459, 459, 459, 459, 458, 458, 458, 458, 458, 457, 457, 455, 455, 455, 455, 455, 455, 454, 453, 453, 452, 451, 451, 451, 451, 451, 451, 451, 451, 451, 450, 450, 450, 449, 449, 449, 449, 449, 449, 447, 447, 447, 447, 447, 447, 447, 447, 447, 447, 447, 446, 445, 445, 445, 445, 445, 445, 445, 445, 445, 445, 445, 445, 445, 445, 445, 445, 445, 445, 445, 445, 445, 445, 445, 445, 445, 445, 445, 445, 445, 445, 445, 443, 443, 443, 443, 443, 443, 443, 443, 443, 443, 442, 442, 442, 442, 442, 441, 441, 441, 441, 441, 441, 441, 441, 441, 441, 441, 441, 441, 441, 441, 441, 441, 441, 441, 441, 441, 441, 441, 441, 441, 440, 440, 440, 440, 440, 440, 440, 440, 440, 440, 440, 440, 440, 440, 440, 440, 440, 440, 440, 440, 440, 439, 439, 439, 438, 438, 438, 438, 438, 438, 438, 438, 438, 438, 438, 438, 438, 438, 438, 438, 438, 438, 438, 438, 438, 438, 438, 438, 438, 438, 438, 438, 438, 438, 438, 438, 438, 438, 437, 437, 437, 437, 437, 437, 437, 437, 437, 437, 437, 437, 437, 437, 437, 437, 437, 437, 437, 437, 437, 437, 437, 437, 437, 437, 437, 437, 437, 437, 437, 436, 436, 435, 435, 435, 434, 434, 434, 434, 434, 434, 434, 434, 434, 434, 434, 434, 434, 434, 432, 432, 432, 432, 432, 432, 432, 431, 431, 430, 430, 430, 430, 428, 428, 428, 428, 428, 428, 428, 427, 427, 427, 427, 427, 427, 427, 427, 427, 427, 427, 426, 426, 426, 426, 426, 426, 425, 424, 424, 424, 424, 424, 424, 424, 424, 424, 424, 424, 424, 424, 424, 424, 424, 424, 424, 423, 423, 423, 423, 423, 423, 423, 423, 423, 423, 423, 423, 423, 423, 423, 423, 423, 423, 423, 423, 423, 423, 423, 423, 423, 423, 423, 423, 423, 423, 423, 423, 423, 422, 422, 422, 422, 422, 422, 422, 422, 422, 422, 422, 421, 420, 420, 420, 420, 420, 420, 420, 420, 420, 420, 420, 420, 420, 418, 418, 418, 418, 418, 418, 418, 418, 418, 418, 418, 417, 417, 416, 416, 416, 416, 416, 416, 416, 416, 416, 415, 415, 415, 415, 415, 415, 415, 415, 415, 415, 415, 415, 415, 415, 415, 415, 415, 415, 415, 415, 415, 415, 415, 415, 415, 415, 415, 415, 415, 415, 415, 415, 415, 415, 415, 415, 415, 415, 415, 414, 414, 413, 413, 413, 413, 413, 413, 413, 413, 413, 413, 413, 413, 413, 413, 413, 413, 413, 413, 413, 413, 413, 413, 413, 413, 413, 413, 413, 413, 413, 413, 413, 413, 413, 412, 412, 412, 412, 412, 412, 412, 412, 412, 412, 411, 411, 411, 411, 411, 411, 411, 411, 411, 411, 410, 410, 410, 410, 410, 410, 410, 410, 410, 410, 410, 410, 410, 410, 410, 410, 410, 410, 410, 410, 410, 410, 410, 410, 410, 410, 410, 410, 410, 410, 410, 410, 410, 410, 410, 410, 410, 410, 410, 410, 409, 409, 409, 409, 409, 409, 409, 409, 409, 409, 408, 408, 408, 408, 408, 408, 408, 408, 408, 408, 408, 408, 408, 408, 408, 408, 408, 408, 408, 408, 408, 408, 407, 407, 407, 407, 407, 407, 407, 407, 406, 406, 406, 406, 406, 406, 406, 406, 406, 406, 406, 406, 405, 405, 404, 404, 404, 404, 404, 404, 404, 403, 403, 403, 403, 403, 403, 403, 403, 403, 403, 403, 403, 403, 403, 403, 403, 403, 403, 403, 403, 403, 403, 403, 403, 403, 402, 402, 402, 402, 402, 401, 399, 398, 398, 398, 397, 397, 397, 397, 397, 397, 397, 396, 396, 396, 396, 396, 396, 396, 396, 396, 395, 395, 394, 394, 394, 394, 394, 394, 393, 393, 393, 393, 393, 393, 393, 393, 393, 393, 393, 393, 393, 393, 393, 393, 392, 391, 391, 391, 391, 391, 391, 391, 391, 389, 389, 389, 389, 387, 387, 387, 386, 386, 386, 386, 386, 386, 386, 386, 386, 386, 386, 386, 386, 386, 386, 386, 386, 386, 386, 386, 386, 385, 385, 384, 384, 384, 384, 384, 384, 384, 384, 384, 384, 384, 384, 384, 383, 383, 383, 383, 383, 383, 383, 382, 382, 382, 382, 382, 382, 382, 382, 382, 382, 382, 382, 382, 382, 382, 382, 382, 382, 381, 381, 381, 381, 381, 381, 381, 381, 381, 381, 381, 381, 381, 381, 381, 381, 381, 381, 381, 381, 381, 381, 381, 381, 381, 381, 381, 381, 381, 381, 381, 381, 381, 380, 380, 380, 380, 380, 380, 380, 380, 380, 380, 380, 380, 380, 380, 379, 379, 379, 379, 379, 379, 379, 379, 379, 378, 378, 378, 378, 378, 378, 378, 378, 378, 378, 378, 378, 378, 378, 378, 378, 378, 378, 378, 378, 378, 378, 377, 377, 377, 376, 376, 376, 376, 376, 376, 376, 376, 376, 376, 376, 375, 375, 375, 375, 375, 375, 375, 375, 375, 375, 375, 375, 375, 375, 375, 375, 375, 375, 375, 375, 375, 375, 375, 375, 375, 375, 375, 375, 375, 375, 374, 374, 374, 373, 372, 372, 372, 371, 371, 371, 371, 371, 371, 371, 371, 371, 371, 371, 371, 371, 371, 370, 370, 370, 370, 370, 370, 370, 370, 370, 370, 370, 370, 370, 370, 370, 369, 369, 369, 369, 369, 369, 369, 369, 369, 369, 369, 369, 369, 369, 369, 369, 369, 369, 369, 369, 368, 368, 368, 368, 368, 368, 368, 368, 368, 368, 368, 368, 368, 368, 368, 368, 366, 365, 364, 364, 364, 364, 364, 364, 364, 364, 364, 364, 364, 364, 364, 364, 364, 364, 364, 364, 364, 362, 362, 362, 362, 362, 362, 362, 362, 362, 362, 362, 362, 362, 362, 362, 362, 362, 362, 362, 362, 362, 362, 362, 362, 362, 361, 361, 361, 361, 361, 361, 361, 360, 360, 360, 357, 357, 357, 357, 357, 357, 357, 357, 357, 357, 357, 357, 357, 357, 357, 357, 357, 357, 356, 356, 356, 356, 356, 356, 356, 356, 356, 356, 356, 356, 356, 356, 356, 356, 356, 356, 355, 355, 354, 354, 354, 354, 354, 354, 354, 354, 354, 354, 354, 354, 354, 354, 354, 353, 353, 353, 353, 353, 353, 353, 351, 351, 351, 350, 349, 349, 349, 349, 349, 349, 348, 348, 348, 348, 348, 348, 347, 347, 347, 347, 347, 347, 347, 347, 347, 346, 346, 346, 346, 346, 346, 346, 346, 346, 345, 345, 345, 345, 344, 344, 344, 344, 343, 343, 342, 342, 342, 342, 342, 342, 342, 342, 342, 342, 342, 342, 342, 342, 340, 340, 339, 339, 339, 339, 339, 338, 337, 337, 337, 336, 336, 335, 335, 335, 335, 335, 335, 335, 335, 335, 334, 334, 334, 334, 334, 333, 333, 332, 332, 332, 332, 332, 332, 332, 332, 332, 332, 332, 332, 332, 332, 332, 332, 332, 332, 332, 332, 332, 332, 331, 331, 331, 331, 331, 331, 331, 331, 331, 330, 329, 329, 328, 328, 328, 328, 328, 327, 327, 327, 327, 326, 326, 326, 326, 326, 326, 326, 326, 326, 326, 326, 326, 326, 326, 326, 326, 326, 325, 325, 325, 325, 325, 324, 324, 324, 323, 323, 323, 323, 323, 323, 323, 323, 323, 323, 323, 323, 323, 323, 323, 323, 323, 323, 323, 322, 321, 321, 321, 321, 321, 321, 321, 321, 321, 321, 321, 321, 321, 321, 321, 321, 321, 321, 321, 321, 321, 321, 321, 321, 321, 321, 320, 320, 320, 320, 318, 318, 318, 318, 318, 318, 318, 318, 318, 318, 318, 318, 318, 318, 318, 318, 318, 318, 318, 318, 318, 318, 318, 318, 317, 317, 317, 316, 316, 316, 316, 315, 315, 315, 315, 315, 315, 315, 315, 315, 315, 315, 315, 315, 315, 315, 315, 315, 315, 315, 315, 315, 315, 315, 315, 315, 315, 315, 315, 315, 315, 315, 315, 315, 314, 314, 314, 314, 314, 314, 314, 314, 314, 314, 314, 314, 314, 314, 314, 312, 311, 311, 311, 311, 311, 311, 310, 310, 310, 310, 310, 310, 310, 310, 310, 310, 310, 310, 309, 309, 309, 309, 309, 308, 308, 308, 308, 307, 307, 307, 307, 306, 306, 306, 306, 306, 306, 306, 306, 306, 306, 306, 306, 305, 305, 305, 305, 305, 305, 305, 305, 305, 305, 305, 305, 305, 305, 305, 305, 305, 304, 303, 303, 303, 303, 303, 303, 303, 303, 303, 303, 303, 303, 303, 303, 303, 303, 303, 303, 303, 303, 303, 303, 303, 303, 303, 303, 303, 303, 303, 303, 303, 303, 303, 303, 303, 303, 303, 303, 303, 303, 303, 303, 303, 303, 303, 303, 303, 303, 303, 303, 303, 303, 303, 301, 301, 299, 299, 299, 299, 298, 298, 298, 298, 298, 298, 298, 297, 297, 297, 297, 296, 296, 296, 295, 295, 295, 294, 294, 294, 294, 294, 294, 294, 294, 293, 291, 291, 291, 291, 291, 291, 291, 291, 291, 291, 291, 291, 291, 291, 291, 291, 291, 291, 291, 291, 291, 291, 291, 291, 291, 291, 291, 291, 291, 291, 291, 291, 290, 290, 290, 289, 289, 289, 289, 289, 289, 289, 289, 289, 289, 289, 289, 289, 289, 289, 289, 289, 289, 289, 289, 289, 289, 289, 289, 289, 289, 289, 289, 289, 289, 289, 289, 289, 289, 289, 289, 289, 289, 289, 289, 289, 289, 289, 289, 289, 289, 289, 289, 288, 288, 288, 288, 288, 288, 288, 287, 287, 287, 287, 287, 287, 287, 287, 287, 287, 287, 287, 287, 287, 287, 287, 287, 287, 287, 287, 287, 287, 287, 287, 287, 287, 287, 287, 287, 287, 287, 287, 287, 287, 287, 287, 287, 287, 287, 287, 287, 287, 287, 287, 287, 287, 287, 287, 287, 287, 287, 287, 287, 286, 286, 286, 286, 286, 286, 286, 286, 286, 286, 286, 286, 286, 286, 286, 286, 286, 286, 286, 286, 286, 286, 285, 285, 285, 285, 285, 285, 285, 285, 285, 285, 285, 285, 285, 285, 285, 285, 285, 285, 285, 285, 285, 285, 285, 285, 285, 285, 285, 285, 285, 285, 285, 285, 285, 285, 285, 285, 285, 285, 284, 284, 284, 284, 284, 284, 284, 284, 284, 284, 284, 284, 284, 284, 284, 284, 284, 284, 284, 284, 284, 284, 284, 284, 284, 284, 284, 284, 284, 284, 284, 284, 284, 284, 284, 284, 284, 284, 284, 284, 284, 284, 284, 283, 283, 283, 283, 283, 283, 283, 283, 283, 283, 283, 283, 283, 283, 283, 283, 283, 283, 283, 283, 283, 283, 283, 283, 283, 282, 282, 282, 282, 282, 282, 282, 282, 282, 281, 281, 281, 281, 281, 281, 281, 281, 281, 281, 281, 281, 281, 281, 281, 281, 281, 281, 281, 281, 281, 281, 281, 281, 281, 281, 281, 281, 281, 281, 281, 281, 281, 281, 281, 281, 281, 281, 280, 280, 280, 280, 280, 280, 280, 280, 280, 280, 280, 280, 280, 279, 279, 279, 279, 279, 279, 279, 279, 279, 279, 279, 279, 279, 279, 279, 279, 279, 279, 279, 279, 279, 279, 279, 279, 279, 279, 279, 279, 279, 279, 279, 279, 279, 279, 279, 279, 279, 279, 278, 278, 276, 276, 276, 276, 276, 276, 276, 276, 276, 276, 276, 276, 276, 276, 276, 276, 276, 276, 276, 276, 276, 276, 276, 276, 276, 276, 276, 276, 276, 274, 274, 274, 274, 274, 274, 274, 274, 274, 274, 274, 274, 274, 274, 274, 274, 274, 274, 274, 274, 274, 274, 274, 274, 274, 274, 274, 274, 272, 272, 272, 272, 272, 271, 271, 271, 271, 271, 270, 270, 270, 270, 270, 270, 270, 270, 270, 270, 270, 270, 270, 270, 270, 270, 270, 270, 270, 270, 270, 270, 270, 270, 270, 270, 270, 270, 270, 268, 268, 268, 268, 268, 268, 268, 268, 268, 268, 268, 268, 268, 268, 268, 268, 268, 268, 268, 268, 268, 268, 268, 268, 268, 268, 268, 268, 268, 268, 268, 268, 268, 268, 268, 268, 268, 268, 267, 267, 267, 267, 267, 267, 267, 267, 267, 267, 267, 267, 267, 267, 267, 267, 267, 267, 267, 267, 267, 267, 267, 267, 267, 267, 267, 267, 267, 267, 267, 267, 267, 267, 267, 267, 267, 267, 267, 267, 267, 267, 267, 267, 266, 266, 266, 266, 266, 266, 266, 266, 266, 265, 265, 265, 265, 265, 265, 265, 265, 265, 265, 265, 265, 265, 265, 265, 265, 265, 265, 265, 264, 264, 264, 264, 264, 264, 264, 264, 264, 264, 264, 264, 264, 264, 264, 264, 264, 264, 264, 264, 264, 264, 264, 264, 264, 264, 264, 264, 264, 264, 264, 264, 264, 264, 264, 264, 264, 264, 264, 263, 263, 263, 263, 263, 263, 263, 263, 263, 263, 263, 263, 263, 263, 263, 263, 263, 263, 263, 263, 263, 263, 263, 263, 263, 262, 262, 262, 262, 262, 262, 262, 262, 262, 262, 262, 262, 262, 262, 262, 262, 262, 262, 262, 262, 262, 262, 262, 262, 262, 261, 260, 260, 260, 260, 260, 260, 260, 260, 260, 260, 260, 260, 260, 260, 260, 260, 260, 260, 260, 260, 260, 260, 260, 260, 260, 260, 260, 260, 260, 260, 260, 260, 260, 260, 260, 259, 259, 259, 259, 259, 259, 259, 259, 259, 259, 259, 259, 259, 259, 258, 258, 258, 257, 257, 257, 257, 257, 257, 257, 257, 257, 257, 257, 257, 257, 257, 257, 257, 257, 257, 257, 257, 257, 257, 257, 257, 257, 257, 257, 257, 257, 257, 257, 257, 257, 257, 257, 257, 257, 257, 257, 257, 257, 257, 257, 257, 257, 257, 257, 257, 257, 257, 257, 257, 257, 257, 257, 257, 257, 257, 257, 257, 257, 257, 257, 257, 257, 257, 257, 257, 257, 257, 257, 257, 257, 257, 257, 257, 257, 257, 257, 257, 257, 257, 257, 257, 257, 257, 257, 257, 257, 256, 256, 256, 256, 256, 256, 256, 256, 256, 256, 256, 256, 256, 256, 256, 256, 256, 256, 256, 256, 256, 256, 256, 256, 256, 256, 256, 256, 255, 255, 255, 255, 255, 255, 255, 255, 255, 255, 255, 255, 255, 255, 255, 255, 255, 255, 255, 255, 255, 255, 255, 255, 255, 255, 255, 255, 255, 255, 255, 255, 255, 255, 255, 255, 255, 255, 255, 255, 255, 255, 255, 255, 255, 255, 254, 254, 254, 254, 254, 254, 254, 254, 254, 254, 254, 254, 254, 254, 254, 254, 254, 254, 254, 254, 254, 254, 254, 254, 254, 254, 254, 254, 254, 254, 254, 254, 254, 254, 254, 254, 254, 254, 254, 254, 254, 254, 254, 254, 254, 254, 254, 254, 254, 252, 252, 252, 252, 252, 252, 252, 252, 252, 252, 252, 252, 252, 252, 252, 252, 252, 252, 252, 251, 250, 250, 250, 250, 250, 250, 250, 249, 249, 249, 249, 249, 249, 249, 249, 249, 249, 249, 248, 248, 248, 248, 248, 248, 248, 248, 248, 248, 248, 248, 248, 248, 248, 248, 248, 248, 248, 248, 248, 248, 248, 247, 247, 247, 247, 247, 247, 247, 247, 247, 247, 247, 247, 247, 247, 247, 247, 247, 247, 247, 247, 247, 247, 247, 246, 246, 246, 246, 246, 246, 246, 246, 246, 244, 244, 244, 244, 244, 244, 244, 244, 244, 244, 244, 243, 243, 243, 243, 243, 243, 243, 243, 243, 243, 243, 243, 243, 243, 242, 242, 242, 242, 242, 242, 242, 242, 242, 240, 240, 240, 240, 240, 240, 240, 240, 240, 239, 239, 239, 239, 239, 239, 239, 239, 239, 239, 239, 239, 239, 239, 239, 239, 239, 239, 239, 239, 239, 239, 239, 239, 239, 239, 238, 238, 237, 237, 237, 237, 237, 237, 237, 237, 237, 237, 237, 237, 237, 237, 237, 237, 237, 237, 237, 237, 235, 235, 235, 235, 235, 235, 235, 235, 235, 235, 235, 235, 235, 234, 234, 234, 234, 234, 234, 234, 234, 234, 234, 234, 234, 234, 234, 234, 234, 234, 234, 234, 234, 234, 234, 234, 233, 233, 233, 232, 232, 232, 232, 232, 232, 232, 232, 232, 232, 232, 232, 232, 232, 232, 232, 232, 232, 232, 232, 232, 232, 232, 232, 232, 232, 232, 232, 232, 232, 232, 232, 232, 232, 232, 232, 232, 232, 232, 232, 232, 232, 232, 232, 232, 232, 232, 231, 231, 231, 231, 230, 230, 230, 230, 230, 230, 230, 230, 230, 230, 230, 230, 230, 230, 230, 230, 230, 230, 230, 230, 230, 230, 230, 230, 229, 229, 229, 229, 229, 229, 229, 229, 229, 229, 229, 229, 229, 229, 229, 229, 229, 229, 228, 228, 228, 228, 228, 228, 228, 228, 228, 228, 228, 228, 228, 228, 228, 228, 228, 228, 228, 228, 228, 228, 228, 228, 228, 228, 228, 227, 227, 227, 227, 227, 227, 227, 227, 227, 227, 227, 227, 227, 227, 227, 227, 227, 227, 227, 227, 227, 227, 227, 227, 227, 227, 227, 227, 227, 227, 227, 227, 227, 227, 227, 227, 227, 227, 227, 226, 226, 226, 226, 224, 224, 224, 223, 223, 223, 223, 223, 223, 223, 223, 223, 223, 223, 223, 223, 223, 223, 223, 222, 222, 222, 222, 222, 222, 222, 222, 222, 222, 222, 222, 222, 222, 222, 222, 222, 222, 222, 222, 222, 222, 222, 222, 221, 221, 221, 221, 221, 221, 221, 221, 221, 221, 221, 221, 221, 221, 221, 221, 221, 221, 221, 221, 221, 221, 221, 221, 221, 221, 221, 221, 221, 220, 220, 220, 220, 220, 220, 220, 220, 220, 220, 220, 220, 220, 220, 219, 219, 219, 219, 219, 219, 219, 219, 219, 219, 219, 219, 219, 219, 219, 219, 219, 219, 219, 219, 219, 219, 219, 219, 219, 219, 219, 219, 219, 219, 219, 219, 219, 219, 219, 219, 219, 219, 219, 219, 219, 219, 219, 219, 219, 219, 219, 219, 219, 219, 219, 219, 219, 219, 219, 219, 219, 219, 219, 219, 219, 219, 219, 219, 219, 219, 219, 219, 219, 219, 219, 219, 219, 219, 219, 219, 218, 218, 218, 218, 218, 218, 218, 218, 218, 218, 218, 218, 218, 218, 218, 218, 218, 218, 218, 218, 218, 218, 218, 218, 218, 218, 218, 218, 218, 218, 218, 218, 218, 218, 218, 218, 218, 218, 218, 218, 217, 217, 217, 217, 217, 217, 217, 217, 217, 217, 217, 217, 217, 217, 217, 217, 217, 217, 217, 217, 217, 217, 217, 217, 217, 217, 217, 217, 217, 216, 216, 216, 216, 216, 216, 216, 216, 216, 216, 216, 216, 216, 216, 216, 215, 215, 215, 215, 215, 215, 215, 215, 215, 215, 215, 215, 215, 215, 215, 215, 215, 215, 215, 215, 215, 215, 215, 215, 215, 215, 215, 214, 214, 214, 214, 214, 214, 213, 213, 213, 213, 213, 213, 213, 213, 213, 213, 213, 213, 213, 213, 213, 213, 213, 213, 213, 213, 213, 213, 213, 213, 213, 213, 213, 213, 213, 213, 213, 213, 213, 213, 213, 213, 213, 213, 213, 213, 213, 213, 213, 213, 213, 213, 213, 213, 213, 213, 213, 212, 212, 212, 212, 212, 212, 212, 212, 212, 212, 212, 212, 212, 212, 211, 211, 211, 211, 211, 211, 211, 211, 211, 211, 211, 211, 211, 211, 211, 211, 211, 211, 211, 211, 211, 211, 211, 211, 211, 211, 211, 211, 211, 211, 211, 211, 210, 210, 210, 210, 210, 210, 210, 210, 210, 210, 210, 210, 210, 210, 210, 210, 210, 210, 210, 210, 210, 210, 210, 210, 209, 209, 209, 209, 209, 209, 209, 209, 209, 209, 209, 208, 208, 208, 208, 208, 208, 208, 208, 208, 208, 208, 208, 208, 208, 208, 208, 208, 208, 208, 208, 207, 207, 207, 207, 207, 207, 207, 207, 207, 207, 207, 207, 207, 207, 207, 207, 207, 207, 207, 207, 207, 207, 207, 207, 207, 206, 206, 206, 206, 206, 206, 206, 206, 206, 206, 206, 206, 206, 206, 206, 206, 206, 206, 206, 206, 206, 206, 206, 206, 206, 205, 205, 205, 205, 205, 205, 205, 205, 205, 205, 205, 205, 204, 204, 204, 204, 204, 204, 204, 204, 204, 204, 204, 204, 204, 204, 204, 204, 204, 204, 204, 204, 204, 204, 204, 204, 204, 204, 204, 204, 204, 203, 203, 203, 203, 203, 203, 203, 203, 203, 203, 203, 203, 203, 203, 203, 203, 203, 203, 203, 202, 202, 202, 202, 202, 202, 202, 202, 202, 202, 202, 202, 202, 202, 202, 202, 202, 202, 202, 202, 202, 202, 202, 202, 202, 202, 201, 201, 201, 201, 201, 201, 201, 201, 201, 201, 201, 201, 201, 201, 201, 201, 201, 201, 201, 201, 201, 201, 201, 201, 199, 199, 199, 199, 199, 199, 199, 199, 199, 199, 199, 199, 199, 199, 199, 199, 199, 199, 199, 199, 199, 199, 199, 199, 199, 199, 197, 197, 197, 197, 197, 197, 197, 197, 197, 197, 197, 197, 197, 197, 197, 197, 197, 197, 197, 197, 197, 197, 197, 197, 197, 197, 197, 197, 197, 197, 197, 197, 197, 197, 197, 197, 197, 197, 197, 197, 197, 197, 197, 197, 197, 197, 197, 197, 197, 197, 197, 197, 197, 197, 197, 197, 197, 197, 197, 197, 197, 197, 197, 197, 197, 197, 197, 197, 197, 197, 197, 197, 197, 197, 197, 197, 197, 197, 197, 197, 197, 197, 197, 197, 197, 197, 197, 196, 196, 196, 196, 196, 196, 196, 196, 196, 196, 196, 196, 196, 196, 196, 196, 196, 196, 196, 196, 195, 195, 195, 195, 195, 195, 195, 195, 195, 195, 195, 195, 195, 195, 195, 195, 195, 195, 195, 195, 195, 195, 195, 195, 195, 195, 195, 195, 195, 195, 195, 195, 194, 194, 194, 194, 194, 194, 194, 194, 194, 194, 194, 194, 194, 194, 194, 194, 194, 194, 194, 194, 194, 194, 194, 194, 194, 194, 194, 194, 194, 193, 193, 193, 193, 193, 193, 193, 193, 193, 193, 193, 193, 193, 193, 193, 193, 193, 193, 193, 193, 192, 192, 192, 192, 192, 192, 192, 192, 192, 192, 192, 192, 192, 192, 192, 192, 192, 192, 192, 192, 192, 192, 192, 192, 192, 192, 192, 192, 192, 192, 192, 192, 192, 192, 192, 192, 192, 192, 192, 191, 191, 191, 191, 191, 191, 191, 191, 191, 191, 191, 191, 191, 191, 191, 191, 191, 191, 191, 191, 191, 191, 191, 191, 191, 191, 191, 191, 191, 191, 191, 191, 190, 190, 190, 190, 190, 190, 190, 190, 190, 190, 190, 190, 190, 189, 189, 189, 189, 189, 189, 189, 189, 189, 189, 189, 189, 189, 189, 189, 189, 189, 189, 189, 189, 189, 189, 189, 189, 189, 189, 189, 189, 189, 189, 189, 189, 189, 189, 188, 188, 188, 188, 188, 188, 188, 188, 188, 188, 188, 188, 187, 187, 187, 187, 187, 187, 187, 187, 187, 187, 187, 187, 187, 187, 187, 187, 187, 187, 187, 187, 187, 187, 187, 187, 187, 187, 187, 187, 187, 187, 187, 187, 187, 187, 187, 187, 187, 187, 186, 186, 186, 186, 186, 186, 186, 186, 186, 186, 186, 186, 186, 186, 186, 186, 186, 186, 186, 185, 185, 185, 185, 185, 185, 185, 185, 185, 185, 185, 185, 185, 185, 185, 185, 185, 185, 185, 185, 185, 185, 185, 185, 185, 184, 184, 184, 184, 184, 184, 184, 184, 184, 184, 184, 184, 184, 184, 184, 184, 184, 184, 184, 184, 184, 184, 184, 184, 184, 184, 184, 184, 184, 184, 183, 183, 183, 183, 183, 183, 183, 183, 183, 183, 183, 183, 183, 183, 183, 183, 183, 183, 183, 183, 183, 183, 183, 183, 183, 183, 183, 183, 183, 183, 183, 183, 183, 183, 183, 183, 183, 183, 183, 182, 182, 182, 182, 182, 182, 182, 182, 182, 182, 182, 182, 182, 181, 181, 181, 181, 181, 181, 181, 181, 181, 181, 181, 181, 181, 181, 181, 181, 181, 180, 180, 180, 180, 180, 180, 180, 180, 180, 180, 180, 180, 180, 180, 180, 180, 180, 180, 180, 180, 180, 180, 180, 180, 180, 180, 180, 180, 180, 180, 180, 180, 180, 180, 180, 180, 180, 179, 179, 179, 179, 179, 179, 179, 179, 179, 179, 179, 179, 179, 179, 179, 179, 179, 179, 179, 179, 179, 179, 179, 179, 179, 179, 179, 178, 178, 178, 178, 178, 178, 178, 178, 178, 178, 178, 178, 178, 178, 178, 178, 178, 178, 178, 178, 178, 178, 178, 178, 178, 178, 178, 178, 178, 178, 178, 178, 178, 178, 178, 178, 178, 178, 178, 178, 178, 178, 178, 178, 178, 178, 178, 177, 177, 177, 177, 177, 177, 177, 177, 177, 177, 177, 177, 177, 177, 177, 177, 177, 177, 177, 177, 177, 177, 177, 177, 177, 177, 177, 177, 176, 176, 176, 176, 176, 176, 176, 176, 176, 176, 176, 176, 176, 176, 176, 176, 176, 176, 176, 176, 176, 176, 176, 176, 176, 176, 176, 176, 176, 176, 176, 176, 176, 176, 175, 175, 175, 175, 175, 175, 175, 175, 174, 174, 174, 174, 174, 174, 174, 174, 174, 174, 174, 174, 174, 174, 174, 174, 174, 174, 174, 174, 174, 174, 174, 174, 174, 174, 174, 174, 174, 174, 174, 174, 174, 174, 174, 174, 174, 174, 174, 174, 174, 174, 173, 173, 173, 173, 173, 173, 173, 173, 173, 173, 173, 173, 173, 173, 173, 173, 173, 173, 173, 173, 173, 173, 173, 173, 172, 172, 172, 172, 172, 172, 172, 172, 172, 172, 172, 172, 172, 172, 172, 172, 172, 172, 172, 171, 171, 171, 171, 171, 170, 170, 170, 170, 170, 170, 170, 170, 170, 170, 170, 170, 170, 170, 170, 170, 170, 170, 170, 170, 169, 169, 169, 169, 169, 169, 169, 169, 169, 169, 169, 169, 169, 169, 169, 169, 169, 169, 169, 169, 169, 169, 169, 168, 168, 168, 168, 168, 168, 168, 168, 168, 168, 168, 168, 167, 167, 167, 167, 167, 167, 167, 167, 167, 167, 167, 167, 167, 167, 167, 167, 167, 166, 166, 166, 166, 166, 166, 166, 166, 166, 166, 166, 166, 166, 166, 166, 166, 166, 166, 166, 166, 166, 166, 166, 166, 166, 166, 166, 166, 166, 166, 166, 166, 166, 166, 166, 166, 166, 166, 166, 165, 165, 165, 165, 165, 165, 165, 164, 164, 164, 164, 164, 164, 164, 163, 163, 163, 163, 163, 163, 163, 163, 163, 163, 163, 163, 163, 163, 163, 163, 163, 163, 163, 163, 163, 163, 163, 163, 163, 163, 163, 163, 163, 163, 163, 163, 163, 162, 162, 162, 162, 162, 162, 162, 162, 162, 162, 162, 162, 162, 161, 161, 160, 160, 160, 160, 160, 160, 160, 160, 160, 160, 160, 160, 160, 160, 160, 160, 160, 160, 160, 160, 160, 160, 159, 159, 159, 158, 158, 158, 158, 158, 158, 158, 158, 158, 158, 158, 158, 158, 158, 158, 158, 158, 158, 158, 158, 158, 158, 158, 158, 158, 158, 158, 158, 158, 158, 158, 158, 158, 158, 158, 158, 158, 158, 158, 158, 158, 158, 158, 158, 158, 158, 158, 158, 158, 158, 158, 158, 158, 158, 158, 158, 158, 158, 158, 158, 158, 158, 158, 158, 158, 158, 157, 157, 157, 157, 157, 157, 157, 157, 157, 157, 157, 157, 157, 157, 157, 157, 157, 157, 157, 157, 157, 157, 157, 157, 157, 157, 157, 156, 156, 156, 156, 156, 156, 156, 156, 156, 156, 156, 156, 156, 156, 156, 156, 156, 156, 156, 156, 156, 156, 155, 155, 155, 154, 154, 154, 154, 153, 153, 153, 153, 153, 153, 153, 153, 153, 153, 153, 153, 153, 153, 153, 153, 153, 153, 153, 153, 153, 153, 153, 153, 153, 153, 153, 153, 153, 153, 153, 153, 153, 153, 153, 152, 152, 152, 152, 152, 152, 152, 152, 152, 152, 152, 152, 152, 152, 152, 152, 152, 152, 152, 152, 152, 152, 152, 152, 152, 152, 152, 152, 152, 152, 152, 152, 152, 152, 152, 152, 152, 152, 151, 151, 151, 151, 151, 150, 150, 150, 149, 149, 149, 149, 149, 149, 149, 149, 149, 149, 149, 149, 149, 149, 149, 149, 149, 149, 149, 149, 149, 149, 149, 149, 148, 148, 148, 148, 148, 148, 148, 148, 148, 148, 148, 148, 148, 147, 147, 147, 147, 147, 147, 147, 147, 147, 146, 146, 146, 146, 146, 145, 145, 145, 145, 145, 145, 145, 144, 144, 144, 144, 143, 143, 143, 143, 143, 143, 143, 143, 143, 143, 143, 143, 143, 143, 143, 143, 143, 143, 143, 143, 143, 143, 143, 143, 143, 143, 143, 143, 143, 143, 143, 143, 143, 143, 143, 143, 143, 143, 143, 143, 143, 143, 143, 143, 143, 142, 142, 142, 142, 142, 142, 142, 142, 142, 142, 142, 141, 141, 141, 141, 141, 141, 141, 141, 141, 141, 141, 141, 141, 141, 141, 141, 141, 141, 141, 141, 141, 141, 141, 141, 140, 140, 140, 140, 140, 140, 140, 140, 140, 140, 140, 140, 140, 140, 140, 140, 140, 140, 140, 140, 140, 140, 140, 140, 140, 140, 140, 140, 140, 140, 140, 139, 139, 139, 139, 139, 138, 138, 138, 138, 138, 138, 138, 138, 138, 137, 137, 137, 137, 137, 136, 136, 136, 136, 136, 136, 136, 136, 136, 134, 134, 134, 132, 130, 129, 129, 129, 129, 129, 129, 129, 129, 129, 129, 129, 129, 129, 129, 129, 129, 129, 129, 129, 129, 129, 129, 129, 129, 129, 129, 129, 129, 128, 128, 128, 127, 127, 127, 127, 127, 127, 127, 127, 127, 127, 127, 127, 127, 127, 127, 127, 127, 127, 127, 127, 127, 127, 127, 127, 126, 125, 125, 125, 125, 125, 125, 125, 125, 125, 125, 124, 124, 124, 124, 124, 124, 124, 124, 124, 124, 124, 124, 122, 122, 122, 122, 122, 122, 122, 122, 122, 122, 122, 120, 120, 120, 119, 119, 119, 119, 119, 119, 119, 119, 119, 119, 119, 119, 119, 119, 119, 119, 119, 118, 118, 118, 118, 118, 118, 118, 118, 118, 118, 118, 118, 118, 118, 118, 118, 118, 118, 118, 118, 118, 118, 118, 118, 118, 118, 118, 117, 117, 117, 117, 117, 117, 117, 117, 117, 117, 117, 117, 117, 117, 117, 117, 117, 117, 117, 117, 117, 117, 117, 116, 116, 116, 116, 116, 116, 114, 114, 114, 114, 114, 114, 114, 114, 114, 114, 114, 114, 114, 114, 114, 114, 114, 114, 114, 114, 114, 114, 114, 114, 114, 114, 114, 113, 113, 113, 113, 113, 113, 113, 113, 113, 113, 112, 112, 112, 112, 112, 112, 111, 111, 111, 111, 111, 111, 111, 111, 111, 111, 111, 111, 111, 111, 110, 110, 110, 110, 110, 110, 110, 110, 110, 110, 110, 110, 110, 110, 110, 110, 110, 110, 110, 108, 108, 108, 108, 108, 108, 108, 108, 107, 107, 107, 107, 107, 107, 107, 106, 106, 106, 106, 106, 106, 106, 106, 106, 106, 105, 105, 105, 105, 105, 105, 105, 105, 105, 105, 105, 105, 105, 105, 105, 105, 105, 105, 105, 105, 105, 105, 105, 105, 105, 105, 105, 105, 105, 105, 105, 105, 105, 104, 104, 104, 104, 104, 103, 103, 103, 102, 102, 102, 102, 102, 102, 102, 102, 102, 102, 102, 102, 102, 102, 102, 102, 102, 102, 102, 101, 100, 100, 100, 100, 99, 99, 99, 99, 99, 99, 98, 98, 98, 98, 98, 98, 98, 98, 98, 98, 98, 98, 98, 98, 98, 98, 98, 98, 98, 98, 98, 98, 98, 98, 98, 98, 98, 98, 98, 98, 98, 98, 98, 98, 98, 97, 97, 96, 96, 96, 96, 96, 96, 96, 96, 95, 95, 95, 95, 95, 95, 95, 95, 95, 95, 95, 94, 94, 94, 94, 94, 94, 94, 94, 94, 94, 94, 94, 94, 94, 94, 94, 94, 94, 94, 94, 94, 94, 94, 94, 94, 94, 94, 94, 94, 94, 94, 94, 94, 94, 94, 94, 94, 94, 94, 94, 94, 93, 92, 92, 92, 92, 92, 92, 92, 92, 92, 92, 92, 92, 92, 92, 92, 92, 92, 92, 92, 92, 92, 92, 92, 92, 92, 92, 92, 91, 91, 91, 91, 91, 91, 91, 90, 90, 90, 90, 90, 90, 90, 90, 90, 90, 90, 90, 89, 89, 89, 88, 88, 88, 88, 87, 87, 86, 86, 86, 85, 85, 85, 85, 85, 85, 85, 85, 85, 85, 85, 84, 83, 83, 83, 83, 83, 83, 82, 82, 82, 82, 82, 81, 81, 81, 81, 81, 81, 81, 81, 81, 81, 81, 80, 80, 80, 80, 80, 80, 80, 80, 80, 80, 80, 80, 80, 80, 80, 80, 80, 80, 80, 80, 80, 80, 80, 80, 80, 80, 79, 79, 79, 79, 79, 79, 79, 79, 79, 79, 79, 79, 79, 79, 79, 79, 79, 79, 78, 78, 78, 77, 77, 77, 76, 76, 76, 75, 74, 74, 74, 73, 73, 73, 73, 73, 73, 73, 73, 72, 72, 72, 72, 72, 72, 72, 72, 71, 71, 71, 71, 71, 71, 70, 70, 70, 70, 70, 70, 70, 70, 69, 69, 68, 68, 68, 68, 68, 68, 68, 68, 68, 68, 68, 67, 67, 67, 66, 66, 65, 65, 65, 65, 65, 65, 64, 64, 64, 63, 63, 63, 63, 63, 61, 61, 61, 61, 60, 60, 58, 58, 58, 57, 57, 56, 55, 55, 55, 55, 55, 55, 53, 53, 52, 52, 52, 52, 52, 51, 51, 50, 50, 50, 50, 50, 50, 50, 50, 49, 49, 49, 48, 48, 48, 47, 47, 47, 47, 47, 47, 46, 46, 46, 46, 46, 46, 46, 45, 45, 44, 44, 43, 43, 43, 43, 43, 43, 43, 43, 43, 43, 43, 43, 43, 43, 43, 43, 43, 43, 43, 43, 42, 42, 42, 42, 42, 42, 42, 42, 42, 42, 42, 42, 42, 42, 42, 42, 41, 41, 41, 41, 41, 41, 41, 41, 41, 41, 41, 41, 40, 40, 40, 40, 40, 40, 40, 40, 40, 40, 40, 40, 40, 40, 40, 40, 40, 40, 40, 40, 40, 40, 40, 40, 40, 40, 40, 40, 40, 40, 40, 40, 40, 40, 40, 39, 39, 39, 39, 39, 39, 39, 39, 39, 39, 39, 39, 39, 39, 39, 39, 39, 39, 39, 39, 39, 39, 39, 39, 38, 38, 38, 37, 37, 37, 37, 37, 37, 37, 37, 37, 37, 37, 37, 36, 36, 36, 36, 36, 36, 35, 35, 35, 35, 35, 35, 35, 35, 35, 35, 35, 35, 35, 35, 35, 35, 35, 35, 35, 35, 35, 35, 35, 35, 35, 35, 35, 35, 35, 35, 35, 35, 35, 35, 35, 35, 35, 35, 35, 34, 34, 34, 34, 34, 34, 34, 34, 34, 33, 33, 33, 33, 33, 33, 33, 33, 33, 33, 33, 33, 33, 33, 33, 33, 33, 33, 33, 33, 33, 33, 33, 33, 33, 33, 33, 33, 33, 33, 33, 33, 33, 33, 33, 33, 33, 33, 33, 33, 32, 32, 32, 32, 32, 32, 32, 31, 31, 31, 31, 31, 31, 30, 30, 30, 30, 30, 30, 30, 30, 30, 29, 29, 29, 29, 29, 29, 29, 29, 29, 29, 29, 29, 29, 29, 29, 29, 29, 29, 29, 28, 28, 28, 28, 28, 28, 28, 28, 28, 28, 28, 28, 28, 28, 28, 28, 28, 28, 28, 28, 28, 28, 28, 28, 28, 28, 28, 28, 28, 28, 28, 28, 28, 28, 28, 28, 27, 27, 27, 27, 27, 26, 26, 25, 25, 25, 25, 25, 25, 25, 25, 25, 25, 25, 25, 25, 24, 24, 24, 24, 24, 24, 24, 24, 24, 24, 24, 24, 24, 24, 24, 24, 24, 24, 24, 24, 24, 24, 24, 24, 24, 24, 24, 24, 24, 24, 24, 24, 24, 24, 24, 24, 24, 24, 24, 24, 24, 24, 24, 24, 24, 24, 23, 23, 23, 23, 23, 23, 23, 23, 23, 23, 23, 23, 23, 23, 23, 23, 23, 23, 23, 23, 23, 23, 23, 23, 23, 23, 23, 22, 22, 22, 22, 22, 22, 22, 22, 22, 22, 22, 22, 22, 22, 22, 21, 21, 21, 21, 21, 21, 21, 21, 21, 21, 21, 21, 21, 21, 21, 21, 21, 21, 21, 21, 21, 21, 21, 21, 21, 21, 21, 21, 21, 21, 21, 21, 20, 20, 20, 20, 20, 20, 20, 20, 20, 20, 20, 20, 20, 20, 20, 20, 20, 20, 20, 20, 20, 20, 20, 20, 20, 20, 20, 20, 20, 20, 20, 20, 20, 20, 20, 20, 19, 19, 18, 18, 18, 18, 18, 18, 18, 18, 18, 18, 18, 18, 18, 18, 18, 18, 18, 18, 18, 18, 18, 17, 17, 17, 17, 17, 17, 17, 17, 17, 17, 17, 17, 17, 17, 17, 17, 17, 17, 17, 17, 17, 17, 17, 17, 17, 17, 17, 17, 17, 17, 17, 17, 17, 17, 17, 17, 17, 17, 17, 17, 17, 17, 17, 17, 17, 17, 17, 17, 17, 17, 17, 17, 17, 17, 16, 16, 16, 16, 16, 16, 15, 15, 15, 15, 15, 15, 15, 15, 15, 15, 15, 15, 15, 15, 15, 15, 15, 15, 15, 14, 14, 12, 12, 12, 12, 12, 12, 12, 12, 12, 12, 12, 12, 12, 12, 12, 12, 12, 11, 11, 11, 11, 11, 11, 11, 11, 11, 11, 10, 10, 10, 10, 10, 10, 10, 10, 10, 10, 10, 10, 10, 10, 10, 10, 10, 10, 10, 10, 9, 9, 9, 9, 9, 8, 8, 8, 8, 8, 8, 8, 8, 8, 8, 8, 8, 8, 8, 8, 8, 8, 7, 7, 7, 7, 7, 7, 7, 7, 7, 6, 6, 6, 6, 6, 6, 5, 5, 4, 4, 4, 4, 4, 4, 4, 4, 4, 4, 4, 4, 4, 4, 4, 4, 4, 3, 3, 3, 3, 3, 3, 3, 3, 3, 3, 3, 3, 3, 3, 3, 2, 2, 2, 2, 2, 2, 2, 2, 2, 2, 2, 2, 2, 2, 2, 2, 1, 1, 1], \"x\": [\"13825\", \"13983\", \"13300\", \"13422\", \"13259\", \"13050\", \"13575\", \"13909\", \"13173\", \"13209\", \"13178\", \"13514\", \"13374\", \"13484\", \"13048\", \"13052\", \"13279\", \"13157\", \"13171\", \"13248\", \"13821\", \"13040\", \"13107\", \"13231\", \"13720\", \"13222\", \"13605\", \"13921\", \"13664\", \"13266\", \"13033\", \"13226\", \"13402\", \"13506\", \"13009\", \"13751\", \"13964\", \"13287\", \"13894\", \"13932\", \"13788\", \"13059\", \"13748\", \"13899\", \"13905\", \"13453\", \"13789\", \"13750\", \"13394\", \"13530\", \"13958\", \"13420\", \"13291\", \"13391\", \"15157\", \"13267\", \"13916\", \"13813\", \"13975\", \"13742\", \"13516\", \"13001\", \"13407\", \"13570\", \"13434\", \"13797\", \"13483\", \"12973\", \"13901\", \"9276\", \"13219\", \"13818\", \"13292\", \"13053\", \"13629\", \"13406\", \"13824\", \"13626\", \"13482\", \"13366\", \"13465\", \"13064\", \"13393\", \"13805\", \"13119\", \"13239\", \"13131\", \"13343\", \"13302\", \"13783\", \"13622\", \"13481\", \"14655\", \"13918\", \"13234\", \"12984\", \"13882\", \"9227\", \"12978\", \"13408\", \"13130\", \"13377\", \"13035\", \"13624\", \"13472\", \"13591\", \"4143\", \"13778\", \"13898\", \"13380\", \"13790\", \"10165\", \"13641\", \"13477\", \"5465\", \"13369\", \"9949\", \"8890\", \"13470\", \"13431\", \"13819\", \"13512\", \"13156\", \"13326\", \"13202\", \"13759\", \"13782\", \"13150\", \"13612\", \"13433\", \"13388\", \"13974\", \"13236\", \"13967\", \"15211\", \"13418\", \"13652\", \"13290\", \"12993\", \"13361\", \"13089\", \"12888\", \"13766\", \"1070\", \"13698\", \"13762\", \"3443\", \"13405\", \"311\", \"13282\", \"6678\", \"900\", \"13242\", \"13128\", \"5132\", \"13733\", \"13352\", \"4534\", \"13014\", \"13507\", \"13445\", \"13946\", \"13837\", \"13855\", \"12999\", \"13674\", \"13241\", \"4697\", \"8203\", \"9633\", \"1341\", \"1462\", \"2209\", \"2396\", \"5181\", \"5737\", \"6735\", \"7190\", \"8427\", \"8911\", \"10269\", \"10358\", \"2751\", \"321\", \"3400\", \"6665\", \"7884\", \"9248\", \"9648\", \"9712\", \"13968\", \"2541\", \"3169\", \"13828\", \"13682\", \"13073\", \"13808\", \"13746\", \"14339\", \"6244\", \"4194\", \"8550\", \"13199\", \"13271\", \"6997\", \"13196\", \"13969\", \"5372\", \"303\", \"13367\", \"13840\", \"13207\", \"14688\", \"13414\", \"1707\", \"13190\", \"13540\", \"2447\", \"8986\", \"13268\", \"12963\", \"14295\", \"13697\", \"13780\", \"13558\", \"3651\", \"13324\", \"10159\", \"13515\", \"1843\", \"4271\", \"6903\", \"9003\", \"13417\", \"12962\", \"8998\", \"1100\", \"15156\", \"5220\", \"9807\", \"13973\", \"13504\", \"1440\", \"12949\", \"13662\", \"3938\", \"13979\", \"13030\", \"638\", \"338\", \"13000\", \"13357\", \"3783\", \"4307\", \"13586\", \"1632\", \"2365\", \"13296\", \"10157\", \"7417\", \"9391\", \"14266\", \"14741\", \"2900\", \"13424\", \"3355\", \"3554\", \"6042\", \"6125\", \"9504\", \"1082\", \"4727\", \"13803\", \"13950\", \"13186\", \"6260\", \"15171\", \"10011\", \"5540\", \"7662\", \"13108\", \"13321\", \"13717\", \"13669\", \"14316\", \"3152\", \"5025\", \"13718\", \"4267\", \"317\", \"13490\", \"715\", \"3490\", \"14207\", \"8870\", \"7405\", \"2125\", \"1009\", \"8512\", \"4558\", \"5407\", \"5626\", \"6721\", \"8036\", \"2440\", \"2463\", \"3042\", \"15446\", \"1944\", \"13348\", \"14206\", \"8869\", \"463\", \"538\", \"1197\", \"6177\", \"8868\", \"5029\", \"9553\", \"13189\", \"1281\", \"326\", \"4574\", \"7671\", \"9979\", \"13646\", \"2042\", \"2780\", \"13400\", \"13429\", \"4150\", \"13265\", \"15450\", \"13006\", \"15451\", \"7941\", \"12947\", \"14142\", \"13487\", \"12952\", \"13536\", \"10399\", \"15016\", \"7734\", \"12945\", \"453\", \"9512\", \"13919\", \"10259\", \"2143\", \"4960\", \"13166\", \"7497\", \"1104\", \"6004\", \"726\", \"7343\", \"12968\", \"13049\", \"13206\", \"7898\", \"13902\", \"13846\", \"6990\", \"8644\", \"10388\", \"4350\", \"7273\", \"13492\", \"4884\", \"8469\", \"12891\", \"12898\", \"12913\", \"12919\", \"4439\", \"632\", \"13198\", \"1367\", \"13098\", \"320\", \"6070\", \"9364\", \"10109\", \"5935\", \"13842\", \"3250\", \"4217\", \"4410\", \"9201\", \"13545\", \"14161\", \"15441\", \"3115\", \"3913\", \"3597\", \"8737\", \"3296\", \"5251\", \"5650\", \"6540\", \"7151\", \"5002\", \"7874\", \"14234\", \"13134\", \"14052\", \"14186\", \"13787\", \"12976\", \"462\", \"611\", \"6156\", \"2876\", \"13761\", \"6817\", \"3385\", \"13621\", \"3886\", \"6205\", \"7677\", \"8258\", \"9386\", \"2705\", \"7368\", \"10098\", \"10353\", \"3442\", \"3720\", \"4197\", \"4402\", \"4891\", \"6517\", \"7690\", \"7801\", \"7809\", \"8223\", \"8499\", \"9752\", \"13574\", \"13148\", \"13779\", \"10274\", \"13263\", \"4420\", \"13907\", \"2458\", \"3373\", \"8004\", \"8682\", \"13694\", \"14211\", \"5623\", \"7617\", \"895\", \"14204\", \"13838\", \"13095\", \"13404\", \"2286\", \"7239\", \"2800\", \"15259\", \"13678\", \"4168\", \"4580\", \"13568\", \"12987\", \"8422\", \"9899\", \"403\", \"10150\", \"1997\", \"4034\", \"811\", \"1189\", \"1744\", \"2650\", \"3384\", \"3577\", \"6682\", \"6902\", \"7385\", \"746\", \"8882\", \"13225\", \"710\", \"6209\", \"8000\", \"779\", \"2567\", \"10176\", \"1739\", \"1933\", \"2338\", \"2909\", \"3060\", \"3271\", \"3836\", \"4456\", \"4553\", \"7234\", \"7665\", \"8136\", \"9938\", \"5733\", \"1489\", \"1492\", \"6966\", \"10272\", \"1958\", \"2086\", \"2240\", \"2332\", \"4413\", \"5599\", \"5706\", \"7217\", \"7950\", \"8731\", \"9043\", \"9301\", \"14233\", \"4030\", \"6925\", \"7121\", \"8765\", \"1399\", \"758\", \"13848\", \"14742\", \"5041\", \"10054\", \"1300\", \"1301\", \"2666\", \"3575\", \"4584\", \"5087\", \"6108\", \"7321\", \"7480\", \"8082\", \"9183\", \"9691\", \"8816\", \"13524\", \"2791\", \"6792\", \"10390\", \"15122\", \"15123\", \"15124\", \"1551\", \"3457\", \"7412\", \"941\", \"1125\", \"1443\", \"15038\", \"3280\", \"3948\", \"4829\", \"5277\", \"6485\", \"14231\", \"1195\", \"2243\", \"4902\", \"5094\", \"7506\", \"2034\", \"7581\", \"8596\", \"10142\", \"3083\", \"3679\", \"4583\", \"4647\", \"6371\", \"7424\", \"8411\", \"893\", \"9602\", \"1016\", \"1694\", \"1942\", \"2350\", \"2737\", \"3548\", \"3962\", \"4797\", \"4865\", \"614\", \"615\", \"7766\", \"7840\", \"7911\", \"7913\", \"7982\", \"1188\", \"1205\", \"4758\", \"13476\", \"13951\", \"5464\", \"7082\", \"9220\", \"6714\", \"14162\", \"14152\", \"14187\", \"14260\", \"1930\", \"6189\", \"13543\", \"1750\", \"1548\", \"2822\", \"3071\", \"5709\", \"6326\", \"8503\", \"9968\", \"7820\", \"477\", \"10076\", \"13158\", \"15134\", \"3196\", \"3869\", \"3923\", \"4371\", \"6992\", \"8746\", \"8813\", \"2309\", \"4882\", \"1612\", \"3236\", \"3598\", \"4149\", \"4329\", \"5893\", \"5913\", \"5950\", \"10102\", \"10444\", \"10473\", \"1111\", \"13668\", \"14701\", \"1653\", \"3624\", \"3798\", \"4692\", \"5294\", \"6139\", \"6528\", \"6616\", \"6851\", \"6877\", \"704\", \"7639\", \"7718\", \"7899\", \"8418\", \"8686\", \"9071\", \"9143\", \"9335\", \"9459\", \"13436\", \"10371\", \"1260\", \"1660\", \"3559\", \"3808\", \"4110\", \"4342\", \"4364\", \"4425\", \"4598\", \"5019\", \"970\", \"13683\", \"14192\", \"10205\", \"10266\", \"10294\", \"10323\", \"14229\", \"14893\", \"2136\", \"2140\", \"3399\", \"3896\", \"4032\", \"4321\", \"4514\", \"489\", \"5250\", \"5899\", \"6256\", \"6319\", \"7060\", \"8263\", \"8269\", \"8722\", \"8901\", \"8941\", \"9093\", \"9255\", \"9607\", \"4871\", \"7563\", \"9910\", \"13063\", \"13153\", \"13724\", \"8980\", \"14197\", \"6689\", \"7042\", \"8602\", \"9530\", \"10137\", \"12975\", \"12985\", \"13332\", \"15455\", \"2329\", \"5662\", \"13161\", \"14955\", \"2771\", \"4868\", \"6631\", \"894\", \"9369\", \"9515\", \"9692\", \"2474\", \"2978\", \"3393\", \"5357\", \"9514\", \"13094\", \"10047\", \"4926\", \"6874\", \"8120\", \"8318\", \"13635\", \"15440\", \"12957\", \"13416\", \"14322\", \"9757\", \"10380\", \"5583\", \"8860\", \"9357\", \"957\", \"4396\", \"6129\", \"3856\", \"6056\", \"6745\", \"8971\", \"13141\", \"3066\", \"3793\", \"5835\", \"4222\", \"4365\", \"4662\", \"6065\", \"6822\", \"7271\", \"14695\", \"13129\", \"3272\", \"6005\", \"13791\", \"13660\", \"15069\", \"13917\", \"8041\", \"14223\", \"15423\", \"14292\", \"3132\", \"14328\", \"1269\", \"2214\", \"3319\", \"7294\", \"9413\", \"13066\", \"15428\", \"14193\", \"10097\", \"13523\", \"5609\", \"13920\", \"15420\", \"6113\", \"14372\", \"13890\", \"13649\", \"4903\", \"13673\", \"14373\", \"328\", \"13421\", \"325\", \"13335\", \"1724\", \"5292\", \"9140\", \"13758\", \"13245\", \"15209\", \"8547\", \"8660\", \"14461\", \"14462\", \"14463\", \"8990\", \"10009\", \"10299\", \"13338\", \"1387\", \"15372\", \"3304\", \"3760\", \"4242\", \"4316\", \"5761\", \"6344\", \"6912\", \"759\", \"8252\", \"8646\", \"14464\", \"14465\", \"14466\", \"14467\", \"13322\", \"1344\", \"14281\", \"2742\", \"3223\", \"449\", \"4523\", \"5047\", \"8066\", \"8467\", \"9548\", \"9872\", \"5735\", \"4043\", \"9120\", \"937\", \"13264\", \"8875\", \"14240\", \"5809\", \"13127\", \"14457\", \"14458\", \"14459\", \"14460\", \"3129\", \"3690\", \"12876\", \"13839\", \"1680\", \"8916\", \"14238\", \"14420\", \"14421\", \"14422\", \"14423\", \"14424\", \"14425\", \"14426\", \"14427\", \"14428\", \"14429\", \"14430\", \"14431\", \"1171\", \"13757\", \"14411\", \"14412\", \"14413\", \"14414\", \"14415\", \"14416\", \"14417\", \"14418\", \"14419\", \"14454\", \"14455\", \"14456\", \"15210\", \"8362\", \"14451\", \"14452\", \"14453\", \"5332\", \"5621\", \"6160\", \"7681\", \"8583\", \"2121\", \"6273\", \"7313\", \"7561\", \"9363\", \"14448\", \"14449\", \"14450\", \"14445\", \"14446\", \"14447\", \"15317\", \"1028\", \"15376\", \"1626\", \"3579\", \"4801\", \"5268\", \"5453\", \"6232\", \"6323\", \"7642\", \"8476\", \"9805\", \"9917\", \"1299\", \"451\", \"8173\", \"1172\", \"14442\", \"14443\", \"14444\", \"4133\", \"13318\", \"340\", \"4870\", \"14439\", \"14440\", \"14441\", \"14404\", \"14405\", \"14406\", \"14407\", \"14408\", \"14409\", \"14410\", \"4373\", \"2763\", \"14432\", \"14433\", \"14434\", \"1389\", \"14492\", \"14493\", \"14494\", \"14495\", \"14496\", \"14497\", \"14498\", \"1581\", \"1845\", \"1897\", \"1962\", \"2320\", \"2444\", \"2691\", \"3070\", \"3357\", \"436\", \"5334\", \"5595\", \"5775\", \"6593\", \"7769\", \"8207\", \"8338\", \"9419\", \"9981\", \"13387\", \"13203\", \"8800\", \"13807\", \"5171\", \"1852\", \"6062\", \"9572\", \"7034\", \"13532\", \"14158\", \"14734\", \"1580\", \"7621\", \"3899\", \"5932\", \"8840\", \"14437\", \"14438\", \"10161\", \"4952\", \"5752\", \"791\", \"1712\", \"1909\", \"9803\", \"14526\", \"14527\", \"14528\", \"14529\", \"14525\", \"1364\", \"2614\", \"7912\", \"8032\", \"8489\", \"14280\", \"1655\", \"3740\", \"5872\", \"8477\", \"14522\", \"14523\", \"14524\", \"13478\", \"14520\", \"14521\", \"5946\", \"7463\", \"8171\", \"8959\", \"14308\", \"14517\", \"14518\", \"14519\", \"15201\", \"844\", \"10438\", \"2217\", \"2253\", \"2333\", \"2452\", \"2462\", \"3039\", \"437\", \"4748\", \"5279\", \"5422\", \"5467\", \"6669\", \"7211\", \"7384\", \"8560\", \"954\", \"14512\", \"14513\", \"14514\", \"14515\", \"14516\", \"14806\", \"1116\", \"8405\", \"14244\", \"14509\", \"14510\", \"14511\", \"5145\", \"7716\", \"14506\", \"14507\", \"14508\", \"10410\", \"4277\", \"7300\", \"14141\", \"3426\", \"14232\", \"14435\", \"14468\", \"14469\", \"14470\", \"14471\", \"14472\", \"14473\", \"14474\", \"14475\", \"14476\", \"14477\", \"14478\", \"14479\", \"14480\", \"14481\", \"14482\", \"14483\", \"14484\", \"14485\", \"14486\", \"14487\", \"14488\", \"14489\", \"14490\", \"14491\", \"14958\", \"4152\", \"8645\", \"13936\", \"6229\", \"1767\", \"2025\", \"13075\", \"13135\", \"1480\", \"5091\", \"6878\", \"12874\", \"4049\", \"5200\", \"9612\", \"13672\", \"14115\", \"1163\", \"14217\", \"14436\", \"5867\", \"14503\", \"14504\", \"14505\", \"4341\", \"14499\", \"14500\", \"14501\", \"14502\", \"1186\", \"1869\", \"2206\", \"4795\", \"9886\", \"6287\", \"3604\", \"7474\", \"8430\", \"13364\", \"13695\", \"13705\", \"14070\", \"14226\", \"13145\", \"10208\", \"4102\", \"4327\", \"4924\", \"5089\", \"5474\", \"8924\", \"9002\", \"14256\", \"2207\", \"15432\", \"8447\", \"8505\", \"13096\", \"13637\", \"13798\", \"13922\", \"14177\", \"14325\", \"668\", \"7235\", \"9023\", \"1306\", \"14956\", \"1941\", \"3241\", \"8241\", \"10211\", \"1167\", \"13772\", \"3309\", \"5772\", \"6173\", \"8063\", \"5918\", \"14362\", \"13386\", \"13403\", \"13427\", \"13293\", \"14827\", \"14329\", \"2605\", \"3252\", \"4931\", \"7762\", \"14209\", \"13350\", \"14241\", \"7804\", \"6495\", \"9015\", \"5275\", \"578\", \"4654\", \"8535\", \"14702\", \"5779\", \"6601\", \"9672\", \"13109\", \"14159\", \"14258\", \"14296\", \"1574\", \"6884\", \"7797\", \"9969\", \"3854\", \"5343\", \"7008\", \"8177\", \"9892\", \"5246\", \"6110\", \"10430\", \"2832\", \"5344\", \"9046\", \"12965\", \"13137\", \"13715\", \"13204\", \"13205\", \"13550\", \"13927\", \"14170\", \"14243\", \"14324\", \"2271\", \"14183\", \"7221\", \"1833\", \"7582\", \"8346\", \"1184\", \"1356\", \"14044\", \"5231\", \"6557\", \"8578\", \"8867\", \"944\", \"9856\", \"2200\", \"3450\", \"4437\", \"6234\", \"7505\", \"7967\", \"10129\", \"2965\", \"3686\", \"648\", \"10138\", \"9203\", \"312\", \"4912\", \"13535\", \"5905\", \"2059\", \"5217\", \"5346\", \"4377\", \"4765\", \"8127\", \"9308\", \"13441\", \"4546\", \"5165\", \"13113\", \"1181\", \"1277\", \"14957\", \"3029\", \"3692\", \"4675\", \"4740\", \"5847\", \"9450\", \"9816\", \"14088\", \"2107\", \"3343\", \"3711\", \"7608\", \"9623\", \"14164\", \"600\", \"13410\", \"13489\", \"3096\", \"702\", \"13527\", \"10331\", \"14194\", \"3335\", \"6844\", \"6868\", \"8910\", \"10093\", \"1138\", \"1288\", \"13526\", \"2097\", \"2291\", \"3159\", \"3323\", \"3741\", \"5136\", \"5927\", \"6145\", \"6577\", \"6730\", \"7162\", \"5356\", \"5633\", \"7201\", \"4458\", \"7627\", \"14219\", \"6772\", \"1785\", \"3356\", \"5672\", \"9909\", \"10063\", \"3689\", \"9182\", \"343\", \"6639\", \"6953\", \"8068\", \"9243\", \"2888\", \"915\", \"1524\", \"9779\", \"10010\", \"1697\", \"2255\", \"6389\", \"6998\", \"8815\", \"3476\", \"1509\", \"9959\", \"10355\", \"1242\", \"1362\", \"13853\", \"2480\", \"2530\", \"4161\", \"4814\", \"5557\", \"5842\", \"5957\", \"6719\", \"7749\", \"8262\", \"9665\", \"9843\", \"4166\", \"5079\", \"14392\", \"14393\", \"14394\", \"14395\", \"9888\", \"14382\", \"14383\", \"14384\", \"14385\", \"14386\", \"14387\", \"14388\", \"14389\", \"14390\", \"14391\", \"14396\", \"14397\", \"14398\", \"14399\", \"14400\", \"14665\", \"14666\", \"14667\", \"14668\", \"14669\", \"14670\", \"14671\", \"14672\", \"14673\", \"14674\", \"14675\", \"14838\", \"6280\", \"7326\", \"15370\", \"5507\", \"1126\", \"1687\", \"3208\", \"6152\", \"731\", \"842\", \"9038\", \"9271\", \"2289\", \"2442\", \"2525\", \"4096\", \"8401\", \"13741\", \"271\", \"1383\", \"3647\", \"5556\", \"6123\", \"661\", \"6797\", \"807\", \"8970\", \"9130\", \"9547\", \"7926\", \"10424\", \"10450\", \"1494\", \"1649\", \"2189\", \"3133\", \"5795\", \"5819\", \"6461\", \"8876\", \"8877\", \"8976\", \"14254\", \"13573\", \"13584\", \"662\", \"912\", \"913\", \"10185\", \"10335\", \"1700\", \"1747\", \"2087\", \"4856\", \"4959\", \"5260\", \"8313\", \"9560\", \"5637\", \"9502\", \"13598\", \"3610\", \"9086\", \"9797\", \"1049\", \"14297\", \"14298\", \"15008\", \"623\", \"8957\", \"1094\", \"14198\", \"14267\", \"3111\", \"10127\", \"10191\", \"10376\", \"13743\", \"14835\", \"15025\", \"15026\", \"15312\", \"1879\", \"3052\", \"3204\", \"3321\", \"3346\", \"3618\", \"4343\", \"5131\", \"5569\", \"5631\", \"5813\", \"6787\", \"7318\", \"8830\", \"8851\", \"8960\", \"9171\", \"9592\", \"9616\", \"1096\", \"4115\", \"4244\", \"4590\", \"4905\", \"4938\", \"5682\", \"5798\", \"6261\", \"7488\", \"9374\", \"9893\", \"4017\", \"4282\", \"6077\", \"9911\", \"4696\", \"5763\", \"6794\", \"6812\", \"1007\", \"3274\", \"3461\", \"4391\", \"7740\", \"9733\", \"1278\", \"15314\", \"1598\", \"2247\", \"2497\", \"2651\", \"3412\", \"4082\", \"4142\", \"4379\", \"5233\", \"5390\", \"5493\", \"6031\", \"6073\", \"6092\", \"6478\", \"6715\", \"761\", \"7978\", \"8347\", \"8811\", \"9526\", \"9537\", \"9784\", \"13247\", \"14228\", \"1801\", \"2434\", \"3552\", \"4031\", \"4234\", \"4698\", \"6393\", \"6952\", \"7433\", \"1258\", \"14225\", \"553\", \"8895\", \"13806\", \"14799\", \"4664\", \"4966\", \"5611\", \"6021\", \"8256\", \"9082\", \"9605\", \"1743\", \"291\", \"293\", \"4184\", \"4474\", \"4693\", \"5300\", \"6029\", \"6638\", \"886\", \"9313\", \"10195\", \"278\", \"279\", \"3525\", \"5504\", \"989\", \"14245\", \"5757\", \"14257\", \"5501\", \"13317\", \"5015\", \"14285\", \"13781\", \"5024\", \"12990\", \"13915\", \"9993\", \"14535\", \"14536\", \"14537\", \"14538\", \"14539\", \"13457\", \"13183\", \"13730\", \"5619\", \"14533\", \"14534\", \"1415\", \"15313\", \"2688\", \"3522\", \"4840\", \"4914\", \"5133\", \"7299\", \"7946\", \"8528\", \"9652\", \"12860\", \"13078\", \"351\", \"8752\", \"14286\", \"14532\", \"14531\", \"13021\", \"13613\", \"13636\", \"14261\", \"13871\", \"14184\", \"14530\", \"14311\", \"13954\", \"9332\", \"10398\", \"3302\", \"3943\", \"5103\", \"5570\", \"6806\", \"6901\", \"7108\", \"7206\", \"8141\", \"8894\", \"8930\", \"8933\", \"9109\", \"955\", \"9671\", \"14274\", \"2100\", \"2131\", \"2775\", \"6609\", \"10117\", \"3945\", \"5414\", \"8069\", \"8465\", \"9827\", \"3170\", \"7739\", \"7753\", \"2734\", \"3670\", \"6857\", \"8022\", \"9988\", \"10222\", \"1853\", \"2529\", \"6413\", \"6533\", \"15413\", \"12890\", \"13368\", \"13841\", \"6230\", \"2563\", \"5598\", \"7175\", \"8368\", \"852\", \"9052\", \"9604\", \"1231\", \"1676\", \"2655\", \"4809\", \"5965\", \"6567\", \"7917\", \"13280\", \"14127\", \"537\", \"981\", \"1351\", \"2823\", \"7765\", \"9145\", \"1895\", \"13604\", \"14279\", \"5157\", \"7655\", \"13947\", \"14195\", \"2235\", \"3376\", \"6764\", \"7301\", \"14181\", \"10216\", \"13737\", \"1771\", \"2828\", \"3421\", \"3609\", \"3646\", \"4349\", \"4426\", \"5521\", \"6475\", \"7166\", \"7805\", \"7936\", \"835\", \"9388\", \"9948\", \"14153\", \"14276\", \"10437\", \"1118\", \"15150\", \"2175\", \"2335\", \"3178\", \"3637\", \"3979\", \"4564\", \"4791\", \"5352\", \"629\", \"630\", \"631\", \"6441\", \"7390\", \"7591\", \"7976\", \"7985\", \"8123\", \"8208\", \"8491\", \"9174\", \"9297\", \"9340\", \"13023\", \"10271\", \"5888\", \"10059\", \"10306\", \"13297\", \"1840\", \"2857\", \"2901\", \"3227\", \"4521\", \"5856\", \"6397\", \"7974\", \"8394\", \"8780\", \"1527\", \"3750\", \"4449\", \"4588\", \"4699\", \"4983\", \"5480\", \"5481\", \"5987\", \"6893\", \"7435\", \"7836\", \"845\", \"8552\", \"9184\", \"9197\", \"10210\", \"14315\", \"4411\", \"7536\", \"12887\", \"13316\", \"14255\", \"2586\", \"3891\", \"6134\", \"7882\", \"13904\", \"5090\", \"6446\", \"14019\", \"6247\", \"13200\", \"13792\", \"14237\", \"1495\", \"2373\", \"2939\", \"3788\", \"5749\", \"5824\", \"6049\", \"7760\", \"8619\", \"12998\", \"13440\", \"13522\", \"4601\", \"469\", \"4716\", \"7537\", \"10339\", \"5215\", \"5568\", \"5955\", \"6554\", \"6887\", \"7741\", \"8554\", \"9216\", \"9302\", \"9644\", \"10250\", \"15151\", \"2581\", \"3676\", \"4520\", \"4537\", \"4781\", \"5982\", \"6783\", \"752\", \"7664\", \"7736\", \"775\", \"7938\", \"8527\", \"9088\", \"9212\", \"9646\", \"6456\", \"8415\", \"14312\", \"15214\", \"4635\", \"6455\", \"8294\", \"10194\", \"4299\", \"6591\", \"13261\", \"10342\", \"1068\", \"15125\", \"2181\", \"3455\", \"4322\", \"4389\", \"6072\", \"6594\", \"7317\", \"8105\", \"8508\", \"9659\", \"9662\", \"6252\", \"497\", \"6836\", \"7392\", \"2153\", \"6228\", \"6522\", \"660\", \"1261\", \"13181\", \"1324\", \"2380\", \"4064\", \"7478\", \"9974\", \"13365\", \"4041\", \"520\", \"5383\", \"8048\", \"8818\", \"9420\", \"4324\", \"4780\", \"5979\", \"6144\", \"9958\", \"14676\", \"3099\", \"4646\", \"1513\", \"1890\", \"1916\", \"2436\", \"5666\", \"5975\", \"6712\", \"7500\", \"8623\", \"9331\", \"10166\", \"10296\", \"10301\", \"1166\", \"1354\", \"14612\", \"1570\", \"1980\", \"2144\", \"4289\", \"4999\", \"5121\", \"5463\", \"6773\", \"6920\", \"706\", \"7445\", \"8270\", \"8448\", \"9006\", \"9945\", \"13294\", \"636\", \"13423\", \"14923\", \"2765\", \"3110\", \"359\", \"4687\", \"4745\", \"5228\", \"5693\", \"8283\", \"8345\", \"8464\", \"9564\", \"2660\", \"2777\", \"3179\", \"4369\", \"654\", \"7098\", \"749\", \"8033\", \"9642\", \"9751\", \"10325\", \"1238\", \"13415\", \"564\", \"8204\", \"1001\", \"12981\", \"13740\", \"6417\", \"10198\", \"1159\", \"14686\", \"14690\", \"1505\", \"15142\", \"8309\", \"9510\", \"9710\", \"13067\", \"10099\", \"14880\", \"2401\", \"324\", \"5651\", \"5997\", \"6938\", \"7216\", \"9903\", \"327\", \"3377\", \"5596\", \"1255\", \"1458\", \"4295\", \"5469\", \"2076\", \"13114\", \"13606\", \"14321\", \"3957\", \"6068\", \"8739\", \"5799\", \"13799\", \"1559\", \"3487\", \"6009\", \"6386\", \"750\", \"7894\", \"9282\", \"9964\", \"6399\", \"8040\", \"8181\", \"2424\", \"3117\", \"5113\", \"7389\", \"8553\", \"9870\", \"14327\", \"10164\", \"12920\", \"1881\", \"2304\", \"2792\", \"3103\", \"3396\", \"3540\", \"4116\", \"4134\", \"5324\", \"6362\", \"8116\", \"8561\", \"8706\", \"9695\", \"9727\", \"9953\", \"9256\", \"10454\", \"10464\", \"10465\", \"10476\", \"1636\", \"2982\", \"3064\", \"4198\", \"7375\", \"8286\", \"829\", \"832\", \"834\", \"8613\", \"8857\", \"9349\", \"9717\", \"4846\", \"15126\", \"3024\", \"3630\", \"5399\", \"7848\", \"5085\", \"465\", \"15048\", \"15049\", \"7050\", \"10237\", \"10278\", \"1115\", \"1222\", \"1398\", \"14726\", \"14727\", \"14728\", \"14807\", \"14808\", \"14837\", \"1657\", \"1878\", \"3473\", \"4221\", \"4450\", \"4568\", \"5141\", \"5447\", \"5890\", \"7460\", \"7565\", \"7949\", \"8244\", \"8495\", \"8975\", \"9383\", \"945\", \"9744\", \"9854\", \"987\", \"9878\", \"13775\", \"1966\", \"2919\", \"6395\", \"8732\", \"9398\", \"9772\", \"10310\", \"10322\", \"1380\", \"14176\", \"1465\", \"15402\", \"1770\", \"2015\", \"2769\", \"3014\", \"3614\", \"3657\", \"4016\", \"441\", \"4529\", \"4544\", \"6216\", \"6727\", \"6900\", \"7000\", \"7547\", \"7737\", \"7767\", \"8187\", \"15401\", \"581\", \"10007\", \"1179\", \"14048\", \"1486\", \"1709\", \"1723\", \"1856\", \"2430\", \"2661\", \"3725\", \"3732\", \"3999\", \"4478\", \"5280\", \"5299\", \"5802\", \"5907\", \"6883\", \"6892\", \"7178\", \"7633\", \"784\", \"8681\", \"9668\", \"13356\", \"1635\", \"1796\", \"1951\", \"2115\", \"2155\", \"3131\", \"3766\", \"3807\", \"5072\", \"5148\", \"5210\", \"5821\", \"6007\", \"6880\", \"6904\", \"7187\", \"7723\", \"8339\", \"1395\", \"7111\", \"10175\", \"2502\", \"2867\", \"2952\", \"2961\", \"3353\", \"435\", \"491\", \"5455\", \"5704\", \"6506\", \"7007\", \"7017\", \"7691\", \"843\", \"8564\", \"9390\", \"9849\", \"10408\", \"12861\", \"2251\", \"2300\", \"2536\", \"2597\", \"3315\", \"3429\", \"3581\", \"4144\", \"4264\", \"4796\", \"5023\", \"5309\", \"5544\", \"5755\", \"5869\", \"649\", \"651\", \"7320\", \"7811\", \"810\", \"812\", \"8383\", \"9976\", \"14284\", \"2565\", \"13845\", \"3256\", \"10041\", \"14714\", \"2219\", \"2344\", \"8378\", \"2543\", \"5191\", \"5736\", \"6295\", \"7238\", \"808\", \"8377\", \"9393\", \"9685\", \"9841\", \"13816\", \"14264\", \"10484\", \"1329\", \"3480\", \"6318\", \"9048\", \"10483\", \"14239\", \"8611\", \"6498\", \"1693\", \"4669\", \"7021\", \"2518\", \"4972\", \"5855\", \"13069\", \"13680\", \"7989\", \"13953\", \"9325\", \"542\", \"10113\", \"1219\", \"1243\", \"1824\", \"2667\", \"2678\", \"2726\", \"3348\", \"3789\", \"4000\", \"4078\", \"452\", \"5373\", \"5438\", \"5622\", \"5718\", \"6059\", \"6101\", \"6491\", \"6755\", \"6786\", \"6964\", \"7508\", \"7611\", \"7922\", \"7952\", \"8409\", \"8638\", \"9127\", \"9134\", \"929\", \"8151\", \"13146\", \"14049\", \"14050\", \"14051\", \"2782\", \"3055\", \"342\", \"3573\", \"3765\", \"609\", \"9598\", \"13597\", \"9034\", \"3188\", \"10298\", \"1199\", \"3194\", \"3328\", \"4672\", \"4794\", \"6133\", \"6143\", \"6303\", \"6661\", \"8778\", \"8940\", \"1436\", \"2054\", \"3974\", \"6515\", \"7712\", \"9154\", \"1898\", \"2275\", \"2682\", \"3774\", \"769\", \"12936\", \"13012\", \"13105\", \"13671\", \"14935\", \"1641\", \"2290\", \"2572\", \"2766\", \"2980\", \"3454\", \"3561\", \"4707\", \"5212\", \"5410\", \"5923\", \"6717\", \"6763\", \"7669\", \"8541\", \"8607\", \"8806\", \"9985\", \"10103\", \"4877\", \"6081\", \"8107\", \"9278\", \"9327\", \"9417\", \"9906\", \"10283\", \"1201\", \"1268\", \"2621\", \"3478\", \"3867\", \"4414\", \"4443\", \"4594\", \"4650\", \"4705\", \"4994\", \"549\", \"582\", \"6022\", \"6656\", \"800\", \"8056\", \"8145\", \"8500\", \"8633\", \"963\", \"9851\", \"13753\", \"13755\", \"14275\", \"15160\", \"8955\", \"9128\", \"9482\", \"2325\", \"5441\", \"5604\", \"7057\", \"8784\", \"1273\", \"1792\", \"1889\", \"2575\", \"2677\", \"3222\", \"3447\", \"4942\", \"5205\", \"5724\", \"5901\", \"6365\", \"6906\", \"7742\", \"7822\", \"8031\", \"8355\", \"8388\", \"9152\", \"9219\", \"9614\", \"13286\", \"2068\", \"7613\", \"3214\", \"4925\", \"13528\", \"13425\", \"14263\", \"1464\", \"15102\", \"1979\", \"2301\", \"3318\", \"3601\", \"4582\", \"532\", \"5348\", \"6512\", \"6674\", \"6724\", \"6833\", \"7743\", \"8190\", \"8305\", \"8507\", \"8676\", \"9177\", \"953\", \"9617\", \"9669\", \"2032\", \"2626\", \"6529\", \"7421\", \"9288\", \"9995\", \"10389\", \"1989\", \"2648\", \"2805\", \"318\", \"3285\", \"3521\", \"4140\", \"4683\", \"6600\", \"721\", \"7446\", \"7886\", \"8425\", \"8884\", \"10297\", \"2617\", \"13136\", \"14262\", \"15101\", \"2540\", \"5229\", \"5382\", \"602\", \"640\", \"6471\", \"7194\", \"7554\", \"7906\", \"806\", \"10145\", \"10344\", \"14251\", \"1445\", \"2506\", \"3997\", \"4490\", \"4978\", \"5862\", \"733\", \"7683\", \"8149\", \"8482\", \"8670\", \"9810\", \"4001\", \"13534\", \"14230\", \"14309\", \"1561\", \"1569\", \"1837\", \"3063\", \"5970\", \"6762\", \"7782\", \"9847\", \"13252\", \"2096\", \"2612\", \"5486\", \"7240\", \"8446\", \"14713\", \"8070\", \"8620\", \"3105\", \"4058\", \"6112\", \"5074\", \"10122\", \"13243\", \"14541\", \"14542\", \"14543\", \"14544\", \"14545\", \"14546\", \"14547\", \"14548\", \"14549\", \"14550\", \"14551\", \"14552\", \"7686\", \"831\", \"7531\", \"10065\", \"1164\", \"1262\", \"1270\", \"15024\", \"1793\", \"1891\", \"2035\", \"2817\", \"3326\", \"3605\", \"4216\", \"4932\", \"6054\", \"6331\", \"6400\", \"7388\", \"7835\", \"8080\", \"8137\", \"9550\", \"10028\", \"1031\", \"1296\", \"13684\", \"2128\", \"3926\", \"6761\", \"10189\", \"1934\", \"2397\", \"2537\", \"3313\", \"3528\", \"4355\", \"7027\", \"8546\", \"8689\", \"8412\", \"13852\", \"8444\", \"13024\", \"13963\", \"13773\", \"2670\", \"10019\", \"10033\", \"1010\", \"10305\", \"10311\", \"10367\", \"1039\", \"1123\", \"1403\", \"1459\", \"1566\", \"1690\", \"1782\", \"1861\", \"2048\", \"2213\", \"2568\", \"2615\", \"2676\", \"2748\", \"2878\", \"2976\", \"2977\", \"3069\", \"3164\", \"3206\", \"3246\", \"3292\", \"3368\", \"3567\", \"3762\", \"3797\", \"3903\", \"4012\", \"4325\", \"4575\", \"4638\", \"4875\", \"4921\", \"5013\", \"5462\", \"5948\", \"5993\", \"6259\", \"6387\", \"6774\", \"6873\", \"688\", \"6955\", \"7132\", \"7379\", \"7426\", \"7703\", \"7733\", \"7935\", \"8135\", \"8274\", \"8281\", \"8354\", \"8416\", \"8702\", \"8914\", \"8985\", \"8991\", \"9193\", \"9200\", \"9320\", \"9321\", \"9523\", \"971\", \"9798\", \"1092\", \"1432\", \"14786\", \"2027\", \"2084\", \"2237\", \"2375\", \"2556\", \"2603\", \"2708\", \"3127\", \"3444\", \"3635\", \"3863\", \"4381\", \"5273\", \"5345\", \"5426\", \"5432\", \"5537\", \"5679\", \"5750\", \"6165\", \"6179\", \"6212\", \"6644\", \"6713\", \"7363\", \"7492\", \"7784\", \"7953\", \"8195\", \"8264\", \"8518\", \"8531\", \"8662\", \"8726\", \"8782\", \"8819\", \"8963\", \"9113\", \"9139\", \"9176\", \"9225\", \"9373\", \"9541\", \"10008\", \"1018\", \"1241\", \"14699\", \"14787\", \"15072\", \"1762\", \"2455\", \"2459\", \"2850\", \"3093\", \"3466\", \"3626\", \"3710\", \"4517\", \"4845\", \"4867\", \"4896\", \"4973\", \"5000\", \"5059\", \"5080\", \"5127\", \"5213\", \"5450\", \"5700\", \"5745\", \"5797\", \"5903\", \"6426\", \"768\", \"7933\", \"7948\", \"7951\", \"8701\", \"9230\", \"9267\", \"9509\", \"13032\", \"7191\", \"830\", \"13008\", \"14163\", \"15248\", \"1046\", \"1076\", \"2954\", \"5728\", \"9496\", \"15433\", \"10088\", \"5577\", \"8445\", \"2588\", \"6660\", \"1019\", \"1143\", \"1239\", \"1609\", \"1945\", \"2341\", \"2628\", \"2997\", \"3767\", \"4610\", \"4813\", \"5198\", \"5549\", \"5739\", \"6626\", \"6683\", \"7167\", \"7675\", \"7732\", \"8677\", \"8893\", \"9214\", \"9758\", \"1483\", \"5883\", \"6974\", \"9396\", \"3428\", \"9211\", \"4306\", \"574\", \"5746\", \"5782\", \"6652\", \"8708\", \"6525\", \"14147\", \"5340\", \"694\", \"958\", \"13817\", \"478\", \"2010\", \"353\", \"4604\", \"5470\", \"7360\", \"8659\", \"9041\", \"917\", \"9834\", \"14145\", \"14739\", \"2156\", \"5667\", \"9148\", \"1073\", \"1719\", \"2758\", \"4736\", \"7724\", \"1015\", \"2180\", \"4009\", \"5864\", \"6549\", \"7573\", \"8249\", \"8879\", \"2593\", \"3698\", \"4892\", \"5911\", \"7061\", \"7155\", \"7220\", \"8291\", \"8392\", \"9755\", \"2152\", \"3771\", \"5420\", \"598\", \"9460\", \"3371\", \"3972\", \"5823\", \"9608\", \"1487\", \"1496\", \"2095\", \"2197\", \"3660\", \"4196\", \"5003\", \"597\", \"9353\", \"10320\", \"1353\", \"1808\", \"1926\", \"3706\", \"4223\", \"4453\", \"466\", \"4843\", \"5230\", \"6466\", \"6827\", \"7843\", \"8102\", \"9080\", \"9222\", \"9382\", \"10333\", \"10377\", \"13022\", \"14326\", \"14615\", \"14616\", \"1471\", \"2552\", \"4642\", \"5081\", \"5318\", \"5603\", \"5843\", \"6359\", \"6428\", \"6673\", \"6988\", \"7081\", \"719\", \"8883\", \"1227\", \"1593\", \"1616\", \"1737\", \"5669\", \"5680\", \"6463\", \"6830\", \"8858\", \"8992\", \"9317\", \"9377\", \"1401\", \"1986\", \"6315\", \"9280\", \"14630\", \"14631\", \"2173\", \"5516\", \"8764\", \"9946\", \"3012\", \"10213\", \"1542\", \"1884\", \"3277\", \"4203\", \"6658\", \"9570\", \"10087\", \"10365\", \"2280\", \"8081\", \"9967\", \"12906\", \"12991\", \"13896\", \"15068\", \"15356\", \"15365\", \"15439\", \"3806\", \"4165\", \"13051\", \"13452\", \"13505\", \"13529\", \"14208\", \"15260\", \"3370\", \"5050\", \"5188\", \"5479\", \"6435\", \"663\", \"7046\", \"7245\", \"7612\", \"7847\", \"10043\", \"14963\", \"3530\", \"5572\", \"6003\", \"6327\", \"8533\", \"9204\", \"14814\", \"4423\", \"10217\", \"1233\", \"13118\", \"14212\", \"15408\", \"2061\", \"2957\", \"4779\", \"5692\", \"7984\", \"8999\", \"9423\", \"9453\", \"1132\", \"1142\", \"1960\", \"3533\", \"3696\", \"4121\", \"4825\", \"5032\", \"5093\", \"5590\", \"6076\", \"6124\", \"7039\", \"7118\", \"7185\", \"7262\", \"7364\", \"7458\", \"7717\", \"7755\", \"790\", \"8493\", \"9215\", \"13627\", \"4054\", \"10423\", \"10429\", \"12902\", \"13525\", \"1503\", \"15410\", \"1768\", \"1938\", \"2026\", \"2033\", \"2109\", \"2449\", \"2635\", \"2962\", \"4200\", \"4744\", \"5078\", \"556\", \"5652\", \"7257\", \"7448\", \"8213\", \"8796\", \"9011\", \"914\", \"8763\", \"1307\", \"1327\", \"1871\", \"2658\", \"3054\", \"352\", \"4461\", \"4465\", \"4953\", \"5711\", \"5751\", \"5937\", \"6910\", \"8261\", \"8562\", \"8801\", \"8849\", \"9291\", \"9844\", \"9898\", \"13305\", \"13383\", \"14569\", \"14936\", \"4706\", \"5092\", \"536\", \"5794\", \"6174\", \"6970\", \"8363\", \"10248\", \"1819\", \"2841\", \"3549\", \"4120\", \"4895\", \"5884\", \"5996\", \"6061\", \"6691\", \"6867\", \"6881\", \"7512\", \"8193\", \"8202\", \"9408\", \"9606\", \"9711\", \"9947\", \"15034\", \"2011\", \"2754\", \"7157\", \"7330\", \"7335\", \"8047\", \"8534\", \"9347\", \"10095\", \"10172\", \"13184\", \"13688\", \"14235\", \"4273\", \"13251\", \"280\", \"4950\", \"8421\", \"14894\", \"15154\", \"2151\", \"2744\", \"2932\", \"4339\", \"4778\", \"6421\", \"6723\", \"6926\", \"6947\", \"7578\", \"8206\", \"8209\", \"8222\", \"8634\", \"8843\", \"9065\", \"9129\", \"9247\", \"9684\", \"9794\", \"9869\", \"13330\", \"1449\", \"14964\", \"2405\", \"2489\", \"2499\", \"2511\", \"2679\", \"2827\", \"3395\", \"3980\", \"4352\", \"4536\", \"4742\", \"5173\", \"6075\", \"6191\", \"6298\", \"6361\", \"644\", \"6444\", \"667\", \"7620\", \"7761\", \"8018\", \"8228\", \"9153\", \"9562\", \"9941\", \"1061\", \"1063\", \"1212\", \"1385\", \"1416\", \"1479\", \"1557\", \"1606\", \"2098\", \"2176\", \"2342\", \"2368\", \"2426\", \"2856\", \"2953\", \"2986\", \"3446\", \"3665\", \"3702\", \"4155\", \"4427\", \"4444\", \"4491\", \"4551\", \"4557\", \"5877\", \"6015\", \"6046\", \"6087\", \"6324\", \"6394\", \"6422\", \"6459\", \"6541\", \"6692\", \"6694\", \"7088\", \"7139\", \"7171\", \"7186\", \"7264\", \"7289\", \"7311\", \"7867\", \"8632\", \"8820\", \"9016\", \"9427\", \"9568\", \"9734\", \"9786\", \"9824\", \"1064\", \"14939\", \"1692\", \"2012\", \"4522\", \"4965\", \"5082\", \"5659\", \"5699\", \"6582\", \"7970\", \"8058\", \"8259\", \"8688\", \"9239\", \"9437\", \"10441\", \"13462\", \"3374\", \"665\", \"666\", \"2760\", \"3171\", \"4104\", \"8809\", \"10167\", \"1350\", \"14253\", \"14573\", \"1461\", \"1485\", \"2307\", \"2816\", \"2871\", \"2975\", \"3350\", \"4293\", \"5114\", \"5327\", \"5456\", \"5738\", \"5960\", \"6330\", \"6543\", \"7200\", \"7218\", \"777\", \"7995\", \"8456\", \"8517\", \"8592\", \"8864\", \"916\", \"9424\", \"9852\", \"10086\", \"2184\", \"3191\", \"3879\", \"3977\", \"4130\", \"4602\", \"4913\", \"5929\", \"6183\", \"6350\", \"7775\", \"7807\", \"7813\", \"795\", \"8119\", \"8164\", \"8226\", \"9905\", \"10100\", \"3596\", \"5033\", \"5628\", \"5712\", \"6039\", \"7400\", \"8626\", \"9117\", \"1529\", \"1571\", \"1963\", \"2466\", \"5532\", \"567\", \"6521\", \"6720\", \"695\", \"7115\", \"7340\", \"7341\", \"7348\", \"744\", \"7514\", \"7844\", \"8391\", \"9372\", \"9857\", \"13847\", \"1518\", \"2768\", \"2974\", \"6896\", \"7644\", \"9474\", \"14103\", \"1412\", \"14653\", \"3088\", \"3104\", \"4466\", \"5320\", \"6718\", \"7635\", \"1190\", \"6170\", \"8516\", \"9456\", \"14222\", \"1855\", \"2362\", \"2639\", \"3417\", \"4857\", \"543\", \"5473\", \"568\", \"5732\", \"6121\", \"7282\", \"7366\", \"7523\", \"7756\", \"9074\", \"9132\", \"2799\", \"5164\", \"14180\", \"1254\", \"14090\", \"14732\", \"1475\", \"14971\", \"1607\", \"2008\", \"2138\", \"2858\", \"6149\", \"6275\", \"8509\", \"8616\", \"9583\", \"13187\", \"13707\", \"13709\", \"13711\", \"15345\", \"2295\", \"6562\", \"7434\", \"9700\", \"4777\", \"684\", \"7722\", \"2662\", \"5459\", \"4074\", \"4278\", \"1319\", \"2391\", \"4218\", \"4878\", \"6402\", \"736\", \"10428\", \"13957\", \"6370\", \"6754\", \"9713\", \"13233\", \"4880\", \"13455\", \"14694\", \"4303\", \"4319\", \"6705\", \"7018\", \"7127\", \"9654\", \"10280\", \"7915\", \"1003\", \"1305\", \"14173\", \"14191\", \"2702\", \"3286\", \"3388\", \"5740\", \"6555\", \"6749\", \"8147\", \"1170\", \"13037\", \"14227\", \"14247\", \"10042\", \"10083\", \"13249\", \"2334\", \"313\", \"3186\", \"3238\", \"4018\", \"458\", \"5429\", \"5498\", \"6707\", \"7172\", \"9611\", \"10128\", \"1174\", \"1423\", \"1745\", \"2461\", \"2712\", \"3003\", \"3155\", \"3392\", \"3445\", \"3875\", \"4384\", \"4689\", \"5154\", \"5841\", \"6460\", \"6568\", \"6608\", \"6679\", \"7030\", \"7334\", \"7793\", \"8529\", \"868\", \"9286\", \"5685\", \"7255\", \"1021\", \"10223\", \"1160\", \"13893\", \"2594\", \"3036\", \"3177\", \"3366\", \"3643\", \"4202\", \"5286\", \"5694\", \"5921\", \"6801\", \"7632\", \"837\", \"8766\", \"8853\", \"8855\", \"8969\", \"9141\", \"9155\", \"9532\", \"9804\", \"1817\", \"2014\", \"2733\", \"4951\", \"14086\", \"14087\", \"1453\", \"14797\", \"1701\", \"1763\", \"1781\", \"1803\", \"2254\", \"2517\", \"2717\", \"3345\", \"3970\", \"4046\", \"4863\", \"5208\", \"5235\", \"6226\", \"6820\", \"6829\", \"7331\", \"7398\", \"7449\", \"792\", \"8310\", \"8750\", \"8862\", \"9165\", \"9831\", \"2288\", \"7892\", \"8006\", \"8530\", \"2446\", \"3864\", \"5012\", \"5112\", \"6094\", \"6956\", \"7509\", \"9920\", \"2958\", \"4538\", \"6270\", \"8243\", \"8457\", \"8673\", \"10090\", \"2527\", \"7067\", \"10178\", \"1586\", \"1984\", \"3405\", \"3736\", \"4332\", \"4909\", \"5065\", \"5186\", \"5214\", \"5912\", \"7258\", \"7579\", \"8569\", \"8954\", \"9029\", \"9478\", \"9682\", \"9720\", \"9729\", \"1320\", \"1340\", \"1857\", \"2005\", \"2471\", \"2493\", \"3195\", \"3414\", \"386\", \"3942\", \"3998\", \"4496\", \"4858\", \"4889\", \"4934\", \"5037\", \"5400\", \"5475\", \"5538\", \"5634\", \"5668\", \"6297\", \"6335\", \"6550\", \"6993\", \"707\", \"7605\", \"7806\", \"7973\", \"7994\", \"8831\", \"9198\", \"9464\", \"9721\", \"13362\", \"4768\", \"5248\", \"6585\", \"8720\", \"9175\", \"9289\", \"9595\", \"10209\", \"1617\", \"2931\", \"3122\", \"6240\", \"6726\", \"6936\", \"7342\", \"1013\", \"13085\", \"4596\", \"5363\", \"7944\", \"10385\", \"2881\", \"3225\", \"15282\", \"1656\", \"2166\", \"2390\", \"2947\", \"3050\", \"3485\", \"384\", \"388\", \"3951\", \"4241\", \"4298\", \"4530\", \"5523\", \"6130\", \"6166\", \"6265\", \"6281\", \"6526\", \"7267\", \"7574\", \"7601\", \"7870\", \"7920\", \"8157\", \"8320\", \"8435\", \"8571\", \"9234\", \"9795\", \"9828\", \"3056\", \"3566\", \"3664\", \"5826\", \"7038\", \"1408\", \"4180\", \"13485\", \"13520\", \"13521\", \"13634\", \"15244\", \"5726\", \"7130\", \"9124\", \"13435\", \"14306\", \"2404\", \"3207\", \"3712\", \"3889\", \"5457\", \"8230\", \"12997\", \"13005\", \"824\", \"9527\", \"8636\", \"10415\", \"1426\", \"3065\", \"4923\", \"5605\", \"6045\", \"6980\", \"8428\", \"9228\", \"9759\", \"14318\", \"350\", \"355\", \"3761\", \"3866\", \"4280\", \"4421\", \"5817\", \"6697\", \"10071\", \"10379\", \"1048\", \"1060\", \"1169\", \"1250\", \"1311\", \"13914\", \"1880\", \"1978\", \"1987\", \"2609\", \"3844\", \"3872\", \"3910\", \"4083\", \"4676\", \"5100\", \"5179\", \"5241\", \"5810\", \"5939\", \"6055\", \"6227\", \"6372\", \"6566\", \"657\", \"6785\", \"7009\", \"7142\", \"7615\", \"7895\", \"8172\", \"9921\", \"1023\", \"1428\", \"1633\", \"2684\", \"3381\", \"3833\", \"4052\", \"4063\", \"5341\", \"6759\", \"6969\", \"7361\", \"7887\", \"8381\", \"8694\", \"8754\", \"8964\", \"9102\", \"14305\", \"2198\", \"3617\", \"3653\", \"4147\", \"8856\", \"9681\", \"7080\", \"7259\", \"9079\", \"13055\", \"13583\", \"14376\", \"14564\", \"1500\", \"3341\", \"3678\", \"4581\", \"4798\", \"5380\", \"5703\", \"6342\", \"7028\", \"1805\", \"10120\", \"1136\", \"1859\", \"3275\", \"3810\", \"6976\", \"7003\", \"7850\", \"8767\", \"9499\", \"9853\", \"10025\", \"10026\", \"10055\", \"10318\", \"1316\", \"1802\", \"2230\", \"2346\", \"2469\", \"2964\", \"4214\", \"4263\", \"5095\", \"5262\", \"5673\", \"5876\", \"6375\", \"8235\", \"8452\", \"8544\", \"8989\", \"13214\", \"475\", \"1295\", \"14242\", \"1988\", \"4497\", \"4850\", \"613\", \"8113\", \"8945\", \"1200\", \"1929\", \"2055\", \"2787\", \"3181\", \"3332\", \"6083\", \"6627\", \"6641\", \"6818\", \"7701\", \"12950\", \"13273\", \"15414\", \"2051\", \"3135\", \"3267\", \"3534\", \"3960\", \"6391\", \"6688\", \"7471\", \"8096\", \"9387\", \"9978\", \"6033\", \"10409\", \"1321\", \"14252\", \"1971\", \"2245\", \"2416\", \"2703\", \"5147\", \"5786\", \"6510\", \"711\", \"7164\", \"7491\", \"8035\", \"8563\", \"10005\", \"15400\", \"1560\", \"2001\", \"2013\", \"2119\", \"5083\", \"6218\", \"7768\", \"8741\", \"8844\", \"9062\", \"926\", \"1366\", \"1419\", \"2657\", \"3022\", \"3141\", \"3153\", \"3408\", \"3700\", \"4849\", \"5111\", \"5160\", \"5354\", \"5494\", \"5612\", \"5858\", \"6137\", \"6266\", \"6309\", \"6578\", \"6684\", \"8050\", \"8200\", \"9263\", \"13285\", \"1698\", \"3819\", \"4191\", \"4730\", \"6034\", \"9765\", \"10182\", \"1108\", \"1664\", \"2569\", \"3310\", \"341\", \"3680\", \"444\", \"5107\", \"6505\", \"689\", \"7100\", \"7312\", \"7533\", \"7687\", \"8057\", \"818\", \"8675\", \"8707\", \"1194\", \"14293\", \"14810\", \"2305\", \"3931\", \"6511\", \"7569\", \"9293\", \"10115\", \"1054\", \"13562\", \"15017\", \"2071\", \"2186\", \"2192\", \"2848\", \"2981\", \"3180\", \"3503\", \"3989\", \"4145\", \"4457\", \"5811\", \"6574\", \"7824\", \"8094\", \"9085\", \"15275\", \"1810\", \"1936\", \"3154\", \"370\", \"4019\", \"4859\", \"4861\", \"490\", \"5686\", \"7795\", \"7957\", \"797\", \"8219\", \"8597\", \"8880\", \"9300\", \"1995\", \"2132\", \"3025\", \"3130\", \"5237\", \"5272\", \"5484\", \"5830\", \"5974\", \"5990\", \"6802\", \"7439\", \"8576\", \"888\", \"8912\", \"10332\", \"12884\", \"2158\", \"2241\", \"349\", \"354\", \"4300\", \"7962\", \"8950\", \"10181\", \"10468\", \"14236\", \"14568\", \"14938\", \"1554\", \"2906\", \"4157\", \"4247\", \"4644\", \"5257\", \"5873\", \"6030\", \"6088\", \"6140\", \"6304\", \"7222\", \"8742\", \"9250\", \"9351\", \"2811\", \"3545\", \"5225\", \"7490\", \"7694\", \"13191\", \"13255\", \"13691\", \"4579\", \"13835\", \"308\", \"3669\", \"7403\", \"13026\", \"13027\", \"1761\", \"3861\", \"3990\", \"4059\", \"4285\", \"5331\", \"6664\", \"7526\", \"7551\", \"9433\", \"9495\", \"9741\", \"996\", \"13618\", \"13961\", \"4099\", \"7179\", \"10226\", \"10401\", \"1282\", \"13642\", \"13763\", \"13836\", \"14116\", \"1497\", \"1592\", \"1874\", \"2577\", \"2809\", \"4703\", \"5206\", \"5964\", \"6197\", \"7296\", \"7543\", \"9033\", \"9095\", \"1956\", \"7991\", \"8364\", \"1154\", \"1246\", \"14000\", \"14304\", \"1715\", \"1834\", \"2246\", \"2451\", \"2863\", \"3279\", \"3281\", \"3301\", \"3510\", \"4011\", \"4119\", \"4122\", \"4314\", \"4577\", \"4661\", \"6027\", \"6285\", \"6290\", \"6981\", \"7086\", \"7498\", \"7604\", \"7834\", \"8652\", \"882\", \"9032\", \"9054\", \"9303\", \"9389\", \"9441\", \"13599\", \"4225\", \"4227\", \"6487\", \"9497\", \"1129\", \"12966\", \"13029\", \"13654\", \"13738\", \"13925\", \"3197\", \"3260\", \"5576\", \"5934\", \"7359\", \"8251\", \"10096\", \"1568\", \"1647\", \"3233\", \"3663\", \"4627\", \"4799\", \"5916\", \"6193\", \"7477\", \"8977\", \"4811\", \"13007\", \"13281\", \"15249\", \"5412\", \"5768\", \"10277\", \"1069\", \"1302\", \"14001\", \"14377\", \"1789\", \"2211\", \"2371\", \"2736\", \"3306\", \"394\", \"4127\", \"428\", \"5126\", \"550\", \"5719\", \"5803\", \"7302\", \"8328\", \"8743\", \"8908\", \"9047\", \"9210\", \"9380\", \"9574\", \"9977\", \"14646\", \"2382\", \"2388\", \"2585\", \"3021\", \"3072\", \"3334\", \"4996\", \"6215\", \"6918\", \"7812\", \"8372\", \"8601\", \"10051\", \"10426\", \"1970\", \"2560\", \"2886\", \"4219\", \"434\", \"4585\", \"4723\", \"4802\", \"5359\", \"5566\", \"6058\", \"6107\", \"6158\", \"6545\", \"6632\", \"7393\", \"7752\", \"804\", \"8045\", \"8324\", \"8343\", \"8526\", \"9452\", \"9639\", \"9817\", \"9982\", \"13304\", \"13323\", \"14214\", \"15159\", \"1953\", \"2596\", \"4370\", \"4738\", \"4766\", \"6043\", \"7792\", \"7831\", \"7937\", \"9090\", \"9354\", \"976\", \"9879\", \"10404\", \"13102\", \"14711\", \"1732\", \"2454\", \"3297\", \"4062\", \"5914\", \"6343\", \"6469\", \"7123\", \"7263\", \"7441\", \"8042\", \"8240\", \"8641\", \"9084\", \"9957\", \"13430\", \"2970\", \"3121\", \"3251\", \"6706\", \"7226\", \"8212\", \"8595\", \"883\", \"885\", \"9365\", \"10313\", \"1139\", \"2105\", \"2281\", \"5051\", \"5282\", \"6032\", \"6535\", \"7188\", \"8795\", \"9334\", \"13544\", \"13560\", \"2284\", \"5980\", \"13351\", \"13786\", \"14619\", \"4513\", \"15247\", \"646\", \"10141\", \"10261\", \"1027\", \"10319\", \"10402\", \"1342\", \"13628\", \"1985\", \"3037\", \"3062\", \"3126\", \"3632\", \"3682\", \"3804\", \"4057\", \"440\", \"4475\", \"5391\", \"5805\", \"6214\", \"692\", \"7036\", \"7269\", \"7851\", \"7965\", \"8132\", \"8353\", \"8370\", \"8479\", \"8725\", \"934\", \"9443\", \"9649\", \"9739\", \"1289\", \"1346\", \"14196\", \"2326\", \"3134\", \"3149\", \"3231\", \"3298\", \"3391\", \"3497\", \"3956\", \"4378\", \"4556\", \"4722\", \"5211\", \"5515\", \"6220\", \"6221\", \"6392\", \"6520\", \"6662\", \"6996\", \"7524\", \"7592\", \"773\", \"8179\", \"8342\", \"9209\", \"9737\", \"13082\", \"13124\", \"13444\", \"13546\", \"13643\", \"13784\", \"14310\", \"15075\", \"15359\", \"15425\", \"2111\", \"6000\", \"12953\", \"12969\", \"1842\", \"13270\", \"15246\", \"3749\", \"10022\", \"10302\", \"14290\", \"2465\", \"4919\", \"786\", \"8110\", \"8886\", \"9240\", \"9983\", \"10190\", \"1283\", \"13071\", \"13376\", \"1447\", \"2725\", \"2813\", \"286\", \"3351\", \"3409\", \"4673\", \"4810\", \"5150\", \"5671\", \"6680\", \"8426\", \"8808\", \"9923\", \"1247\", \"1386\", \"13866\", \"14317\", \"1563\", \"1610\", \"2738\", \"3536\", \"4772\", \"5431\", \"5664\", \"7324\", \"7325\", \"7562\", \"867\", \"10070\", \"10192\", \"2834\", \"2836\", \"3108\", \"3145\", \"4254\", \"5558\", \"714\", \"10136\", \"10169\", \"10207\", \"10249\", \"1484\", \"1567\", \"1992\", \"2102\", \"2282\", \"2508\", \"2599\", \"3047\", \"4492\", \"5168\", \"5298\", \"5351\", \"5804\", \"5900\", \"6131\", \"6431\", \"6709\", \"7102\", \"7210\", \"7452\", \"8051\", \"8103\", \"8211\", \"9283\", \"961\", \"2698\", \"4419\", \"4612\", \"5166\", \"5256\", \"551\", \"6623\", \"6951\", \"7295\", \"8014\", \"8314\", \"9167\", \"9522\", \"9865\", \"9956\", \"10375\", \"1149\", \"15030\", \"1832\", \"2073\", \"2323\", \"2387\", \"265\", \"3338\", \"5180\", \"5418\", \"730\", \"737\", \"7466\", \"7559\", \"9699\", \"1686\", \"1912\", \"3585\", \"3930\", \"4080\", \"4415\", \"4782\", \"4985\", \"7213\", \"8785\", \"8850\", \"10215\", \"3264\", \"4995\", \"5177\", \"6569\", \"7484\", \"767\", \"8013\", \"8365\", \"911\", \"9693\", \"3707\", \"902\", \"10001\", \"10034\", \"10241\", \"10288\", \"10362\", \"15208\", \"1954\", \"2089\", \"3001\", \"3048\", \"3094\", \"3300\", \"3560\", \"3634\", \"3776\", \"4477\", \"4656\", \"4947\", \"6310\", \"6367\", \"6796\", \"7992\", \"803\", \"8747\", \"9520\", \"13004\", \"2721\", \"2921\", \"3095\", \"3599\", \"3764\", \"7287\", \"9696\", \"13879\", \"13036\", \"14921\", \"2130\", \"1079\", \"2092\", \"2910\", \"4107\", \"7349\", \"7838\", \"8062\", \"9022\", \"2831\", \"920\", \"13856\", \"1665\", \"14199\", \"7377\", \"873\", \"13692\", \"14154\", \"560\", \"7004\", \"9329\", \"13941\", \"1685\", \"853\", \"14937\", \"596\", \"8099\", \"8744\", \"14899\", \"14020\", \"627\", \"10060\", \"1672\", \"1678\", \"2905\", \"429\", \"431\", \"5162\", \"5451\", \"6334\", \"6957\", \"2112\", \"3835\", \"4904\", \"5535\", \"6213\", \"6840\", \"9338\", \"1303\", \"14380\", \"14381\", \"2194\", \"8833\", \"1124\", \"13340\", \"13381\", \"13411\", \"14287\", \"2519\", \"2743\", \"3778\", \"4230\", \"4463\", \"4746\", \"5539\", \"5967\", \"6119\", \"6341\", \"7659\", \"7692\", \"787\", \"9924\", \"1077\", \"2150\", \"2892\", \"4872\", \"5004\", \"5203\", \"5307\", \"5499\", \"5658\", \"6299\", \"6313\", \"6373\", \"6667\", \"7674\", \"8059\", \"8609\", \"9625\", \"9762\", \"3118\", \"3656\", \"4189\", \"7564\", \"7695\", \"8124\", \"8402\", \"8542\", \"8783\", \"9105\", \"13576\", \"14045\", \"6965\", \"12942\", \"1435\", \"2538\", \"2793\", \"3138\", \"3644\", \"3768\", \"4948\", \"5381\", \"6536\", \"9796\", \"13409\", \"13939\", \"14218\", \"2940\", \"3175\", \"3694\", \"4543\", \"4869\", \"5548\", \"5926\", \"6437\", \"6791\", \"6941\", \"8413\", \"9818\", \"9961\", \"13002\", \"13497\", \"13651\", \"3728\", \"8753\", \"12967\", \"13802\", \"487\", \"8374\", \"418\", \"4623\", \"6480\", \"9056\", \"9057\", \"13215\", \"4897\", \"1312\", \"1550\", \"468\", \"7587\", \"7638\", \"9224\", \"13863\", \"4087\", \"6790\", \"2193\", \"1369\", \"1516\", \"2448\", \"3661\", \"3816\", \"5194\", \"6534\", \"7603\", \"8275\", \"447\", \"5879\", \"935\", \"13334\", \"14047\", \"14129\", \"14722\", \"15023\", \"5985\", \"13655\", \"13712\", \"13940\", \"14046\", \"14156\", \"14259\", \"2256\", \"3535\", \"3887\", \"7274\", \"7708\", \"2756\", \"10126\", \"13466\", \"15316\", \"2020\", \"2047\", \"2165\", \"2652\", \"3520\", \"427\", \"4428\", \"4509\", \"4724\", \"4949\", \"4989\", \"4993\", \"5036\", \"5116\", \"5661\", \"5771\", \"5777\", \"5845\", \"6404\", \"6701\", \"7134\", \"7314\", \"7540\", \"764\", \"8019\", \"8579\", \"8692\", \"8981\", \"13232\", \"14189\", \"14822\", \"15315\", \"1689\", \"3266\", \"7684\", \"8302\", \"8793\", \"9326\", \"15442\", \"3944\", \"7204\", \"8131\", \"9567\", \"10291\", \"1119\", \"14782\", \"1996\", \"2598\", \"2887\", \"3406\", \"4235\", \"4680\", \"4928\", \"5586\", \"6141\", \"6231\", \"6703\", \"6813\", \"6848\", \"6940\", \"7391\", \"741\", \"7790\", \"8138\", \"8674\", \"9076\", \"9138\", \"9242\", \"10381\", \"13859\", \"14054\", \"14174\", \"1841\", \"2310\", \"2587\", \"2849\", \"3687\", \"4837\", \"4847\", \"5001\", \"595\", \"7589\", \"7971\", \"8290\", \"8323\", \"876\", \"8966\", \"9600\", \"9718\", \"1113\", \"13077\", \"3695\", \"1065\", \"1151\", \"1297\", \"12977\", \"13065\", \"13221\", \"13309\", \"13603\", \"13701\", \"13814\", \"14167\", \"14168\", \"14300\", \"1473\", \"1502\", \"2139\", \"2337\", \"2618\", \"2987\", \"3205\", \"3685\", \"4436\", \"4713\", \"6040\", \"6051\", \"6194\", \"6738\", \"7192\", \"7196\", \"7525\", \"8084\", \"8559\", \"9119\", \"9561\", \"10044\", \"10199\", \"10231\", \"10282\", \"1528\", \"1584\", \"1870\", \"2283\", \"2415\", \"2473\", \"2630\", \"2925\", \"2959\", \"4395\", \"5005\", \"6071\", \"6489\", \"6704\", \"682\", \"7106\", \"7124\", \"740\", \"7425\", \"8438\", \"8522\", \"8631\", \"8915\", \"9087\", \"9107\", \"9112\", \"9998\", \"4728\", \"5624\", \"13339\", \"4667\", \"471\", \"2195\", \"2864\", \"397\", \"4525\", \"5791\", \"6396\", \"6668\", \"6915\", \"6994\", \"7355\", \"7861\", \"8532\", \"9024\", \"9067\", \"13358\", \"13670\", \"13708\", \"1946\", \"2257\", \"2546\", \"4024\", \"13681\", \"1920\", \"1696\", \"5688\", \"6782\", \"9747\", \"1052\", \"14200\", \"5646\", \"6082\", \"6458\", \"8904\", \"9697\", \"10307\", \"2487\", \"3020\", \"3359\", \"3622\", \"3925\", \"6017\", \"6838\", \"7939\", \"8502\", \"948\", \"14950\", \"15283\", \"498\", \"5305\", \"6645\", \"7759\", \"13044\", \"13438\", \"13870\", \"14294\", \"2420\", \"2745\", \"2795\", \"3185\", \"3229\", \"3814\", \"3847\", \"4079\", \"6547\", \"6922\", \"7047\", \"8079\", \"8307\", \"9344\", \"9876\", \"1390\", \"15378\", \"1663\", \"1961\", \"2303\", \"2715\", \"2917\", \"3823\", \"3860\", \"3908\", \"4081\", \"4088\", \"4507\", \"4907\", \"5689\", \"5756\", \"6765\", \"6810\", \"6828\", \"7555\", \"7738\", \"7908\", \"8010\", \"840\", \"8734\", \"8897\", \"9168\", \"9311\", \"9362\", \"9432\", \"9730\", \"9760\", \"9791\", \"13016\", \"13495\", \"14313\", \"1523\", \"1977\", \"4179\", \"5708\", \"5949\", \"6385\", \"9221\", \"9821\", \"13897\", \"13609\", \"2018\", \"2819\", \"3067\", \"3273\", \"3354\", \"4056\", \"419\", \"5789\", \"7219\", \"7406\", \"756\", \"9274\", \"1666\", \"4971\", \"5337\", \"535\", \"6312\", \"7261\", \"813\", \"8386\", \"8570\", \"8730\", \"9431\", \"13401\", \"999\", \"13770\", \"13867\", \"1396\", \"15071\", \"4071\", \"4154\", \"5122\", \"7062\", \"846\", \"10049\", \"10110\", \"10154\", \"14804\", \"1555\", \"1904\", \"1924\", \"2302\", \"2638\", \"3386\", \"3777\", \"3888\", \"4086\", \"4098\", \"4487\", \"4831\", \"5187\", \"5550\", \"5860\", \"617\", \"620\", \"6250\", \"6278\", \"6320\", \"6360\", \"645\", \"6499\", \"6640\", \"6942\", \"7138\", \"7298\", \"755\", \"7863\", \"8288\", \"8584\", \"8748\", \"8934\", \"9477\", \"9820\", \"13980\", \"3243\", \"1145\", \"1308\", \"13159\", \"13262\", \"14171\", \"14201\", \"1769\", \"2069\", \"2649\", \"3010\", \"3080\", \"3436\", \"3481\", \"3602\", \"3851\", \"4020\", \"4097\", \"4117\", \"4123\", \"6064\", \"6590\", \"6686\", \"7464\", \"7575\", \"766\", \"7842\", \"7854\", \"788\", \"7932\", \"8656\", \"8790\", \"9458\", \"9566\", \"10348\", \"13942\", \"14800\", \"2339\", \"2533\", \"3040\", \"3627\", \"5218\", \"6779\", \"8462\", \"1085\", \"3109\", \"3731\", \"4050\", \"4313\", \"5375\", \"5640\", \"7085\", \"8654\", \"8968\", \"10148\", \"1204\", \"1406\", \"1727\", \"1981\", \"2221\", \"2292\", \"2414\", \"2579\", \"2622\", \"2786\", \"2945\", \"4248\", \"4476\", \"4533\", \"4629\", \"4992\", \"5271\", \"5330\", \"5460\", \"5744\", \"5784\", \"5986\", \"6251\", \"6302\", \"6486\", \"6542\", \"6648\", \"7128\", \"7251\", \"7386\", \"7467\", \"7667\", \"8088\", \"8450\", \"9157\", \"9192\", \"936\", \"9640\", \"9655\", \"1691\", \"1794\", \"4035\", \"4751\", \"8390\", \"9061\", \"9207\", \"9587\", \"9839\", \"9939\", \"10147\", \"10293\", \"10317\", \"1422\", \"1466\", \"4310\", \"4561\", \"4658\", \"5906\", \"6167\", \"6339\", \"7161\", \"7396\", \"7909\", \"8387\", \"8599\", \"8770\", \"9050\", \"9136\", \"9144\", \"9524\", \"9613\", \"2960\", \"3532\", \"3608\", \"522\", \"5500\", \"7493\", \"8108\", \"8389\", \"10201\", \"1806\", \"3413\", \"3506\", \"5620\", \"6340\", \"7394\", \"753\", \"7696\", \"8994\", \"9187\", \"9776\", \"13679\", \"3815\", \"2898\", \"470\", \"4807\", \"5317\", \"6377\", \"7788\", \"7828\", \"10225\", \"1083\", \"12992\", \"12994\", \"14277\", \"14307\", \"1790\", \"2007\", \"2242\", \"2545\", \"2681\", \"2692\", \"3026\", \"4506\", \"4595\", \"4815\", \"5379\", \"5722\", \"5743\", \"643\", \"7305\", \"8165\", \"8185\", \"8794\", \"9912\", \"2542\", \"3226\", \"3994\", \"5311\", \"6401\", \"13072\", \"13884\", \"13220\", \"13258\", \"722\", \"3076\", \"3087\", \"4051\", \"4356\", \"4881\", \"4982\", \"9246\", \"10378\", \"13132\", \"13341\", \"2407\", \"3114\", \"4185\", \"7799\", \"8717\", \"9185\", \"13589\", \"3946\", \"12974\", \"13188\", \"13725\", \"13831\", \"14221\", \"14301\", \"10187\", \"14202\", \"14648\", \"1662\", \"2573\", \"3367\", \"4485\", \"5216\", \"5636\", \"6383\", \"7129\", \"8299\", \"8825\", \"9272\", \"9505\", \"9534\", \"8196\", \"13320\", \"13378\", \"13475\", \"13677\", \"13723\", \"14172\", \"14269\", \"889\", \"4554\", \"5632\", \"7093\", \"881\", \"13511\", \"15404\", \"8612\", \"1234\", \"1339\", \"13650\", \"1975\", \"2024\", \"2293\", \"4305\", \"4479\", \"4611\", \"5335\", \"5398\", \"569\", \"5741\", \"6356\", \"6502\", \"7557\", \"7968\", \"7980\", \"9040\", \"9397\", \"994\", \"13211\", \"841\", \"1721\", \"3041\", \"3730\", \"3779\", \"3900\", \"3961\", \"5778\", \"7005\", \"7905\", \"9178\", \"9307\", \"9714\", \"9773\", \"1248\", \"1820\", \"1902\", \"2252\", \"8315\", \"8774\", \"8896\", \"10262\", \"10363\", \"10448\", \"1146\", \"1358\", \"14190\", \"1579\", \"1816\", \"3213\", \"4357\", \"4516\", \"4625\", \"4655\", \"6575\", \"6681\", \"7078\", \"8478\", \"9513\", \"10174\", \"1232\", \"1318\", \"14155\", \"2468\", \"2948\", \"3158\", \"3189\", \"3217\", \"3954\", \"4068\", \"4759\", \"5489\", \"5866\", \"6057\", \"6099\", \"6258\", \"6307\", \"7241\", \"7482\", \"7584\", \"7943\", \"7960\", \"8020\", \"8065\", \"8073\", \"8755\", \"8761\", \"8863\", \"8978\", \"9115\", \"9191\", \"9742\", \"13747\", \"2450\", \"2513\", \"4100\", \"5408\", \"5978\", \"6132\", \"6490\", \"7180\", \"9009\", \"9213\", \"9370\", \"943\", \"9724\", \"1127\", \"3838\", \"526\", \"5649\", \"6283\", \"6516\", \"8027\", \"8835\", \"9481\", \"1597\", \"1659\", \"2438\", \"2994\", \"3027\", \"3517\", \"3758\", \"4093\", \"6164\", \"6451\", \"6494\", \"6831\", \"7048\", \"7290\", \"7927\", \"8002\", \"8303\", \"8648\", \"8714\", \"9295\", \"9895\", \"9915\", \"1091\", \"899\", \"930\", \"10246\", \"10314\", \"14959\", \"3645\", \"4441\", \"5836\", \"6311\", \"6492\", \"7174\", \"7444\", \"8289\", \"13454\", \"13459\", \"14188\", \"1512\", \"1893\", \"2236\", \"2264\", \"2457\", \"2616\", \"3362\", \"371\", \"372\", \"4124\", \"4245\", \"4292\", \"4360\", \"4793\", \"5011\", \"5244\", \"6245\", \"639\", \"6483\", \"6570\", \"7413\", \"7705\", \"8238\", \"8728\", \"9026\", \"9296\", \"9341\", \"13088\", \"9202\", \"9404\", \"4562\", \"13881\", \"3031\", \"3538\", \"1090\", \"13167\", \"13486\", \"13571\", \"13577\", \"14319\", \"14625\", \"3831\", \"3932\", \"4141\", \"5387\", \"6111\", \"6263\", \"8504\", \"1207\", \"13344\", \"13774\", \"4211\", \"4648\", \"5044\", \"541\", \"5875\", \"6048\", \"6959\", \"7771\", \"8001\", \"8100\", \"8349\", \"9789\", \"1198\", \"1221\", \"1263\", \"13244\", \"13468\", \"14128\", \"14224\", \"1788\", \"2203\", \"2501\", \"2942\", \"3261\", \"4015\", \"4362\", \"5020\", \"6122\", \"6807\", \"7931\", \"9014\", \"9736\", \"1067\", \"1223\", \"13276\", \"13719\", \"14314\", \"2695\", \"3291\", \"3920\", \"4622\", \"492\", \"5097\", \"5581\", \"5833\", \"6482\", \"9135\", \"984\", \"13458\", \"14731\", \"10405\", \"1112\", \"13120\", \"2182\", \"2826\", \"3044\", \"3081\", \"3125\", \"3317\", \"3882\", \"4967\", \"5758\", \"7032\", \"7347\", \"7929\", \"9337\", \"9361\", \"9435\", \"9491\", \"1410\", \"1413\", \"14897\", \"15280\", \"15379\", \"1677\", \"2359\", \"2479\", \"3519\", \"3589\", \"4138\", \"4400\", \"4979\", \"5077\", \"5580\", \"5943\", \"5956\", \"6347\", \"6793\", \"6939\", \"7751\", \"8008\", \"8586\", \"8823\", \"8918\", \"10020\", \"13038\", \"14249\", \"448\", \"5270\", \"5393\", \"6381\", \"1240\", \"2016\", \"9840\", \"10132\", \"1454\", \"1935\", \"2619\", \"2716\", \"3140\", \"3465\", \"3892\", \"3924\", \"4388\", \"4753\", \"5026\", \"5276\", \"5638\", \"669\", \"8557\", \"8937\", \"9848\", \"10085\", \"10485\", \"13509\", \"13588\", \"1468\", \"15032\", \"1752\", \"1939\", \"2522\", \"2746\", \"3287\", \"4158\", \"6699\", \"7020\", \"8903\", \"9196\", \"9298\", \"9987\", \"5105\", \"6241\", \"13028\", \"13306\", \"13325\", \"15031\", \"1758\", \"2600\", \"2801\", \"2966\", \"3922\", \"4720\", \"563\", \"7014\", \"7720\", \"8892\", \"9445\", \"14278\", \"14288\", \"2535\", \"3458\", \"363\", \"4691\", \"4853\", \"13389\", \"13700\", \"8242\", \"1335\", \"2607\", \"2608\", \"2623\", \"7857\", \"7921\", \"8160\", \"13549\", \"13614\", \"13885\", \"2656\", \"6305\", \"6842\", \"1086\", \"1546\", \"2075\", \"2250\", \"3508\", \"4286\", \"552\", \"6696\", \"8330\", \"10329\", \"1587\", \"2041\", \"2227\", \"3531\", \"3983\", \"8148\", \"9055\", \"9850\", \"13315\", \"13639\", \"5625\", \"860\", \"10038\", \"13519\", \"13531\", \"15427\", \"10351\", \"9463\", \"1266\", \"13736\", \"2036\", \"3484\", \"4910\", \"4916\", \"5190\", \"6208\", \"6254\", \"6954\", \"8543\", \"8642\", \"8735\", \"9782\", \"13578\", \"9780\", \"2106\", \"263\", \"264\", \"5616\", \"8003\", \"14282\", \"10330\", \"4586\", \"7656\", \"13299\", \"14220\", \"1839\", \"2604\", \"2606\", \"5614\", \"7942\", \"8067\", \"8152\", \"9624\", \"9775\", \"1642\", \"2410\", \"5542\", \"6513\", \"7542\", \"4249\", \"573\", \"13122\", \"13175\", \"13862\", \"13878\", \"13880\", \"14178\", \"14179\", \"14340\", \"15344\", \"2038\", \"2400\", \"3398\", \"3463\", \"4283\", \"4657\", \"5579\", \"7029\", \"7054\", \"8400\", \"8408\", \"8684\", \"8798\", \"1000\", \"14927\", \"1860\", \"4275\", \"5009\", \"6405\", \"6695\", \"7253\", \"8917\", \"905\", \"13702\", \"5874\", \"10383\", \"12875\", \"14101\", \"4431\", \"9381\", \"10386\", \"1272\", \"3289\", \"9833\", \"10131\", \"14146\", \"1668\", \"2127\", \"2802\", \"3415\", \"3809\", \"6050\", \"6093\", \"6206\", \"6865\", \"6879\", \"6930\", \"7852\", \"8439\", \"9591\", \"9756\", \"13084\", \"13091\", \"14299\", \"5675\", \"8170\", \"15106\", \"4238\", \"7796\", \"13193\", \"13311\", \"13360\", \"13448\", \"13488\", \"13739\", \"13749\", \"13984\", \"14215\", \"1688\", \"1825\", \"2467\", \"3331\", \"4710\", \"6419\", \"6805\", \"7436\", \"9444\", \"9651\", \"15354\", \"10183\", \"1209\", \"13076\", \"14691\", \"2411\", \"3187\", \"3727\", \"3782\", \"3790\", \"4089\", \"4640\", \"5028\", \"6332\", \"7199\", \"7207\", \"7527\", \"7689\", \"7693\", \"7999\", \"8129\", \"8278\", \"8379\", \"8460\", \"8551\", \"927\", \"9732\", \"15107\", \"4851\", \"6114\", \"8188\", \"10251\", \"1175\", \"15355\", \"1807\", \"3404\", \"3699\", \"3757\", \"4077\", \"4540\", \"4855\", \"7023\", \"7726\", \"7803\", \"8090\", \"8247\", \"8373\", \"8399\", \"8723\", \"8745\", \"9142\", \"9449\", \"9656\", \"9867\", \"9883\", \"14361\", \"1628\", \"3880\", \"13080\", \"13595\", \"13809\", \"5389\", \"10013\", \"13003\", \"13345\", \"13346\", \"13347\", \"13382\", \"1573\", \"1804\", \"1812\", \"2358\", \"2669\", \"2889\", \"3073\", \"3330\", \"3904\", \"3949\", \"4519\", \"5433\", \"5485\", \"5534\", \"6010\", \"7068\", \"7625\", \"7966\", \"7997\", \"8115\", \"8536\", \"8585\", \"9229\", \"9306\", \"9310\", \"9336\", \"9716\", \"10479\", \"13729\", \"13948\", \"2555\", \"3967\", \"4344\", \"4836\", \"4955\", \"5942\", \"6416\", \"6420\", \"7109\", \"8015\", \"8398\", \"8539\", \"14148\", \"2865\", \"4156\", \"4302\", \"5458\", \"6672\", \"8817\", \"2668\", \"2706\", \"5452\", \"6433\", \"6551\", \"8454\", \"8480\", \"8703\", \"8952\", \"9235\", \"924\", \"9471\", \"4405\", \"6246\", \"6398\", \"7031\", \"8250\", \"1525\", \"4136\", \"4526\", \"5588\", \"13019\", \"13103\", \"13312\", \"14015\", \"10341\", \"14360\", \"1786\", \"1928\", \"3906\", \"4047\", \"4515\", \"5201\", \"6746\", \"6895\", \"8661\", \"9019\", \"12951\", \"13272\", \"13303\", \"14063\", \"15290\", \"3082\", \"3583\", \"3907\", \"4108\", \"4876\", \"5224\", \"5436\", \"5617\", \"6242\", \"6945\", \"8384\", \"9059\", \"2279\", \"10057\", \"1150\", \"1196\", \"1294\", \"14072\", \"1795\", \"2343\", \"2520\", \"2683\", \"2696\", \"2720\", \"3142\", \"3322\", \"3425\", \"3546\", \"3578\", \"3703\", \"402\", \"4061\", \"4448\", \"4482\", \"4541\", \"5058\", \"5068\", \"5159\", \"5193\", \"5765\", \"5793\", \"6024\", \"6097\", \"6175\", \"6233\", \"6274\", \"6306\", \"6518\", \"6916\", \"7006\", \"7074\", \"7230\", \"7409\", \"7602\", \"7725\", \"7945\", \"8280\", \"8440\", \"8594\", \"8600\", \"8846\", \"887\", \"9266\", \"9328\", \"9343\", \"9809\", \"1040\", \"8404\", \"13152\", \"561\", \"7457\", \"8341\", \"13461\", \"13777\", \"2248\", \"3078\", \"3124\", \"6852\", \"8657\", \"10233\", \"13653\", \"14160\", \"825\", \"13336\", \"13564\", \"8718\", \"10270\", \"14613\", \"2584\", \"14248\", \"15444\", \"3803\", \"3850\", \"5714\", \"6349\", \"9031\", \"9099\", \"5904\", \"10066\", \"10123\", \"10258\", \"10366\", \"1128\", \"1256\", \"1259\", \"14358\", \"1683\", \"1968\", \"2663\", \"2934\", \"3472\", \"3659\", \"3968\", \"4616\", \"4819\", \"5010\", \"5143\", \"5161\", \"5249\", \"571\", \"6917\", \"6921\", \"7479\", \"7721\", \"8217\", \"8257\", \"8403\", \"8947\", \"9528\", \"9536\", \"2417\", \"2851\", \"572\", \"10235\", \"10346\", \"10439\", \"1062\", \"1214\", \"1334\", \"1345\", \"1862\", \"2205\", \"2265\", \"2423\", \"2460\", \"2633\", \"2842\", \"2903\", \"2926\", \"3016\", \"3209\", \"3283\", \"3305\", \"3683\", \"3716\", \"4614\", \"4670\", \"4731\", \"4750\", \"4839\", \"4962\", \"5084\", \"5342\", \"570\", \"5831\", \"5834\", \"5972\", \"6002\", \"6190\", \"6432\", \"6898\", \"6929\", \"8085\", \"8628\", \"9375\", \"9506\", \"9559\", \"9677\", \"9746\", \"9792\", \"9952\", \"2328\", \"2526\", \"2963\", \"4771\", \"6168\", \"816\", \"9111\", \"10106\", \"10200\", \"10279\", \"10364\", \"1217\", \"13138\", \"14689\", \"1614\", \"1621\", \"1753\", \"2062\", \"2081\", \"2082\", \"2164\", \"2294\", \"2429\", \"2464\", \"2515\", \"2521\", \"2785\", \"3101\", \"4007\", \"4129\", \"4255\", \"4257\", \"4318\", \"4442\", \"4464\", \"4786\", \"5071\", \"5146\", \"5239\", \"5313\", \"5909\", \"5995\", \"6314\", \"6531\", \"6564\", \"6634\", \"6729\", \"6832\", \"6882\", \"7137\", \"7357\", \"743\", \"7647\", \"7653\", \"8117\", \"9036\", \"9066\", \"9446\", \"9781\", \"9873\", \"1429\", \"2134\", \"2234\", \"2804\", \"3434\", \"3738\", \"4060\", \"4290\", \"5176\", \"5252\", \"5353\", \"5442\", \"5723\", \"6157\", \"6894\", \"7407\", \"7580\", \"7650\", \"898\", \"9169\", \"9539\", \"9686\", \"10036\", \"10124\", \"1089\", \"14567\", \"1504\", \"2000\", \"2172\", \"2357\", \"2421\", \"2576\", \"2602\", \"2873\", \"3120\", \"3199\", \"3234\", \"3759\", \"3843\", \"398\", \"4340\", \"4565\", \"5017\", \"5253\", \"5471\", \"5502\", \"5615\", \"5850\", \"5968\", \"6376\", \"6651\", \"7083\", \"7309\", \"7553\", \"7918\", \"8567\", \"8927\", \"9238\", \"9467\", \"9986\", \"10300\", \"10442\", \"1072\", \"1638\", \"1706\", \"2017\", \"2063\", \"2117\", \"2133\", \"2613\", \"3495\", \"3571\", \"3672\", \"3723\", \"3996\", \"4005\", \"401\", \"4146\", \"4626\", \"4763\", \"4804\", \"5384\", \"5585\", \"5635\", \"616\", \"6464\", \"6975\", \"7113\", \"7154\", \"7176\", \"720\", \"7276\", \"7841\", \"7914\", \"8025\", \"8091\", \"8183\", \"8335\", \"8351\", \"8591\", \"9290\", \"9400\", \"9680\", \"13442\", \"13555\", \"13728\", \"14679\", \"14783\", \"1578\", \"1637\", \"3539\", \"367\", \"368\", \"3733\", \"3859\", \"3965\", \"4613\", \"5066\", \"5199\", \"5880\", \"5951\", \"6617\", \"6777\", \"7063\", \"7713\", \"8029\", \"8705\", \"9480\", \"12979\", \"12983\", \"13060\", \"13450\", \"13765\", \"13849\", \"5915\", \"6607\", \"8804\", \"10046\", \"10143\", \"10219\", \"1026\", \"1153\", \"1275\", \"1284\", \"2161\", \"2673\", \"2718\", \"3258\", \"3262\", \"3403\", \"3410\", \"3658\", \"3936\", \"4176\", \"4309\", \"5236\", \"5853\", \"6013\", \"6106\", \"6834\", \"6948\", \"6985\", \"7077\", \"7089\", \"7156\", \"7454\", \"7472\", \"7853\", \"809\", \"8245\", \"8949\", \"9172\", \"9232\", \"9636\", \"9764\", \"10004\", \"14336\", \"1599\", \"2699\", \"4040\", \"4404\", \"5196\", \"5263\", \"6968\", \"8287\", \"8396\", \"8847\", \"9627\", \"10133\", \"1176\", \"13869\", \"1425\", \"1558\", \"1818\", \"2037\", \"2113\", \"2259\", \"2409\", \"2500\", \"2854\", \"3327\", \"3437\", \"3719\", \"3862\", \"3950\", \"4484\", \"4887\", \"5129\", \"5509\", \"5707\", \"5766\", \"5898\", \"658\", \"6870\", \"6962\", \"7292\", \"7485\", \"8005\", \"8146\", \"8273\", \"8486\", \"8649\", \"9205\", \"9342\", \"9832\", \"9835\", \"3011\", \"3150\", \"10257\", \"14813\", \"1522\", \"1844\", \"2149\", \"2327\", \"2722\", \"3219\", \"3742\", \"425\", \"4512\", \"4524\", \"4936\", \"5221\", \"5289\", \"5424\", \"5506\", \"5562\", \"5627\", \"5936\", \"6438\", \"6698\", \"6934\", \"7637\", \"772\", \"8885\", \"8925\", \"9257\", \"9728\", \"1105\", \"1357\", \"14842\", \"2135\", \"2272\", \"2534\", \"2784\", \"2933\", \"3008\", \"3303\", \"3475\", \"3667\", \"3976\", \"4187\", \"4690\", \"4841\", \"6150\", \"6390\", \"650\", \"6752\", \"6853\", \"7242\", \"7378\", \"7532\", \"7583\", \"8768\", \"9322\", \"9492\", \"10256\", \"13473\", \"13745\", \"580\", \"7969\", \"6825\", \"6897\", \"7706\", \"8555\", \"8935\", \"10105\", \"14829\", \"2088\", \"2162\", \"2689\", \"3057\", \"3107\", \"4106\", \"4296\", \"4721\", \"5123\", \"5368\", \"5555\", \"5865\", \"5881\", \"6109\", \"6756\", \"7013\", \"7135\", \"7323\", \"7988\", \"8097\", \"815\", \"8769\", \"8781\", \"9133\", \"9454\", \"9845\", \"9913\", \"10184\", \"1034\", \"10469\", \"1183\", \"15263\", \"1530\", \"1620\", \"1883\", \"2274\", \"2345\", \"2481\", \"2862\", \"2990\", \"2991\", \"3079\", \"3769\", \"3939\", \"4718\", \"5247\", \"5411\", \"5482\", \"5592\", \"5594\", \"5653\", \"5924\", \"7183\", \"7365\", \"7541\", \"7624\", \"776\", \"7791\", \"7794\", \"7910\", \"9195\", \"946\", \"962\", \"9936\", \"997\", \"1252\", \"1317\", \"1417\", \"14175\", \"1463\", \"1510\", \"15340\", \"15343\", \"1809\", \"1923\", \"2374\", \"2610\", \"2723\", \"2798\", \"2808\", \"3139\", \"3677\", \"3982\", \"4055\", \"4276\", \"4287\", \"4447\", \"4636\", \"4725\", \"5466\", \"5606\", \"5674\", \"5776\", \"5818\", \"5885\", \"6127\", \"6757\", \"6781\", \"7150\", \"7270\", \"7518\", \"7646\", \"7996\", \"8098\", \"8490\", \"8593\", \"8700\", \"9149\", \"9994\", \"1109\", \"14628\", \"4756\", \"500\", \"6020\", \"6199\", \"6474\", \"701\", \"7281\", \"10149\", \"1057\", \"1481\", \"15262\", \"1774\", \"3182\", \"3636\", \"4552\", \"4990\", \"5931\", \"6837\", \"7114\", \"7754\", \"8150\", \"9035\", \"9384\", \"9900\", \"9902\", \"991\", \"10000\", \"10084\", \"10425\", \"1384\", \"1759\", \"1919\", \"1967\", \"1994\", \"2360\", \"2441\", \"2470\", \"2812\", \"2845\", \"2870\", \"3068\", \"3430\", \"3587\", \"3754\", \"4025\", \"4345\", \"446\", \"4470\", \"6089\", \"6184\", \"6267\", \"6532\", \"6592\", \"709\", \"7227\", \"7338\", \"7714\", \"7925\", \"8463\", \"8891\", \"9081\", \"9403\", \"9521\", \"9722\", \"980\", \"10232\", \"10419\", \"10455\", \"14715\", \"14718\", \"14719\", \"14721\", \"2216\", \"3007\", \"3365\", \"3468\", \"3489\", \"381\", \"3813\", \"4162\", \"459\", \"4974\", \"5062\", \"5531\", \"6472\", \"6766\", \"7002\", \"8514\", \"8520\", \"8854\", \"10252\", \"1056\", \"15341\", \"15342\", \"1872\", \"2104\", \"2196\", \"2201\", \"2644\", \"3106\", \"3722\", \"3812\", \"3853\", \"4190\", \"4933\", \"4977\", \"4984\", \"5730\", \"6364\", \"6605\", \"7237\", \"7972\", \"8271\", \"9558\", \"9584\", \"2844\", \"10091\", \"10111\", \"10308\", \"1101\", \"1292\", \"14570\", \"2912\", \"3192\", \"4103\", \"4131\", \"4160\", \"4167\", \"4469\", \"4678\", \"5319\", \"562\", \"7026\", \"7131\", \"7566\", \"7609\", \"7729\", \"7963\", \"8184\", \"8229\", \"8248\", \"8484\", \"8838\", \"8841\", \"8926\", \"9005\", \"9094\", \"9723\", \"9768\", \"9858\", \"9904\", \"1107\", \"1168\", \"2866\", \"3228\", \"3469\", \"3569\", \"399\", \"5067\", \"6923\", \"7322\", \"796\", \"8772\", \"8962\", \"9573\", \"1293\", \"2989\", \"7685\", \"10075\", \"1051\", \"1097\", \"1244\", \"13169\", \"1349\", \"1365\", \"14645\", \"14809\", \"1519\", \"1537\", \"1547\", \"1588\", \"1850\", \"1982\", \"2083\", \"2163\", \"2379\", \"2491\", \"2558\", \"2700\", \"2788\", \"2899\", \"2955\", \"3255\", \"3337\", \"3340\", \"3360\", \"3792\", \"3876\", \"3883\", \"400\", \"4270\", \"4336\", \"4508\", \"4573\", \"4808\", \"4848\", \"4879\", \"4885\", \"4946\", \"4961\", \"5040\", \"5055\", \"5135\", \"528\", \"529\", \"530\", \"5302\", \"5369\", \"5421\", \"5428\", \"5448\", \"5472\", \"5564\", \"5589\", \"5676\", \"579\", \"5822\", \"619\", \"6268\", \"6442\", \"6508\", \"6586\", \"6598\", \"6650\", \"7095\", \"7208\", \"7275\", \"7344\", \"7487\", \"7548\", \"765\", \"7901\", \"8011\", \"8077\", \"8312\", \"8348\", \"8437\", \"8842\", \"9020\", \"9096\", \"9265\", \"9455\", \"9511\", \"9626\", \"9661\", \"9815\", \"9885\", \"1033\", \"13498\", \"13500\", \"13501\", \"1375\", \"14367\", \"14368\", \"14369\", \"14370\", \"14841\", \"1562\", \"2239\", \"2624\", \"3387\", \"3648\", \"3701\", \"3840\", \"4392\", \"4681\", \"5269\", \"5293\", \"7443\", \"7595\", \"7619\", \"8071\", \"8758\", \"9407\", \"972\", \"10393\", \"1162\", \"14600\", \"14601\", \"14603\", \"14606\", \"14608\", \"14609\", \"15047\", \"15318\", \"15319\", \"15320\", \"15321\", \"15322\", \"15323\", \"15324\", \"15325\", \"15326\", \"15327\", \"15360\", \"1955\", \"2179\", \"2315\", \"2369\", \"3193\", \"330\", \"3684\", \"3713\", \"4545\", \"5254\", \"5394\", \"5696\", \"5790\", \"5897\", \"6488\", \"6493\", \"6800\", \"6846\", \"729\", \"7735\", \"8130\", \"8142\", \"8359\", \"8453\", \"931\", \"9748\", \"10456\", \"10458\", \"10480\", \"1192\", \"1210\", \"14716\", \"14717\", \"14720\", \"15328\", \"15329\", \"15330\", \"15331\", \"15332\", \"15333\", \"15334\", \"15335\", \"15336\", \"15337\", \"15338\", \"15339\", \"1639\", \"2137\", \"2485\", \"2928\", \"3244\", \"3278\", \"358\", \"3751\", \"4181\", \"4432\", \"5304\", \"5938\", \"641\", \"6946\", \"7025\", \"7107\", \"7193\", \"7598\", \"7698\", \"7700\", \"7787\", \"7808\", \"7856\", \"7990\", \"8237\", \"8285\", \"8797\", \"9264\", \"9316\", \"10162\", \"1155\", \"1185\", \"1456\", \"1772\", \"3488\", \"3563\", \"4039\", \"4941\", \"5889\", \"5966\", \"6120\", \"7473\", \"8344\", \"8358\", \"9315\", \"9702\", \"9771\", \"9774\", \"6161\", \"13581\", \"2951\", \"3826\", \"6146\", \"6236\", \"8513\", \"9279\", \"10177\", \"1074\", \"2559\", \"2920\", \"5099\", \"5435\", \"5892\", \"6583\", \"7817\", \"9275\", \"9674\", \"1177\", \"1373\", \"13906\", \"1849\", \"1927\", \"1976\", \"2067\", \"2204\", \"2869\", \"3375\", \"3474\", \"3955\", \"3973\", \"5061\", \"5510\", \"5767\", \"5959\", \"6243\", \"6289\", \"7141\", \"7517\", \"7682\", \"9871\", \"1024\", \"1279\", \"1474\", \"1603\", \"2079\", \"289\", \"2904\", \"3625\", \"4617\", \"6163\", \"6561\", \"6731\", \"6982\", \"7410\", \"7868\", \"8026\", \"8253\", \"8475\", \"8590\", \"9070\", \"9630\", \"9785\", \"992\", \"14598\", \"14599\", \"14602\", \"14604\", \"14605\", \"14607\", \"14839\", \"8332\", \"925\", \"2072\", \"2324\", \"3611\", \"4684\", \"5283\", \"6784\", \"6808\", \"7773\", \"8663\", \"8946\", \"9137\", \"10316\", \"15269\", \"1826\", \"2453\", \"290\", \"3479\", \"4860\", \"5578\", \"6249\", \"7676\", \"8076\", \"8114\", \"8322\", \"8515\", \"1733\", \"3641\", \"6728\", \"6758\", \"7823\", \"7829\", \"7883\", \"8664\", \"9039\", \"1045\", \"12892\", \"13274\", \"2770\", \"2855\", \"5764\", \"5783\", \"7252\", \"9890\", \"1499\", \"1713\", \"1877\", \"1922\", \"2141\", \"2553\", \"2796\", \"2868\", \"3242\", \"4033\", \"4183\", \"5584\", \"6501\", \"6876\", \"7634\", \"7891\", \"8128\", \"8501\", \"8572\", \"9231\", \"9409\", \"9545\", \"9637\", \"9664\", \"9688\", \"9863\", \"7673\", \"8791\", \"10374\", \"12896\", \"12897\", \"12925\", \"12941\", \"13010\", \"1359\", \"13903\", \"14572\", \"2944\", \"3709\", \"4668\", \"5142\", \"5322\", \"7715\", \"8834\", \"9314\", \"9429\", \"9447\", \"993\", \"1122\", \"14016\", \"14017\", \"14018\", \"1619\", \"2057\", \"2120\", \"2913\", \"3288\", \"4021\", \"6671\", \"7571\", \"9970\", \"1751\", \"1865\", \"2065\", \"2353\", \"2601\", \"323\", \"3550\", \"3987\", \"4445\", \"4599\", \"4774\", \"5042\", \"5209\", \"5973\", \"6771\", \"7037\", \"7053\", \"7327\", \"785\", \"7869\", \"8637\", \"9008\", \"9428\", \"4473\", \"6095\", \"9503\", \"10064\", \"10354\", \"10384\", \"13147\", \"1377\", \"15265\", \"1589\", \"1704\", \"1787\", \"2006\", \"2029\", \"2627\", \"2631\", \"2747\", \"3004\", \"3269\", \"3516\", \"3518\", \"3770\", \"4312\", \"4535\", \"4747\", \"5600\", \"5827\", \"5851\", \"5922\", \"6203\", \"6538\", \"6619\", \"6760\", \"6816\", \"6890\", \"6924\", \"7277\", \"7530\", \"7594\", \"7622\", \"7885\", \"8155\", \"8698\", \"8751\", \"9440\", \"9448\", \"9783\", \"9799\", \"9830\", \"9908\", \"5326\", \"5601\", \"8832\", \"9294\", \"10243\", \"15264\", \"1615\", \"2002\", \"2356\", \"2923\", \"3268\", \"3438\", \"3580\", \"4207\", \"5046\", \"5497\", \"6047\", \"6530\", \"7494\", \"8352\", \"8615\", \"8931\", \"9244\", \"9277\", \"9355\", \"9653\", \"9666\", \"9932\", \"1084\", \"2492\", \"285\", \"3542\", \"3852\", \"461\", \"4854\", \"6001\", \"6732\", \"6937\", \"7146\", \"7636\", \"7858\", \"7875\", \"8028\", \"8279\", \"9027\", \"9962\", \"1012\", \"10218\", \"1220\", \"1381\", \"2044\", \"2439\", \"2897\", \"310\", \"3165\", \"3615\", \"4576\", \"4917\", \"4964\", \"5476\", \"6468\", \"7143\", \"7168\", \"732\", \"7956\", \"8153\", \"8161\", \"8510\", \"8984\", \"8988\", \"904\", \"9125\", \"9708\", \"10268\", \"10286\", \"1080\", \"14723\", \"1543\", \"1754\", \"1800\", \"2148\", \"2427\", \"3389\", \"3482\", \"3499\", \"3524\", \"4010\", \"4548\", \"4682\", \"4805\", \"4866\", \"5522\", \"5933\", \"6288\", \"6476\", \"6552\", \"6556\", \"6741\", \"7149\", \"7169\", \"7774\", \"8423\", \"8511\", \"8665\", \"8919\", \"8944\", \"9273\", \"933\", \"9414\", \"965\", \"9698\", \"9715\", \"14055\", \"14056\", \"6850\", \"9097\", \"13658\", \"13756\", \"14246\", \"1002\", \"10417\", \"1705\", \"2093\", \"3342\", \"3572\", \"5928\", \"5992\", \"6037\", \"6872\", \"7268\", \"7981\", \"7987\", \"8121\", \"8356\", \"8431\", \"10236\", \"12964\", \"1476\", \"1937\", \"2045\", \"2550\", \"3628\", \"4023\", \"4495\", \"4886\", \"494\", \"5983\", \"6016\", \"6991\", \"7438\", \"751\", \"7529\", \"8198\", \"8205\", \"828\", \"8973\", \"9108\", \"9399\", \"9489\", \"10125\", \"13619\", \"1405\", \"14053\", \"1646\", \"2129\", \"2894\", \"3157\", \"3248\", \"3917\", \"4170\", \"4888\", \"493\", \"5981\", \"6352\", \"6357\", \"6814\", \"7567\", \"7763\", \"7890\", \"8093\", \"8199\", \"8224\", \"8909\", \"9121\", \"9430\", \"950\", \"9552\", \"9951\", \"10035\", \"1565\", \"3299\", \"3901\", \"4126\", \"5288\", \"590\", \"6147\", \"7091\", \"7279\", \"8558\", \"8618\", \"8779\", \"8866\", \"10040\", \"10058\", \"10081\", \"1025\", \"1158\", \"12894\", \"1315\", \"13600\", \"1536\", \"1545\", \"15456\", \"1605\", \"1618\", \"1736\", \"2004\", \"2066\", \"2351\", \"2675\", \"2778\", \"3190\", \"3201\", \"3212\", \"3312\", \"3432\", \"3467\", \"3486\", \"3511\", \"3553\", \"3753\", \"3795\", \"3834\", \"3934\", \"4048\", \"4764\", \"4822\", \"4832\", \"4940\", \"5117\", \"5223\", \"5413\", \"5563\", \"5754\", \"6100\", \"6195\", \"6429\", \"6448\", \"6579\", \"6854\", \"7101\", \"7229\", \"725\", \"727\", \"7285\", \"7483\", \"7538\", \"7640\", \"7731\", \"7845\", \"7903\", \"8043\", \"8044\", \"8329\", \"8382\", \"8424\", \"847\", \"8521\", \"8827\", \"8865\", \"8948\", \"9323\", \"9476\", \"9546\", \"9701\", \"9704\", \"9738\", \"9937\", \"10345\", \"1053\", \"1493\", \"1630\", \"2431\", \"2509\", \"284\", \"2918\", \"3097\", \"3329\", \"3390\", \"3588\", \"3817\", \"4008\", \"4094\", \"4111\", \"4171\", \"4550\", \"4834\", \"486\", \"5104\", \"5338\", \"5392\", \"5519\", \"5919\", \"5977\", \"6588\", \"6614\", \"7209\", \"7560\", \"760\", \"7614\", \"8083\", \"8441\", \"8672\", \"8942\", \"9164\", \"9262\", \"9324\", \"9980\", \"10432\", \"13659\", \"13686\", \"1372\", \"1490\", \"1600\", \"2103\", \"2735\", \"2810\", \"2929\", \"3128\", \"3211\", \"4394\", \"4643\", \"4665\", \"4827\", \"5255\", \"6019\", \"7328\", \"7381\", \"7748\", \"8367\", \"8690\", \"8756\", \"8932\", \"9049\", \"9581\", \"9618\", \"9866\", \"10290\", \"10292\", \"12946\", \"14571\", \"1645\", \"1780\", \"1876\", \"3612\", \"3780\", \"433\", \"6253\", \"6676\", \"7596\", \"7798\", \"8762\", \"10158\", \"1187\", \"13237\", \"1828\", \"2126\", \"2238\", \"2384\", \"2884\", \"337\", \"3558\", \"3885\", \"4067\", \"4607\", \"4898\", \"5076\", \"5488\", \"5496\", \"6198\", \"6675\", \"6856\", \"6979\", \"7173\", \"7266\", \"8589\", \"884\", \"9058\", \"9098\", \"1899\", \"2908\", \"5086\", \"6053\", \"7864\", \"8434\", \"10037\", \"10265\", \"1224\", \"1291\", \"1444\", \"1765\", \"1822\", \"1908\", \"2408\", \"2753\", \"3123\", \"3237\", \"3240\", \"3718\", \"3928\", \"4070\", \"4118\", \"4266\", \"4374\", \"4452\", \"4621\", \"4792\", \"4980\", \"5043\", \"5156\", \"5184\", \"5610\", \"5705\", \"5839\", \"5882\", \"601\", \"6185\", \"6257\", \"6628\", \"6708\", \"6869\", \"696\", \"7001\", \"7015\", \"7066\", \"7126\", \"8154\", \"8239\", \"8565\", \"8740\", \"8983\", \"9042\", \"9249\", \"9468\", \"9544\", \"9790\", \"1267\", \"13463\", \"14073\", \"15121\", \"2361\", \"2425\", \"2838\", \"3616\", \"4281\", \"4451\", \"7499\", \"7678\", \"7764\", \"7810\", \"10255\", \"1032\", \"10352\", \"1133\", \"1577\", \"1582\", \"1851\", \"1875\", \"2028\", \"2674\", \"2985\", \"3411\", \"3501\", \"4320\", \"4641\", \"5487\", \"5642\", \"6406\", \"6407\", \"6576\", \"7549\", \"780\", \"7877\", \"799\", \"8017\", \"8225\", \"8268\", \"8691\", \"8887\", \"8967\", \"9013\", \"9442\", \"10263\", \"12972\", \"13253\", \"1376\", \"14577\", \"1734\", \"1900\", \"3023\", \"3034\", \"3582\", \"5264\", \"5553\", \"5863\", \"624\", \"7117\", \"7511\", \"7607\", \"7872\", \"7959\", \"8016\", \"8369\", \"8397\", \"9358\", \"9881\", \"14779\", \"1591\", \"2191\", \"2653\", \"3456\", \"5234\", \"6351\", \"6798\", \"7520\", \"7688\", \"9064\", \"10350\", \"13042\", \"1310\", \"2050\", \"2171\", \"2394\", \"2406\", \"2488\", \"3013\", \"3249\", \"3871\", \"3902\", \"4095\", \"4228\", \"4510\", \"5088\", \"6178\", \"6693\", \"7661\", \"8581\", \"1393\", \"14379\", \"1441\", \"1472\", \"2040\", \"2589\", \"2774\", \"2790\", \"3202\", \"3216\", \"4105\", \"443\", \"5430\", \"5439\", \"5574\", \"5655\", \"577\", \"5925\", \"7144\", \"7552\", \"7558\", \"8009\", \"8326\", \"8987\", \"9683\", \"10031\", \"10053\", \"1059\", \"1134\", \"1202\", \"1338\", \"13611\", \"15103\", \"1583\", \"1682\", \"1888\", \"1931\", \"2432\", \"3681\", \"4393\", \"4637\", \"4862\", \"5829\", \"5954\", \"6085\", \"7758\", \"8319\", \"8712\", \"8961\", \"9769\", \"14250\", \"14778\", \"14780\", \"2064\", \"2847\", \"4182\", \"5245\", \"5593\", \"7092\", \"7404\", \"7422\", \"8034\", \"1121\", \"1245\", \"1596\", \"1867\", \"2031\", \"2437\", \"2482\", \"2643\", \"2936\", \"3555\", \"3969\", \"4382\", \"4578\", \"4688\", \"4873\", \"4956\", \"4970\", \"6026\", \"6264\", \"6565\", \"7265\", \"7356\", \"7486\", \"8167\", \"910\", \"9161\", \"9330\", \"9470\", \"9823\", \"10092\", \"10134\", \"1029\", \"10360\", \"1044\", \"13690\", \"3918\", \"4334\", \"4560\", \"4726\", \"5607\", \"7043\", \"7177\", \"789\", \"7983\", \"869\", \"9589\", \"9707\", \"9997\", \"10303\", \"1037\", \"1264\", \"13013\", \"1452\", \"14965\", \"1613\", \"2476\", \"2634\", \"266\", \"2996\", \"4481\", \"4906\", \"5027\", \"5423\", \"6863\", \"7090\", \"7136\", \"7641\", \"7954\", \"8092\", \"8333\", \"8496\", \"8498\", \"8922\", \"9516\", \"10347\", \"13689\", \"2019\", \"2101\", \"2690\", \"3347\", \"3496\", \"3592\", \"3704\", \"3839\", \"4719\", \"4734\", \"4820\", \"4828\", \"510\", \"5454\", \"5691\", \"6271\", \"6358\", \"6742\", \"6860\", \"8789\", \"9360\", \"9638\", \"10224\", \"1602\", \"1886\", \"1925\", \"2232\", \"2262\", \"3018\", \"3897\", \"417\", \"4174\", \"4563\", \"5052\", \"5524\", \"6603\", \"6960\", \"7260\", \"7303\", \"735\", \"7593\", \"7904\", \"8038\", \"8192\", \"8473\", \"8721\", \"9359\", \"9926\", \"1005\", \"10069\", \"10163\", \"1180\", \"1265\", \"13250\", \"1433\", \"14627\", \"1526\", \"1775\", \"2159\", \"2183\", \"3049\", \"3058\", \"3085\", \"3168\", \"3174\", \"3294\", \"3382\", \"339\", \"3402\", \"3420\", \"3652\", \"3799\", \"3828\", \"3941\", \"3988\", \"4114\", \"4210\", \"4366\", \"4430\", \"4468\", \"4527\", \"4767\", \"4806\", \"4826\", \"4844\", \"4968\", \"5063\", \"5274\", \"5306\", \"5325\", \"5444\", \"5495\", \"5511\", \"5613\", \"5891\", \"6014\", \"6142\", \"6151\", \"6317\", \"6559\", \"6604\", \"6716\", \"6740\", \"6835\", \"6845\", \"6944\", \"7022\", \"7286\", \"7431\", \"7516\", \"7618\", \"781\", \"7871\", \"7919\", \"794\", \"8104\", \"8214\", \"8221\", \"8284\", \"8295\", \"8380\", \"8417\", \"8470\", \"8699\", \"8805\", \"8837\", \"8874\", \"9030\", \"9122\", \"9162\", \"9270\", \"9309\", \"9376\", \"979\", \"9808\", \"1130\", \"13861\", \"1594\", \"1728\", \"2772\", \"3515\", \"3747\", \"3958\", \"5310\", \"5930\", \"6858\", \"7049\", \"7140\", \"7534\", \"8906\", \"9000\", \"9194\", \"9498\", \"9538\", \"9887\", \"10227\", \"1274\", \"13070\", \"1411\", \"1625\", \"1914\", \"2142\", \"2709\", \"3033\", \"3529\", \"4260\", \"4284\", \"4587\", \"4674\", \"4915\", \"5006\", \"5575\", \"5886\", \"6449\", \"6548\", \"6702\", \"687\", \"7319\", \"7350\", \"7353\", \"7481\", \"8189\", \"9179\", \"9181\", \"9188\", \"9411\", \"9822\", \"10052\", \"10146\", \"10412\", \"13133\", \"13965\", \"1766\", \"1779\", \"1799\", \"2070\", \"2285\", \"2399\", \"3464\", \"3594\", \"3739\", \"4326\", \"456\", \"5153\", \"5185\", \"5395\", \"5629\", \"5643\", \"5729\", \"5857\", \"747\", \"7658\", \"8012\", \"939\", \"973\", \"9880\", \"14359\", \"14638\", \"1658\", \"2524\", \"3336\", \"3427\", \"4188\", \"4328\", \"4769\", \"527\", \"5406\", \"5702\", \"5748\", \"6909\", \"6914\", \"742\", \"8267\", \"8549\", \"9367\", \"9875\", \"1022\", \"13865\", \"14144\", \"2154\", \"2298\", \"2428\", \"2590\", \"2592\", \"316\", \"3176\", \"3383\", \"3451\", \"3721\", \"4359\", \"4367\", \"4383\", \"457\", \"4679\", \"4821\", \"5533\", \"6066\", \"6225\", \"6333\", \"6409\", \"6624\", \"6973\", \"703\", \"7308\", \"7544\", \"771\", \"7770\", \"7777\", \"7866\", \"8385\", \"8713\", \"9151\", \"9159\", \"9778\", \"9829\", \"10168\", \"1322\", \"1343\", \"1477\", \"15003\", \"15412\", \"1661\", \"1760\", \"2268\", \"2336\", \"2349\", \"2557\", \"2968\", \"3724\", \"3734\", \"3858\", \"5069\", \"5096\", \"5258\", \"5582\", \"5753\", \"5861\", \"5910\", \"6427\", \"6886\", \"6963\", \"7462\", \"7896\", \"8178\", \"8524\", \"8627\", \"8803\", \"2824\", \"2949\", \"314\", \"3726\", \"3832\", \"3912\", \"4002\", \"4922\", \"5546\", \"5894\", \"6725\", \"7367\", \"8822\", \"1218\", \"14954\", \"1507\", \"15394\", \"2169\", \"2419\", \"2591\", \"2685\", \"2896\", \"3418\", \"3714\", \"4483\", \"4677\", \"5285\", \"5366\", \"5434\", \"5512\", \"5543\", \"591\", \"5920\", \"6069\", \"6292\", \"6300\", \"6743\", \"7122\", \"7223\", \"7256\", \"7447\", \"7745\", \"8266\", \"8337\", \"9415\", \"9543\", \"9706\", \"10061\", \"10135\", \"10253\", \"15390\", \"1894\", \"2046\", \"2297\", \"5226\", \"6440\", \"7666\", \"9385\", \"9753\", \"10267\", \"10349\", \"10370\", \"1347\", \"1427\", \"1644\", \"2049\", \"2386\", \"2395\", \"2478\", \"2710\", \"2882\", \"3006\", \"3265\", \"3325\", \"3380\", \"3513\", \"3708\", \"4256\", \"4259\", \"4348\", \"5267\", \"6036\", \"6159\", \"6753\", \"7079\", \"7119\", \"7202\", \"770\", \"8321\", \"8506\", \"880\", \"9010\", \"9017\", \"909\", \"9422\", \"9743\", \"9918\", \"10453\", \"1055\", \"13538\", \"13539\", \"1434\", \"15189\", \"15193\", \"3247\", \"3791\", \"413\", \"4776\", \"6346\", \"6504\", \"7010\", \"7747\", \"8393\", \"9800\", \"9901\", \"9960\", \"10050\", \"10369\", \"1161\", \"13548\", \"14949\", \"15266\", \"2340\", \"2564\", \"2664\", \"2665\", \"2719\", \"2830\", \"2950\", \"2983\", \"3655\", \"3911\", \"4406\", \"6084\", \"6539\", \"6811\", \"718\", \"7597\", \"8089\", \"8474\", \"8807\", \"1391\", \"1421\", \"14291\", \"1491\", \"1776\", \"299\", \"3119\", \"3151\", \"3514\", \"3590\", \"4192\", \"4239\", \"4331\", \"4591\", \"4838\", \"5321\", \"6204\", \"6379\", \"6447\", \"6943\", \"7096\", \"7184\", \"8361\", \"8436\", \"8693\", \"8826\", \"8881\", \"8995\", \"9123\", \"9305\", \"10449\", \"1165\", \"1257\", \"1402\", \"1404\", \"14143\", \"1667\", \"1735\", \"1746\", \"2276\", \"2312\", \"2924\", \"2984\", \"3035\", \"3137\", \"3654\", \"4092\", \"4231\", \"4471\", \"4539\", \"4901\", \"5717\", \"6217\", \"6338\", \"6544\", \"7224\", \"7345\", \"7572\", \"7821\", \"8166\", \"833\", \"8414\", \"8419\", \"9068\", \"9103\", \"9645\", \"9842\", \"9971\", \"9999\", \"1420\", \"2178\", \"2370\", \"2381\", \"3245\", \"4894\", \"5195\", \"7362\", \"7928\", \"7947\", \"8095\", \"9077\", \"9180\", \"14760\", \"1552\", \"2759\", \"3284\", \"4315\", \"4363\", \"4409\", \"4505\", \"4619\", \"5427\", \"5725\", \"8052\", \"8072\", \"8301\", \"8461\", \"9352\", \"9966\", \"1087\", \"13451\", \"14759\", \"1521\", \"15396\", \"1708\", \"1830\", \"2330\", \"2418\", \"2504\", \"3113\", \"4261\", \"4480\", \"4603\", \"4874\", \"4899\", \"4937\", \"5178\", \"5492\", \"5727\", \"5787\", \"5814\", \"6103\", \"6181\", \"6223\", \"6235\", \"6423\", \"6500\", \"7418\", \"7423\", \"7442\", \"8075\", \"9569\", \"9596\", \"967\", \"9678\", \"9877\", \"1328\", \"1506\", \"1814\", \"2503\", \"2773\", \"2776\", \"3045\", \"3086\", \"4944\", \"5641\", \"5656\", \"6155\", \"6182\", \"6353\", \"6410\", \"6418\", \"6643\", \"6891\", \"6908\", \"7214\", \"7826\", \"7846\", \"9028\", \"9421\", \"9726\", \"9846\", \"9862\", \"10186\", \"10436\", \"1455\", \"1478\", \"1907\", \"1952\", \"2167\", \"2355\", \"2578\", \"2861\", \"3270\", \"3372\", \"3995\", \"4045\", \"4173\", \"4297\", \"4407\", \"4486\", \"4605\", \"4624\", \"4920\", \"5128\", \"5163\", \"5170\", \"5175\", \"5266\", \"5367\", \"5378\", \"5541\", \"5657\", \"6169\", \"6301\", \"6345\", \"6388\", \"6408\", \"6507\", \"6620\", \"6711\", \"745\", \"763\", \"7781\", \"7878\", \"8298\", \"8566\", \"8695\", \"9517\", \"9860\", \"1004\", \"10094\", \"10180\", \"1355\", \"2023\", \"2354\", \"2363\", \"2366\", \"2367\", \"2393\", \"2814\", \"2818\", \"3570\", \"3947\", \"3992\", \"5403\", \"6023\", \"6126\", \"6366\", \"6670\", \"6788\", \"6905\", \"7495\", \"7888\", \"8046\", \"9147\", \"9368\", \"9580\", \"10206\", \"10321\", \"1237\", \"13888\", \"14643\", \"1604\", \"1813\", \"1858\", \"1905\", \"2190\", \"2267\", \"2514\", \"2671\", \"2967\", \"3051\", \"3500\", \"4137\", \"4376\", \"4454\", \"5565\", \"5618\", \"5801\", \"5941\", \"6633\", \"6928\", \"7329\", \"7432\", \"7702\", \"7865\", \"9507\", \"9549\", \"9620\", \"9690\", \"9750\", \"10039\", \"15429\", \"3358\", \"4262\", \"8306\", \"8653\", \"8776\", \"9864\", \"10153\", \"10273\", \"10309\", \"14644\", \"15392\", \"2003\", \"2118\", \"2160\", \"2177\", \"2218\", \"2263\", \"2318\", \"2412\", \"2642\", \"2647\", \"2946\", \"3203\", \"3557\", \"3829\", \"4489\", \"5587\", \"5715\", \"5969\", \"5991\", \"6011\", \"6201\", \"6222\", \"6293\", \"6497\", \"6610\", \"6690\", \"6986\", \"7339\", \"7649\", \"7859\", \"8357\", \"8429\", \"8525\", \"8773\", \"9268\", \"9371\", \"9405\", \"10214\", \"10240\", \"1047\", \"1467\", \"15395\", \"1836\", \"2498\", \"2880\", \"3927\", \"3981\", \"4206\", \"4434\", \"4639\", \"6176\", \"6599\", \"6612\", \"7147\", \"805\", \"8191\", \"8588\", \"8848\", \"8913\", \"9392\", \"9942\", \"10023\", \"1156\", \"1157\", \"13864\", \"14109\", \"4488\", \"4493\", \"4631\", \"4695\", \"4818\", \"5837\", \"6078\", \"7502\", \"7744\", \"7827\", \"8899\", \"9586\", \"9597\", \"977\", \"1379\", \"1906\", \"2260\", \"7016\", \"9929\", \"1011\", \"13666\", \"14649\", \"14693\", \"15393\", \"2659\", \"2891\", \"2893\", \"2914\", \"3397\", \"3824\", \"3857\", \"523\", \"5358\", \"7116\", \"7923\", \"8039\", \"8786\", \"9487\", \"9931\", \"10056\", \"10372\", \"1050\", \"1652\", \"1943\", \"2244\", \"2611\", \"2797\", \"3574\", \"3743\", \"3846\", \"4279\", \"4757\", \"4817\", \"4998\", \"6481\", \"6622\", \"6733\", \"7519\", \"7855\", \"9812\", \"9855\", \"9989\", \"1041\", \"13693\", \"14687\", \"1896\", \"2313\", \"297\", \"3090\", \"4555\", \"8139\", \"8218\", \"9588\", \"9907\", \"10024\", \"10151\", \"1304\", \"1397\", \"1624\", \"2174\", \"2762\", \"3160\", \"3494\", \"3915\", \"4789\", \"5316\", \"5697\", \"6354\", \"8162\", \"9473\", \"9793\", \"10391\", \"1253\", \"12864\", \"12926\", \"13061\", \"13661\", \"13938\", \"1681\", \"2090\", \"2645\", \"2740\", \"2779\", \"2860\", \"3290\", \"3565\", \"3613\", \"3794\", \"3963\", \"4153\", \"4531\", \"485\", \"4930\", \"5152\", \"5172\", \"5219\", \"5742\", \"6025\", \"6403\", \"6584\", \"6769\", \"6862\", \"6971\", \"7993\", \"8163\", \"8481\", \"9719\", \"9725\", \"9882\", \"9954\", \"13858\", \"2199\", \"3737\", \"3837\", \"4997\", \"5035\", \"7889\", \"12871\", \"12872\", \"12873\", \"15391\", \"7535\", \"8621\", \"942\", \"10357\", \"10413\", \"1215\", \"13155\", \"14140\", \"1720\", \"1740\", \"1868\", \"2078\", \"2364\", \"2646\", \"2821\", \"298\", \"5545\", \"5560\", \"5773\", \"5781\", \"5854\", \"6028\", \"6086\", \"6636\", \"754\", \"7916\", \"8030\", \"8049\", \"8451\", \"8683\", \"8715\", \"8812\", \"8907\", \"9114\", \"9333\", \"9922\", \"1249\", \"1286\", \"1699\", \"2922\", \"2988\", \"3074\", \"3619\", \"3894\", \"4518\", \"7011\", \"7414\", \"8540\", \"9766\", \"13307\", \"1748\", \"10203\", \"13793\", \"14151\", \"1722\", \"3136\", \"3419\", \"3639\", \"3964\", \"416\", \"4375\", \"4433\", \"4462\", \"4704\", \"4717\", \"4800\", \"6294\", \"6958\", \"7629\", \"7746\", \"8757\", \"9461\", \"9599\", \"13644\", \"13663\", \"14575\", \"10015\", \"10077\", \"10160\", \"10260\", \"10422\", \"1088\", \"12883\", \"12916\", \"13726\", \"1515\", \"1702\", \"1948\", \"2413\", \"2539\", \"2547\", \"2781\", \"2995\", \"3198\", \"3379\", \"3504\", \"3781\", \"3940\", \"4072\", \"4090\", \"4274\", \"4399\", \"4645\", \"4671\", \"4783\", \"4787\", \"4954\", \"5060\", \"5291\", \"5329\", \"5505\", \"5517\", \"5536\", \"5561\", \"6008\", \"6162\", \"6200\", \"6237\", \"6238\", \"6368\", \"6380\", \"6430\", \"6537\", \"6560\", \"6663\", \"6804\", \"7249\", \"7376\", \"7416\", \"7437\", \"7986\", \"8118\", \"8180\", \"8231\", \"8647\", \"8738\", \"8824\", \"9519\", \"9585\", \"9594\", \"964\", \"9973\", \"10012\", \"10230\", \"1331\", \"1400\", \"14951\", \"2077\", \"2145\", \"2472\", \"2680\", \"2764\", \"3009\", \"3146\", \"3729\", \"4424\", \"4620\", \"5844\", \"5989\", \"6321\", \"6841\", \"6888\", \"6972\", \"7165\", \"7419\", \"8156\", \"9462\", \"9806\", \"9859\", \"12895\", \"12905\", \"2114\", \"2583\", \"2874\", \"3763\", \"4494\", \"4570\", \"5567\", \"5645\", \"5747\", \"5828\", \"5947\", \"6580\", \"6637\", \"7382\", \"7459\", \"7819\", \"8710\", \"8839\", \"949\", \"9615\", \"1326\", \"6563\", \"7233\", \"13068\", \"14289\", \"3431\", \"7668\", \"10144\", \"10196\", \"10392\", \"1309\", \"1371\", \"1382\", \"1703\", \"1731\", \"1823\", \"2422\", \"2697\", \"2998\", \"3916\", \"4304\", \"4597\", \"4900\", \"5008\", \"5386\", \"6425\", \"6767\", \"6999\", \"7247\", \"7408\", \"7510\", \"8186\", \"8472\", \"8603\", \"8650\", \"892\", \"8982\", \"9069\", \"9173\", \"9348\", \"9950\", \"9955\", \"10018\", \"10045\", \"10170\", \"10212\", \"1363\", \"1608\", \"1999\", \"2188\", \"2223\", \"2486\", \"2570\", \"2732\", \"3629\", \"3785\", \"3878\", \"4220\", \"432\", \"4398\", \"4412\", \"4632\", \"4945\", \"5240\", \"5409\", \"5698\", \"6524\", \"6573\", \"6821\", \"6889\", \"6919\", \"6927\", \"7055\", \"7469\", \"7643\", \"7680\", \"8055\", \"8176\", \"9643\", \"9735\", \"3801\", \"5402\", \"5490\", \"5945\", \"9836\", \"1392\", \"3422\", \"990\", \"10254\", \"10324\", \"10482\", \"1414\", \"14969\", \"1964\", \"2993\", \"3259\", \"3642\", \"4084\", \"4199\", \"4532\", \"4709\", \"5125\", \"5684\", \"599\", \"6192\", \"6211\", \"6768\", \"7652\", \"8140\", \"8246\", \"9186\", \"985\", \"1650\", \"1778\", \"3715\", \"404\", \"4112\", \"5167\", \"5419\", \"5518\", \"6744\", \"6809\", \"8455\", \"9555\", \"966\", \"10361\", \"2147\", \"2168\", \"2757\", \"2971\", \"3855\", \"5816\", \"5820\", \"9943\", \"2122\", \"2523\", \"5124\", \"8972\", \"9928\", \"13895\", \"1949\", \"6012\", \"6067\", \"6172\", \"6436\", \"6581\", \"13111\", \"13493\", \"3620\", \"7283\", \"10334\", \"10406\", \"1230\", \"1333\", \"1673\", \"1725\", \"2009\", \"2060\", \"2348\", \"2549\", \"2566\", \"2654\", \"2902\", \"3314\", \"3607\", \"3884\", \"3959\", \"409\", \"4109\", \"4172\", \"430\", \"5022\", \"5151\", \"534\", \"5443\", \"5762\", \"5774\", \"5999\", \"610\", \"6105\", \"6269\", \"647\", \"7310\", \"7427\", \"7879\", \"8078\", \"8175\", \"8293\", \"8871\", \"8900\", \"9106\", \"9189\", \"932\", \"951\", \"9745\", \"1651\", \"1847\", \"2943\", \"4193\", \"5054\", \"5602\", \"6369\", \"6913\", \"7097\", \"7902\", \"9603\", \"12870\", \"14323\", \"1438\", \"1815\", \"2443\", \"2507\", \"2561\", \"2839\", \"3966\", \"4101\", \"4593\", \"4660\", \"5608\", \"6355\", \"6775\", \"6911\", \"7307\", \"7545\", \"9206\", \"9401\", \"9641\", \"9676\", \"969\", \"9925\", \"10027\", \"10204\", \"1206\", \"1829\", \"2512\", \"2750\", \"2846\", \"2853\", \"2992\", \"3017\", \"3038\", \"3841\", \"4205\", \"4737\", \"4824\", \"4958\", \"5098\", \"5852\", \"5908\", \"6102\", \"6272\", \"690\", \"6967\", \"7333\", \"7430\", \"793\", \"8814\", \"928\", \"9632\", \"988\", \"9894\", \"1036\", \"13657\", \"14085\", \"2266\", \"8810\", \"3671\", \"4253\", \"5769\", \"7387\", \"8174\", \"8792\", \"890\", \"9292\", \"947\", \"2752\", \"4163\", \"5417\", \"6041\", \"7546\", \"15099\", \"15409\", \"2829\", \"5713\", \"6348\", \"7232\", \"7648\", \"8458\", \"9465\", \"12911\", \"12980\", \"5491\", \"13149\", \"8548\", \"1006\", \"10072\", \"15010\", \"15021\", \"15448\", \"1738\", \"1892\", \"3453\", \"3509\", \"4224\", \"4816\", \"5647\", \"6187\", \"6450\", \"6519\", \"6602\", \"6935\", \"7195\", \"7371\", \"7750\", \"8168\", \"8297\", \"8605\", \"8836\", \"9007\", \"9092\", \"9304\", \"9439\", \"14817\", \"6091\", \"8316\", \"10368\", \"15009\", \"15267\", \"1539\", \"1993\", \"2637\", \"3084\", \"3865\", \"4209\", \"4609\", \"4761\", \"4986\", \"5849\", \"6296\", \"6558\", \"6635\", \"6875\", \"7930\", \"8220\", \"8492\", \"8556\", \"8604\", \"8622\", \"9237\", \"13180\", \"2825\", \"3623\", \"3821\", \"4240\", \"4712\", \"5401\", \"6778\", \"7244\", \"8133\", \"9609\", \"14403\", \"15375\", \"1540\", \"1773\", \"3693\", \"5503\", \"5597\", \"6060\", \"6961\", \"6984\", \"8629\", \"956\", \"15153\", \"2694\", \"3224\", \"3586\", \"5360\", \"7103\", \"7374\", \"9150\", \"940\", \"9601\", \"9709\", \"13313\", \"14973\", \"3091\", \"10101\", \"10275\", \"10382\", \"10416\", \"1102\", \"3772\", \"4208\", \"4380\", \"5118\", \"5202\", \"5716\", \"5971\", \"7145\", \"7373\", \"8087\", \"8749\", \"9281\", \"1008\", \"10435\", \"1280\", \"13208\", \"1643\", \"1654\", \"1764\", \"2311\", \"3295\", \"4038\", \"406\", \"5242\", \"5871\", \"6864\", \"7153\", \"7489\", \"7783\", \"8197\", \"8709\", \"875\", \"8845\", \"9285\", \"9366\", \"9412\", \"9577\", \"9837\", \"995\", \"10002\", \"1141\", \"1144\", \"13610\", \"14203\", \"1448\", \"15371\", \"1627\", \"2632\", \"2837\", \"4418\", \"4752\", \"5120\", \"5265\", \"5323\", \"6789\", \"7450\", \"8639\", \"8671\", \"8736\", \"9091\", \"9679\", \"9940\", \"12948\", \"1585\", \"3210\", \"3890\", \"4651\", \"5355\", \"10074\", \"10078\", \"1038\", \"1314\", \"1378\", \"3493\", \"3593\", \"3717\", \"3825\", \"4251\", \"5101\", \"5425\", \"5690\", \"6479\", \"6933\", \"708\", \"7354\", \"748\", \"7707\", \"8122\", \"8143\", \"8889\", \"9166\", \"9217\", \"9402\", \"968\", \"9984\", \"1140\", \"14182\", \"1791\", \"1848\", \"2052\", \"2080\", \"2402\", \"4229\", \"4569\", \"7977\", \"1042\", \"3232\", \"4213\", \"4499\", \"642\", \"8624\", \"1352\", \"1469\", \"1575\", \"2377\", \"2636\", \"2806\", \"2956\", \"4028\", \"5192\", \"6434\", \"6484\", \"8300\", \"8537\", \"9486\", \"10119\", \"10179\", \"10228\", \"1360\", \"2108\", \"3935\", \"4037\", \"4911\", \"496\", \"7411\", \"7710\", \"7816\", \"8101\", \"8468\", \"8651\", \"9208\", \"9535\", \"9663\", \"9861\", \"10414\", \"2494\", \"3985\", \"426\", \"4600\", \"738\", \"8112\", \"8519\", \"10359\", \"3015\", \"3349\", \"4330\", \"5695\", \"7631\", \"9801\", \"14091\", \"14092\", \"14093\", \"14094\", \"14095\", \"14104\", \"14105\", \"14106\", \"14107\", \"9731\", \"10032\", \"10356\", \"1098\", \"12960\", \"12961\", \"14069\", \"1846\", \"2456\", \"3156\", \"3440\", \"3584\", \"3705\", \"390\", \"4408\", \"4446\", \"4589\", \"4700\", \"4735\", \"5053\", \"5138\", \"5483\", \"5721\", \"5917\", \"6104\", \"6202\", \"6514\", \"6989\", \"7163\", \"7182\", \"7586\", \"7606\", \"7958\", \"8487\", \"15240\", \"4927\", \"7786\", \"9749\", \"9754\", \"1030\", \"1103\", \"13491\", \"10221\", \"10242\", \"15152\", \"1623\", \"1684\", \"2403\", \"2562\", \"3032\", \"4559\", \"4615\", \"5155\", \"5295\", \"6595\", \"6677\", \"7203\", \"8109\", \"8733\", \"9012\", \"9251\", \"7084\", \"14084\", \"15155\", \"4333\", \"7651\", \"15015\", \"1553\", \"3161\", \"5591\", \"5788\", \"693\", \"10021\", \"1332\", \"14371\", \"14402\", \"1451\", \"14639\", \"1797\", \"1965\", \"2039\", \"2157\", \"2505\", \"2554\", \"2686\", \"3320\", \"3423\", \"3638\", \"4013\", \"405\", \"4258\", \"5189\", \"5388\", \"6470\", \"6780\", \"6950\", \"7236\", \"7304\", \"7475\", \"7600\", \"7623\", \"7880\", \"8325\", \"8375\", \"8433\", \"9146\", \"9610\", \"1998\", \"379\", \"1058\", \"1178\", \"1457\", \"2580\", \"3043\", \"6685\", \"7297\", \"9350\", \"10295\", \"13112\", \"14150\", \"14818\", \"1517\", \"3005\", \"3311\", \"3369\", \"3975\", \"5169\", \"6803\", \"10107\", \"10234\", \"1131\", \"1251\", \"1287\", \"1498\", \"15270\", \"1756\", \"1835\", \"2767\", \"2803\", \"2941\", \"3173\", \"331\", \"3439\", \"3755\", \"3984\", \"4036\", \"4265\", \"4567\", \"4652\", \"4741\", \"4803\", \"5137\", \"5204\", \"5333\", \"5362\", \"5976\", \"6006\", \"6262\", \"6411\", \"6666\", \"6700\", \"6861\", \"7470\", \"7789\", \"8037\", \"8060\", \"8828\", \"9475\", \"9802\", \"15415\", \"10239\", \"15194\", \"15203\", \"15204\", \"15205\", \"15206\", \"15207\", \"15357\", \"1866\", \"2043\", \"2116\", \"3257\", \"3691\", \"4883\", \"6035\", \"6074\", \"6509\", \"7040\", \"7087\", \"7291\", \"7515\", \"7800\", \"8272\", \"8872\", \"9241\", \"9259\", \"9571\", \"2895\", \"3046\", \"3881\", \"4511\", \"5207\", \"7507\", \"9740\", \"14733\", \"3239\", \"3483\", \"3919\", \"4784\", \"4864\", \"5559\", \"782\", \"8232\", \"8929\", \"8965\", \"986\", \"395\", \"467\", \"7076\", \"14135\", \"14138\", \"6291\", \"7521\", \"14205\", \"6855\", \"12862\", \"13314\", \"344\", \"13889\", \"14784\", \"15430\", \"369\", \"540\", \"5720\", \"583\", \"585\", \"586\", \"589\", \"6571\", \"13502\", \"12958\", \"13275\", \"13398\", \"13804\", \"14330\", \"8182\", \"12995\", \"14210\", \"3784\", \"4252\", \"7337\", \"13496\", \"13572\", \"14785\", \"1488\", \"366\", \"4215\", \"4714\", \"5134\", \"584\", \"587\", \"588\", \"10152\", \"2208\", \"2277\", \"2620\", \"3061\", \"3921\", \"4006\", \"4547\", \"4608\", \"4852\", \"4988\", \"533\", \"6128\", \"6424\", \"6630\", \"7225\", \"7272\", \"7332\", \"7401\", \"7402\", \"8053\", \"856\", \"8577\", \"9253\", \"9410\", \"9466\", \"10062\", \"10079\", \"10284\", \"1182\", \"13104\", \"13569\", \"13656\", \"2110\", \"295\", \"5477\", \"6503\", \"6642\", \"6871\", \"7395\", \"7657\", \"8061\", \"9131\", \"9629\", \"13533\", \"396\", \"5528\", \"2938\", \"3235\", \"5056\", \"15177\", \"557\", \"872\", \"13015\", \"12989\", \"15452\", \"9339\", \"10108\", \"12986\", \"14378\", \"2531\", \"3735\", \"4666\", \"7699\", \"9650\", \"13144\", \"13238\", \"1348\", \"2532\", \"5514\", \"7064\", \"9299\", \"9814\", \"13872\", \"3002\", \"3697\", \"4386\", \"6553\", \"7704\", \"1229\", \"1533\", \"1741\", \"2930\", \"4232\", \"4653\", \"6384\", \"8974\", \"10030\", \"4148\", \"13106\", \"13727\", \"15108\", \"3452\", \"365\", \"3848\", \"4091\", \"4347\", \"5461\", \"7900\", \"8687\", \"13011\", \"262\", \"891\", \"13165\", \"13796\", \"15022\", \"3019\", \"3167\", \"4022\", \"6219\", \"8678\", \"13439\", \"346\", \"896\", \"13090\", \"14677\", \"3492\", \"3842\", \"511\", \"10427\", \"13876\", \"3748\", \"7924\", \"13213\", \"13857\", \"1099\", \"857\", \"978\", \"13018\", \"335\", \"15256\", \"10114\", \"1148\", \"13801\", \"2445\", \"514\", \"691\", \"13924\", \"15297\", \"13373\", \"13602\", \"13732\", \"14629\", \"15213\", \"13140\", \"2099\", \"10089\", \"13081\", \"13632\", \"13699\", \"13822\", \"1439\", \"7380\", \"8497\", \"14641\", \"6329\", \"6606\", \"13099\", \"13375\", \"5825\", \"13164\", \"1424\", \"362\", \"377\", \"378\", \"858\", \"13384\", \"13860\", \"1757\", \"2794\", \"4311\", \"6452\", \"7719\", \"14139\", \"3502\", \"13665\", \"13877\", \"1407\", \"14136\", \"14137\", \"1450\", \"267\", \"268\", \"3162\", \"3339\", \"4003\", \"4113\", \"4288\", \"4372\", \"5109\", \"5259\", \"606\", \"6115\", \"699\", \"7860\", \"8194\", \"8958\", \"1035\", \"13464\", \"1430\", \"15361\", \"269\", \"2820\", \"375\", \"376\", \"5197\", \"5963\", \"6751\", \"7019\", \"7849\", \"9116\", \"9542\", \"9687\", \"10014\", \"13289\", \"13594\", \"13607\", \"15050\", \"15051\", \"15276\", \"1910\", \"4029\", \"4269\", \"5953\", \"7504\", \"10003\", \"1020\", \"13460\", \"13640\", \"15298\", \"15299\", \"15300\", \"15301\", \"15302\", \"15303\", \"15358\", \"15380\", \"2731\", \"2833\", \"2840\", \"3394\", \"348\", \"3551\", \"4702\", \"4939\", \"5039\", \"5312\", \"5404\", \"6615\", \"6815\", \"716\", \"7372\", \"7568\", \"7585\", \"8074\", \"8483\", \"8905\", \"9434\", \"9675\", \"974\", \"13278\", \"15254\", \"15305\", \"15306\", \"15307\", \"15308\", \"15309\", \"15310\", \"15447\", \"1670\", \"1911\", \"2124\", \"2999\", \"3895\", \"4733\", \"5038\", \"5374\", \"576\", \"628\", \"6465\", \"664\", \"8023\", \"8669\", \"9551\", \"1564\", \"6322\", \"8643\", \"13143\", \"2915\", \"3416\", \"3526\", \"4125\", \"5144\", \"565\", \"5670\", \"7383\", \"7465\", \"802\", \"8494\", \"1437\", \"15257\", \"15258\", \"322\", \"411\", \"4460\", \"10006\", \"10104\", \"1078\", \"13154\", \"13212\", \"1374\", \"14363\", \"1541\", \"1717\", \"1798\", \"1913\", \"1921\", \"2212\", \"3030\", \"3640\", \"3849\", \"4842\", \"4981\", \"5106\", \"5261\", \"5281\", \"5437\", \"5644\", \"5896\", \"622\", \"6653\", \"6776\", \"7094\", \"7814\", \"8024\", \"8144\", \"8234\", \"8254\", \"839\", \"8760\", \"8921\", \"9025\", \"9284\", \"9438\", \"12921\", \"12959\", \"13025\", \"13554\", \"13851\", \"15218\", \"15229\", \"1887\", \"481\", \"10289\", \"10395\", \"10411\", \"1081\", \"1152\", \"1228\", \"1285\", \"1313\", \"13687\", \"13934\", \"1675\", \"2202\", \"2378\", \"2741\", \"2969\", \"3028\", \"3102\", \"4291\", \"4397\", \"515\", \"5759\", \"6337\", \"6454\", \"6589\", \"7170\", \"7248\", \"7250\", \"734\", \"7468\", \"7779\", \"7825\", \"8265\", \"8395\", \"8443\", \"8459\", \"8617\", \"8666\", \"870\", \"9018\", \"9868\", \"14979\", \"274\", \"334\", \"345\", \"656\", \"7455\", \"919\", \"13031\", \"270\", \"273\", \"6739\", \"7496\", \"918\", \"13959\", \"14700\", \"15431\", \"364\", \"5526\", \"612\", \"655\", \"7513\", \"874\", \"10068\", \"15033\", \"1827\", \"2483\", \"3595\", \"4069\", \"4204\", \"4773\", \"5446\", \"5551\", \"607\", \"6527\", \"6931\", \"717\", \"7369\", \"7610\", \"8685\", \"9500\", \"9634\", \"10459\", \"10460\", \"10470\", \"12937\", \"13794\", \"13960\", \"14125\", \"14650\", \"15043\", \"15044\", \"15045\", \"15046\", \"15237\", \"1535\", \"1838\", \"2074\", \"2398\", \"2879\", \"336\", \"3441\", \"4455\", \"4502\", \"4987\", \"5780\", \"5796\", \"681\", \"686\", \"697\", \"6983\", \"7212\", \"757\", \"819\", \"820\", \"8771\", \"8878\", \"9826\", \"13494\", \"13508\", \"13565\", \"15253\", \"15255\", \"15377\", \"3435\", \"13985\", \"13999\", \"14967\", \"2701\", \"4201\", \"4338\", \"4503\", \"4739\", \"5232\", \"5998\", \"9118\", \"9469\", \"9990\", \"10130\", \"10238\", \"10327\", \"10462\", \"10463\", \"10472\", \"10478\", \"1173\", \"12944\", \"13101\", \"13179\", \"13240\", \"13359\", \"13645\", \"14061\", \"14126\", \"15268\", \"1915\", \"2123\", \"2872\", \"296\", \"4390\", \"4549\", \"4729\", \"4935\", \"5377\", \"5868\", \"6135\", \"6136\", \"6286\", \"6316\", \"6328\", \"6770\", \"7440\", \"7456\", \"814\", \"817\", \"8236\", \"848\", \"849\", \"8680\", \"9063\", \"9416\", \"960\", \"9621\", \"9996\", \"1325\", \"14364\", \"15364\", \"1576\", \"1669\", \"1784\", \"2835\", \"3407\", \"3448\", \"3498\", \"3746\", \"4501\", \"5018\", \"5227\", \"5361\", \"5687\", \"5701\", \"5710\", \"6063\", \"6462\", \"6722\", \"7358\", \"8134\", \"8608\", \"9252\", \"9258\", \"9426\", \"1271\", \"14974\", \"15398\", \"2687\", \"2852\", \"5149\", \"5315\", \"5328\", \"5958\", \"6116\", \"7336\", \"7397\", \"7728\", \"838\", \"952\", \"10394\", \"1135\", \"1191\", \"1211\", \"1226\", \"1235\", \"1330\", \"1918\", \"2056\", \"2484\", \"2755\", \"3215\", \"3591\", \"3877\", \"4132\", \"4246\", \"4701\", \"5336\", \"5648\", \"618\", \"7056\", \"7073\", \"7133\", \"7152\", \"8545\", \"8625\", \"9199\", \"9223\", \"9451\", \"9472\", \"9518\", \"9992\", \"10276\", \"1120\", \"1298\", \"13097\", \"13355\", \"13608\", \"14574\", \"1631\", \"1831\", \"2258\", \"2551\", \"3143\", \"4159\", \"4401\", \"4732\", \"5130\", \"5349\", \"5520\", \"5838\", \"6154\", \"6734\", \"6750\", \"680\", \"7112\", \"7181\", \"7451\", \"7697\", \"7862\", \"7881\", \"8126\", \"8920\", \"8993\", \"9578\", \"9635\", \"9927\", \"9944\", \"13110\", \"13795\", \"10155\", \"10171\", \"1431\", \"14366\", \"14791\", \"14792\", \"14793\", \"14794\", \"14795\", \"14796\", \"2528\", \"2571\", \"2807\", \"3276\", \"5021\", \"5287\", \"6747\", \"8169\", \"8667\", \"9395\", \"9529\", \"1043\", \"12863\", \"12865\", \"12866\", \"12867\", \"12868\", \"12869\", \"12879\", \"12889\", \"12900\", \"12901\", \"12903\", \"12904\", \"12907\", \"12910\", \"12915\", \"12922\", \"12923\", \"12924\", \"12927\", \"12929\", \"12930\", \"12931\", \"13062\", \"1368\", \"14365\", \"15225\", \"15226\", \"15227\", \"15228\", \"15232\", \"15233\", \"15234\", \"15235\", \"15252\", \"15454\", \"1572\", \"2030\", \"2625\", \"3116\", \"3470\", \"3745\", \"4053\", \"6467\", \"6657\", \"7399\", \"7599\", \"7670\", \"7979\", \"8371\", \"8587\", \"871\", \"9044\", \"9053\", \"13170\", \"13706\", \"13926\", \"14169\", \"4472\", \"8979\", \"13217\", \"13480\", \"13590\", \"1695\", \"2022\", \"2376\", \"3845\", \"4073\", \"5158\", \"5290\", \"5397\", \"6038\", \"605\", \"6477\", \"6597\", \"7052\", \"739\", \"7955\", \"9565\", \"13160\", \"15397\", \"10326\", \"2927\", \"309\", \"495\", \"5073\", \"558\", \"6207\", \"6284\", \"6308\", \"6819\", \"7503\", \"7730\", \"8729\", \"8777\", \"9484\", \"9531\", \"9667\", \"12938\", \"12940\", \"13567\", \"14344\", \"14348\", \"14350\", \"14352\", \"14633\", \"3459\", \"412\", \"13054\", \"13982\", \"14074\", \"14075\", \"14076\", \"14081\", \"14082\", \"14083\", \"14108\", \"14692\", \"1501\", \"1674\", \"2269\", \"2475\", \"2907\", \"4659\", \"7428\", \"7780\", \"8432\", \"9425\", \"14077\", \"14078\", \"14079\", \"14080\", \"14980\", \"14302\", \"14341\", \"14343\", \"14346\", \"14347\", \"14349\", \"14934\", \"14975\", \"15243\", \"380\", \"382\", \"5639\", \"862\", \"863\", \"864\", \"865\", \"866\", \"13254\", \"13333\", \"13630\", \"1544\", \"15453\", \"275\", \"5478\", \"8308\", \"9788\", \"13192\", \"13256\", \"13385\", \"13760\", \"15144\", \"513\", \"12982\", \"827\", \"13593\", \"13714\", \"14685\", \"14696\", \"501\", \"503\", \"506\", \"507\", \"592\", \"594\", \"6277\", \"6647\", \"671\", \"673\", \"677\", \"678\", \"9394\", \"12858\", \"13045\", \"13553\", \"14345\", \"14683\", \"14684\", \"14730\", \"504\", \"593\", \"670\", \"672\", \"675\", \"676\", \"679\", \"7873\", \"13257\", \"13269\", \"13517\", \"13557\", \"13810\", \"14828\", \"15020\", \"15067\", \"15279\", \"357\", \"502\", \"505\", \"508\", \"512\", \"9418\", \"9556\", \"13399\", \"13648\", \"15399\"], \"type\": \"bar\"}], {}, {\"linkText\": \"Export to plot.ly\", \"showLink\": true})});</script>"
      ],
      "text/plain": [
       "<IPython.core.display.HTML object>"
      ]
     },
     "metadata": {},
     "output_type": "display_data"
    }
   ],
   "source": [
    "iplot([Bar(x=df.stop_id, y=df.usage)], filename='stop_id count')"
   ]
  },
  {
   "cell_type": "code",
   "execution_count": null,
   "metadata": {
    "collapsed": true
   },
   "outputs": [],
   "source": []
  },
  {
   "cell_type": "code",
   "execution_count": null,
   "metadata": {
    "collapsed": true
   },
   "outputs": [],
   "source": []
  }
 ],
 "metadata": {
  "kernelspec": {
   "display_name": "Python 2",
   "language": "python",
   "name": "python2"
  },
  "language_info": {
   "codemirror_mode": {
    "name": "ipython",
    "version": 2
   },
   "file_extension": ".py",
   "mimetype": "text/x-python",
   "name": "python",
   "nbconvert_exporter": "python",
   "pygments_lexer": "ipython2",
   "version": "2.7.12"
  }
 },
 "nbformat": 4,
 "nbformat_minor": 1
}
